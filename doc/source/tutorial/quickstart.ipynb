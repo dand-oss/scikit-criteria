{
 "cells": [
  {
   "cell_type": "markdown",
   "metadata": {},
   "source": [
    "# Quick Start\n",
    "\n",
    "This tutorial show how to create a scikit-criteria `Data` structure, and how to feed them inside different multicriteria decisions algorithms.\n",
    "\n",
    "\n",
    "## Conceptual Overview\n",
    "\n",
    "The multicriteria data are really complex thing; mostly because you need at least 2 totally disconected vectors to decribe your problem: A alternative matrix (`mtx`) and a vector that indicated the optimal sense of every criteria (`criteria`); also maybe you want to add weights to your criteria\n",
    "\n",
    "The `skcteria.Data` object need at least the first two to be created and also accepts the weights, the names of the criteria and the names of alternatives as optional parametes.\n",
    "\n",
    "## Your First Data object\n",
    "\n",
    "First we need to import the `Data` structure and the `MIN`, `MAX` contants from scikit-criteria:"
   ]
  },
  {
   "cell_type": "code",
   "execution_count": 1,
   "metadata": {
    "nbsphinx": "hidden"
   },
   "outputs": [],
   "source": [
    "%matplotlib inline"
   ]
  },
  {
   "cell_type": "code",
   "execution_count": 2,
   "metadata": {},
   "outputs": [],
   "source": [
    "from skcriteria import Data, MIN, MAX"
   ]
  },
  {
   "cell_type": "markdown",
   "metadata": {},
   "source": [
    "Then we need to create the `mtx` and `criteria` vectors. \n",
    "\n",
    "The `mtx` must be a **2D array-like** where every column is a criteria, and every row is an alternative"
   ]
  },
  {
   "cell_type": "code",
   "execution_count": 3,
   "metadata": {},
   "outputs": [
    {
     "data": {
      "text/plain": [
       "[[1, 2, 3], [4, 5, 6]]"
      ]
     },
     "execution_count": 3,
     "metadata": {},
     "output_type": "execute_result"
    }
   ],
   "source": [
    "# 2 alternatives by 3 criteria\n",
    "mtx = [\n",
    "    [1, 2, 3],  # alternative 1\n",
    "    [4, 5, 6],  # alternative 2\n",
    "]\n",
    "mtx"
   ]
  },
  {
   "cell_type": "markdown",
   "metadata": {},
   "source": [
    "The `criteria` vector must be a **1D array-like** with number of elements same as number of columns in the alternative matrix (`mtx`). Every component of the `criteria` vector represent the optimal sense of each criteria."
   ]
  },
  {
   "cell_type": "code",
   "execution_count": 4,
   "metadata": {},
   "outputs": [
    {
     "data": {
      "text/plain": [
       "[1, 1, -1]"
      ]
     },
     "execution_count": 4,
     "metadata": {},
     "output_type": "execute_result"
    }
   ],
   "source": [
    "# let's says the first two alternatives are \n",
    "# for maximization and the last one for minimization\n",
    "criteria = [MAX, MAX, MIN]\n",
    "criteria"
   ]
  },
  {
   "cell_type": "markdown",
   "metadata": {},
   "source": [
    "as you see the `MAX` and `MIN` constants are only aliases for the numbers `-1` (minimization) and `1` (maximization). As you can see the constants usage makes the code more readable. Also you can use as aliases of minimization and maximization the built-in function `min`, `max`, the numpy function `np.min`, `np.max`, `np.amin`, `np.amax`, `np.nanmin`, `np.nanmax` and the strings `min`, `minimization`, `max` and `maximization`.\n",
    "\n",
    "Now we can combine this two vectors in our scikit-criteria data."
   ]
  },
  {
   "cell_type": "code",
   "execution_count": 5,
   "metadata": {},
   "outputs": [
    {
     "data": {
      "text/html": [
       "<table>\n",
       "<thead>\n",
       "<tr><th style=\"text-align: center;\"> ALT./CRIT. </th><th style=\"text-align: center;\"> C0 (min) </th><th style=\"text-align: center;\"> C1 (max) </th><th style=\"text-align: center;\"> C2 (min) </th></tr>\n",
       "</thead>\n",
       "<tbody>\n",
       "<tr><td style=\"text-align: center;\">     A0     </td><td style=\"text-align: center;\">    1     </td><td style=\"text-align: center;\">    2     </td><td style=\"text-align: center;\">    3     </td></tr>\n",
       "<tr><td style=\"text-align: center;\">     A1     </td><td style=\"text-align: center;\">    4     </td><td style=\"text-align: center;\">    5     </td><td style=\"text-align: center;\">    6     </td></tr>\n",
       "</tbody>\n",
       "</table>"
      ],
      "text/plain": [
       " ALT./CRIT.    C0 (min)    C1 (max)    C2 (min)\n",
       "------------  ----------  ----------  ----------\n",
       "     A0           1           2           3\n",
       "     A1           4           5           6"
      ]
     },
     "execution_count": 5,
     "metadata": {},
     "output_type": "execute_result"
    }
   ],
   "source": [
    "# we use the built-in function as aliases\n",
    "data = Data(mtx, [min, max, min])  \n",
    "data"
   ]
  },
  {
   "cell_type": "markdown",
   "metadata": {},
   "source": [
    "As you can see the output of the `Data` structure is much more friendly than the plain python lists.\n",
    "\n",
    "To change the generic names of the alternatives (A0 and A1) and the criteria (C0, C1 and C2); let's assume that our Data is about cars (*car 0* and *car 1*) and their characteristics of evaluation are *autonomy* (`MAX`), *comfort* (`MAX`) and *price* (`MIN`). \n",
    "\n",
    "To feed this information to our `Data` structure we have the params: `anames` that accept the names of alternatives (must be the same number as the rows that `mtx` has), and `cnames` the criteria names (must have same number of elements with the columns that `mtx` has)"
   ]
  },
  {
   "cell_type": "code",
   "execution_count": 6,
   "metadata": {},
   "outputs": [
    {
     "data": {
      "text/html": [
       "<table>\n",
       "<thead>\n",
       "<tr><th style=\"text-align: center;\"> ALT./CRIT. </th><th style=\"text-align: center;\"> autonomy (max) </th><th style=\"text-align: center;\"> confort (max) </th><th style=\"text-align: center;\"> price (min) </th></tr>\n",
       "</thead>\n",
       "<tbody>\n",
       "<tr><td style=\"text-align: center;\">   car 0    </td><td style=\"text-align: center;\">       1        </td><td style=\"text-align: center;\">       2       </td><td style=\"text-align: center;\">      3      </td></tr>\n",
       "<tr><td style=\"text-align: center;\">   car 1    </td><td style=\"text-align: center;\">       4        </td><td style=\"text-align: center;\">       5       </td><td style=\"text-align: center;\">      6      </td></tr>\n",
       "</tbody>\n",
       "</table>"
      ],
      "text/plain": [
       " ALT./CRIT.    autonomy (max)    confort (max)    price (min)\n",
       "------------  ----------------  ---------------  -------------\n",
       "   car 0             1                 2               3\n",
       "   car 1             4                 5               6"
      ]
     },
     "execution_count": 6,
     "metadata": {},
     "output_type": "execute_result"
    }
   ],
   "source": [
    "data = Data(mtx, criteria, \n",
    "            anames=[\"car 0\", \"car 1\"], \n",
    "            cnames=[\"autonomy\", \"comfort\", \"price\"])\n",
    "data"
   ]
  },
  {
   "cell_type": "markdown",
   "metadata": {},
   "source": [
    "In our final step let's assume we know in our case, that the importance of the autonomy is the *50%*, the comfort only a *5%* and the price is *45%*. The param to feed this to the structure is called `weights` and must be a vector with the same elements as criterias on your alternative matrix (number of columns)"
   ]
  },
  {
   "cell_type": "code",
   "execution_count": 7,
   "metadata": {},
   "outputs": [
    {
     "data": {
      "text/html": [
       "<table>\n",
       "<thead>\n",
       "<tr><th style=\"text-align: center;\"> ALT./CRIT. </th><th style=\"text-align: center;\"> autonomy (max) W.0.5 </th><th style=\"text-align: center;\"> confort (max) W.0.05 </th><th style=\"text-align: center;\"> price (min) W.0.45 </th></tr>\n",
       "</thead>\n",
       "<tbody>\n",
       "<tr><td style=\"text-align: center;\">   car 0    </td><td style=\"text-align: center;\">          1           </td><td style=\"text-align: center;\">          2           </td><td style=\"text-align: center;\">         3          </td></tr>\n",
       "<tr><td style=\"text-align: center;\">   car 1    </td><td style=\"text-align: center;\">          4           </td><td style=\"text-align: center;\">          5           </td><td style=\"text-align: center;\">         6          </td></tr>\n",
       "</tbody>\n",
       "</table>"
      ],
      "text/plain": [
       " ALT./CRIT.    autonomy (max) W.0.5    confort (max) W.0.05    price (min) W.0.45\n",
       "------------  ----------------------  ----------------------  --------------------\n",
       "   car 0                1                       2                      3\n",
       "   car 1                4                       5                      6"
      ]
     },
     "execution_count": 7,
     "metadata": {},
     "output_type": "execute_result"
    }
   ],
   "source": [
    "data = Data(mtx, criteria, \n",
    "            weights=[.5, .05, .45],\n",
    "            anames=[\"car 0\", \"car 1\"], \n",
    "            cnames=[\"autonomy\", \"comfort\", \"price\"])\n",
    "data"
   ]
  },
  {
   "cell_type": "markdown",
   "metadata": {},
   "source": [
    "## Manipulating the Data\n",
    "\n",
    "The data object are immutable, if you want to modify it you need create a new one. All the numerical data (mtx, criteria, and weights) are stored as [numpy arrays](https://docs.scipy.org/doc/numpy/user/basics.creation.html), and the alternative and criteria names as python tuples.\n",
    "\n",
    "You can acces to the different parts of your data, simply by typing `data.<your-parameter-name>` for example:"
   ]
  },
  {
   "cell_type": "code",
   "execution_count": 8,
   "metadata": {},
   "outputs": [
    {
     "data": {
      "text/plain": [
       "array([[1, 2, 3],\n",
       "       [4, 5, 6]])"
      ]
     },
     "execution_count": 8,
     "metadata": {},
     "output_type": "execute_result"
    }
   ],
   "source": [
    "data.mtx"
   ]
  },
  {
   "cell_type": "code",
   "execution_count": 9,
   "metadata": {},
   "outputs": [
    {
     "data": {
      "text/plain": [
       "array([ 1,  1, -1])"
      ]
     },
     "execution_count": 9,
     "metadata": {},
     "output_type": "execute_result"
    }
   ],
   "source": [
    "data.criteria"
   ]
  },
  {
   "cell_type": "code",
   "execution_count": 10,
   "metadata": {},
   "outputs": [
    {
     "data": {
      "text/plain": [
       "array([0.5 , 0.05, 0.45])"
      ]
     },
     "execution_count": 10,
     "metadata": {},
     "output_type": "execute_result"
    }
   ],
   "source": [
    "data.weights"
   ]
  },
  {
   "cell_type": "code",
   "execution_count": 11,
   "metadata": {},
   "outputs": [
    {
     "data": {
      "text/plain": [
       "(('car 0', 'car 1'), ('autonomy', 'confort', 'price'))"
      ]
     },
     "execution_count": 11,
     "metadata": {},
     "output_type": "execute_result"
    }
   ],
   "source": [
    "data.anames, data.cnames"
   ]
  },
  {
   "cell_type": "markdown",
   "metadata": {},
   "source": [
    "If you want (for example) change the names of the cars from `car 0` and `car 1`; to `VW` and `Ford` you must copy from your original Data"
   ]
  },
  {
   "cell_type": "code",
   "execution_count": 12,
   "metadata": {},
   "outputs": [
    {
     "data": {
      "text/html": [
       "<table>\n",
       "<thead>\n",
       "<tr><th style=\"text-align: center;\"> ALT./CRIT. </th><th style=\"text-align: center;\"> autonomy (max) W.0.5 </th><th style=\"text-align: center;\"> confort (max) W.0.05 </th><th style=\"text-align: center;\"> price (min) W.0.45 </th></tr>\n",
       "</thead>\n",
       "<tbody>\n",
       "<tr><td style=\"text-align: center;\">     VW     </td><td style=\"text-align: center;\">          1           </td><td style=\"text-align: center;\">          2           </td><td style=\"text-align: center;\">         3          </td></tr>\n",
       "<tr><td style=\"text-align: center;\">    Ford    </td><td style=\"text-align: center;\">          4           </td><td style=\"text-align: center;\">          5           </td><td style=\"text-align: center;\">         6          </td></tr>\n",
       "</tbody>\n",
       "</table>"
      ],
      "text/plain": [
       " ALT./CRIT.    autonomy (max) W.0.5    confort (max) W.0.05    price (min) W.0.45\n",
       "------------  ----------------------  ----------------------  --------------------\n",
       "     VW                 1                       2                      3\n",
       "    Ford                4                       5                      6"
      ]
     },
     "execution_count": 12,
     "metadata": {},
     "output_type": "execute_result"
    }
   ],
   "source": [
    "data = Data(data.mtx, data.criteria, \n",
    "            weights=data.weights, \n",
    "            anames=[\"VW\", \"Ford\"],\n",
    "            cnames=data.cnames)\n",
    "data"
   ]
  },
  {
   "cell_type": "markdown",
   "metadata": {},
   "source": [
    "<div class=\"alert alert-info\">\n",
    "**Note:** A more flexible data manipulation API will relased in future versions.\n",
    "</div>"
   ]
  },
  {
   "cell_type": "markdown",
   "metadata": {},
   "source": [
    "## Plotting\n",
    "\n",
    "The Data structure suport some basic rutines for ploting. Actually 5 types of plots are supported:\n",
    "\n",
    "- [Radar Plot](http://www.datavizcatalogue.com/methods/radar_chart.html) (`radar`).\n",
    "- [Histogram](http://www.datavizcatalogue.com/methods/histogram.html) (`hist`).\n",
    "- [Violin Plot](http://www.datavizcatalogue.com/methods/violin_plot.html) (`violin`).\n",
    "- [Box Plot](http://www.datavizcatalogue.com/methods/box_plot.html) (`box`).\n",
    "- [Scatter Matrix](http://www.datavizcatalogue.com/methods/scatterplot.html) (`scatter`).\n",
    "\n",
    "The default scikit criteria uses the Radar Plot to visualize all the data. Take in account that the radar plot by default convert all the minimization criteria to maximization and push all the values to be greater than 1 (obviously all this options can be overided)."
   ]
  },
  {
   "cell_type": "code",
   "execution_count": 13,
   "metadata": {},
   "outputs": [
    {
     "data": {
      "image/png": "[encoded data removed]",
      "text/plain": [
       "<matplotlib.figure.Figure at 0x7f02e97efc18>"
      ]
     },
     "metadata": {},
     "output_type": "display_data"
    }
   ],
   "source": [
    "data.plot();"
   ]
  },
  {
   "cell_type": "markdown",
   "metadata": {},
   "source": [
    "You can accesing the different plot by passing as first parameter the name of the plot"
   ]
  },
  {
   "cell_type": "code",
   "execution_count": 14,
   "metadata": {},
   "outputs": [
    {
     "data": {
      "image/png": "[encoded data removed]",
      "text/plain": [
       "<matplotlib.figure.Figure at 0x7f02e9792c50>"
      ]
     },
     "metadata": {},
     "output_type": "display_data"
    }
   ],
   "source": [
    "data.plot(\"box\");"
   ]
  },
  {
   "cell_type": "markdown",
   "metadata": {},
   "source": [
    "or by using the name as method call inside the `plot` attribute"
   ]
  },
  {
   "cell_type": "code",
   "execution_count": 15,
   "metadata": {},
   "outputs": [
    {
     "data": {
      "image/png": "[encoded data removed]",
      "text/plain": [
       "<matplotlib.figure.Figure at 0x7f02e76e00f0>"
      ]
     },
     "metadata": {},
     "output_type": "display_data"
    }
   ],
   "source": [
    "data.plot.violin();"
   ]
  },
  {
   "cell_type": "markdown",
   "metadata": {},
   "source": [
    "Every plot has their own set of parameters, but at last every one can receive:\n",
    "\n",
    "- `ax`: The plot axis.\n",
    "- `cmap`: The color map ([More info](https://matplotlib.org/users/colormaps.html)).\n",
    "- `mnorm`: The normalization method for the alternative matrix as string (Default: `\"none\"`).\n",
    "- `wnorm`: The normalization method for the criteria array as string (Default: `\"none\"`).\n",
    "- `weighted`: If you want to weight the criteria (Default: `True`).\n",
    "- `show_criteria`: Show or not the criteria in the plot (Default: `True` in all except radar).\n",
    "- `min2max`: Convert the minimization criteria into maximization one (Default: `False` in all except radar).\n",
    "- `push_negatives`: If a criteria has values lesser than 0, add the minimun value to all the criteria \n",
    "  (Default: `False` in all except radar).\n",
    "- `addepsto0`: If a criteria has values equal to 0, add an $\\epsilon$ value to all the criteria \n",
    "  (Default: `False` in all except radar).\n",
    "  \n",
    "Let's change the colors of the radar plot and show their criteria optimization sense:"
   ]
  },
  {
   "cell_type": "code",
   "execution_count": 16,
   "metadata": {},
   "outputs": [
    {
     "data": {
      "image/png": "[encoded data removed]",
      "text/plain": [
       "<matplotlib.figure.Figure at 0x7f02e76bacf8>"
      ]
     },
     "metadata": {},
     "output_type": "display_data"
    }
   ],
   "source": [
    "data.plot.radar(cmap=\"inferno\", show_criteria=False);"
   ]
  },
  {
   "cell_type": "markdown",
   "metadata": {},
   "source": [
    "## Using this data to feed some MCDA methods\n",
    "\n",
    "Let's rank our dummy data by [Weighted Sum Model](https://en.wikipedia.org/wiki/Weighted_sum_model), [Weighted Product Model](https://en.wikipedia.org/wiki/Weighted_product_model) and [TOPSIS](https://en.wikipedia.org/wiki/TOPSIS)"
   ]
  },
  {
   "cell_type": "code",
   "execution_count": 17,
   "metadata": {},
   "outputs": [],
   "source": [
    "from skcriteria.madm import closeness, simple"
   ]
  },
  {
   "cell_type": "markdown",
   "metadata": {},
   "source": [
    "First you need to create the decision maker.\n",
    "\n",
    "Most of methods accepts hyper parameters (parameters of the to configure the method) as following:\n",
    "1. the method of normalization of the alternative matrix\n",
    "  - in Weighted Sum and Weighted Product we use divided by the `sum` normalization\n",
    "  - in `Topsis` we can also use the `vector` normalization\n",
    "2. the method to normalize the weight array (normally `sum`); \n",
    "But complex methods has more.\n",
    "\n",
    "### Weighted Sum Model:"
   ]
  },
  {
   "cell_type": "code",
   "execution_count": 18,
   "metadata": {},
   "outputs": [
    {
     "data": {
      "text/plain": [
       "<WeightedSum (mnorm=sum, wnorm=sum)>"
      ]
     },
     "execution_count": 18,
     "metadata": {},
     "output_type": "execute_result"
    }
   ],
   "source": [
    "# first create the decision maker \n",
    "# (with the default hiper parameters)\n",
    "dm = simple.WeightedSum()\n",
    "dm"
   ]
  },
  {
   "cell_type": "code",
   "execution_count": 19,
   "metadata": {},
   "outputs": [
    {
     "data": {
      "text/html": [
       "<div id='dec-a37094cc-75d0-11e8-8d16-d85de264446f'><p><b>WeightedSum (mnorm=sum, wnorm=sum) - Solution:</b></p><table>\n",
       "<thead>\n",
       "<tr><th style=\"text-align: center;\"> ALT./CRIT. </th><th style=\"text-align: center;\"> autonomy (max) W.0.5 </th><th style=\"text-align: center;\"> confort (max) W.0.05 </th><th style=\"text-align: center;\"> price (min) W.0.45 </th><th style=\"text-align: center;\"> Rank </th></tr>\n",
       "</thead>\n",
       "<tbody>\n",
       "<tr><td style=\"text-align: center;\">     VW     </td><td style=\"text-align: center;\">          1           </td><td style=\"text-align: center;\">          2           </td><td style=\"text-align: center;\">         3          </td><td style=\"text-align: center;\">  1   </td></tr>\n",
       "<tr><td style=\"text-align: center;\">    Ford    </td><td style=\"text-align: center;\">          4           </td><td style=\"text-align: center;\">          5           </td><td style=\"text-align: center;\">         6          </td><td style=\"text-align: center;\">  2   </td></tr>\n",
       "</tbody>\n",
       "</table></div>"
      ],
      "text/plain": [
       "WeightedSum (mnorm=sum, wnorm=sum) - Solution:\n",
       " ALT./CRIT.    autonomy (max) W.0.5    confort (max) W.0.05    price (min) W.0.45    Rank\n",
       "------------  ----------------------  ----------------------  --------------------  ------\n",
       "     VW                 1                       2                      3              1\n",
       "    Ford                4                       5                      6              2"
      ]
     },
     "execution_count": 19,
     "metadata": {},
     "output_type": "execute_result"
    }
   ],
   "source": [
    "# Now lets decide the ranking\n",
    "dec = dm.decide(data)\n",
    "dec"
   ]
  },
  {
   "cell_type": "markdown",
   "metadata": {},
   "source": [
    "The result says that the **VW** is better than the **FORD**, lets make the maths:\n",
    "\n",
    "<div class=\"alert alert-info\">\n",
    "**Note:** The last criteria is for minimization and because the WeightedSumModel only accepts maximization criteria by default, scikit-criteria invert all the values to convert the criteria to maximization\n",
    "</div>"
   ]
  },
  {
   "cell_type": "code",
   "execution_count": 20,
   "metadata": {},
   "outputs": [
    {
     "name": "stdout",
     "output_type": "stream",
     "text": [
      "VW: 1.4642857142857144\n",
      "FORD: 1.1107142857142858\n"
     ]
    }
   ],
   "source": [
    "print(\"VW:\", 0.5 * 1/5. + 0.05 * 2/7. + 0.45 * 1 / (3/9.))\n",
    "print(\"FORD:\", 0.5 * 4/5. + 0.05 * 5/7. + 0.45 * 1 / (6/9.))"
   ]
  },
  {
   "cell_type": "markdown",
   "metadata": {},
   "source": [
    "If you want to acces this points, the `Decision` object stores all the particular information of every method in a \n",
    "attribute called `e_`"
   ]
  },
  {
   "cell_type": "code",
   "execution_count": 21,
   "metadata": {},
   "outputs": [
    {
     "name": "stdout",
     "output_type": "stream",
     "text": [
      "Extra(points)\n"
     ]
    },
    {
     "data": {
      "text/plain": [
       "array([1.46428571, 1.11071429])"
      ]
     },
     "execution_count": 21,
     "metadata": {},
     "output_type": "execute_result"
    }
   ],
   "source": [
    "print(dec.e_)\n",
    "dec.e_.points"
   ]
  },
  {
   "cell_type": "markdown",
   "metadata": {},
   "source": [
    "Also you can acces the type of the solution"
   ]
  },
  {
   "cell_type": "code",
   "execution_count": 22,
   "metadata": {},
   "outputs": [
    {
     "name": "stdout",
     "output_type": "stream",
     "text": [
      "Generate a ranking of alternatives? True\n",
      "Generate a kernel of best alternatives? False\n",
      "Choose the best alternative? True\n"
     ]
    }
   ],
   "source": [
    "print(\"Generate a ranking of alternatives?\", dec.alpha_solution_)\n",
    "print(\"Generate a kernel of best alternatives?\", dec.beta_solution_)\n",
    "print(\"Choose the best alternative?\", dec.gamma_solution_)"
   ]
  },
  {
   "cell_type": "markdown",
   "metadata": {},
   "source": [
    "The rank as numpy array (if this decision is a $\\alpha$-solution / alpha solution)"
   ]
  },
  {
   "cell_type": "code",
   "execution_count": 23,
   "metadata": {},
   "outputs": [
    {
     "data": {
      "text/plain": [
       "array([1, 2])"
      ]
     },
     "execution_count": 23,
     "metadata": {},
     "output_type": "execute_result"
    }
   ],
   "source": [
    "dec.rank_"
   ]
  },
  {
   "cell_type": "markdown",
   "metadata": {},
   "source": [
    "The index of the row of the best alternative (if this decision is a $\\gamma$-solution / gamma solution)"
   ]
  },
  {
   "cell_type": "code",
   "execution_count": 24,
   "metadata": {},
   "outputs": [
    {
     "data": {
      "text/plain": [
       "(0, 'VW')"
      ]
     },
     "execution_count": 24,
     "metadata": {},
     "output_type": "execute_result"
    }
   ],
   "source": [
    "dec.best_alternative_, data.anames[dec.best_alternative_]"
   ]
  },
  {
   "cell_type": "markdown",
   "metadata": {},
   "source": [
    "And the kernel of the non supered alternatives (if this decision is a  $\\beta$-solution / beta solution)"
   ]
  },
  {
   "cell_type": "code",
   "execution_count": 25,
   "metadata": {},
   "outputs": [
    {
     "name": "stdout",
     "output_type": "stream",
     "text": [
      "None\n"
     ]
    }
   ],
   "source": [
    "# this return None because this \n",
    "# decision is not a beta-solution\n",
    "print(dec.kernel_)"
   ]
  },
  {
   "cell_type": "markdown",
   "metadata": {},
   "source": [
    "### Weighted Product Model"
   ]
  },
  {
   "cell_type": "code",
   "execution_count": 26,
   "metadata": {},
   "outputs": [
    {
     "data": {
      "text/plain": [
       "<WeightedProduct (mnorm=sum, wnorm=sum)>"
      ]
     },
     "execution_count": 26,
     "metadata": {},
     "output_type": "execute_result"
    }
   ],
   "source": [
    "dm = simple.WeightedProduct()\n",
    "dm"
   ]
  },
  {
   "cell_type": "code",
   "execution_count": 27,
   "metadata": {},
   "outputs": [
    {
     "data": {
      "text/html": [
       "<div id='dec-a37094cd-75d0-11e8-8d16-d85de264446f'><p><b>WeightedProduct (mnorm=sum, wnorm=sum) - Solution:</b></p><table>\n",
       "<thead>\n",
       "<tr><th style=\"text-align: center;\"> ALT./CRIT. </th><th style=\"text-align: center;\"> autonomy (max) W.0.5 </th><th style=\"text-align: center;\"> confort (max) W.0.05 </th><th style=\"text-align: center;\"> price (min) W.0.45 </th><th style=\"text-align: center;\"> Rank </th></tr>\n",
       "</thead>\n",
       "<tbody>\n",
       "<tr><td style=\"text-align: center;\">     VW     </td><td style=\"text-align: center;\">          1           </td><td style=\"text-align: center;\">          2           </td><td style=\"text-align: center;\">         3          </td><td style=\"text-align: center;\">  2   </td></tr>\n",
       "<tr><td style=\"text-align: center;\">    Ford    </td><td style=\"text-align: center;\">          4           </td><td style=\"text-align: center;\">          5           </td><td style=\"text-align: center;\">         6          </td><td style=\"text-align: center;\">  1   </td></tr>\n",
       "</tbody>\n",
       "</table></div>"
      ],
      "text/plain": [
       "WeightedProduct (mnorm=sum, wnorm=sum) - Solution:\n",
       " ALT./CRIT.    autonomy (max) W.0.5    confort (max) W.0.05    price (min) W.0.45    Rank\n",
       "------------  ----------------------  ----------------------  --------------------  ------\n",
       "     VW                 1                       2                      3              2\n",
       "    Ford                4                       5                      6              1"
      ]
     },
     "execution_count": 27,
     "metadata": {},
     "output_type": "execute_result"
    }
   ],
   "source": [
    "dec = dm.decide(data)\n",
    "dec"
   ]
  },
  {
   "cell_type": "markdown",
   "metadata": {},
   "source": [
    "As before let's do the math (remember the weights are now exponents)"
   ]
  },
  {
   "cell_type": "code",
   "execution_count": 28,
   "metadata": {},
   "outputs": [
    {
     "name": "stdout",
     "output_type": "stream",
     "text": [
      "VW: 2.059534375567646\n",
      "FORD: 2.07967086650222\n"
     ]
    }
   ],
   "source": [
    "print(\"VW:\", ((1/5.) ** 0.5) * ((2/7.) ** 0.05) + ((1 / (3/9.)) ** 0.45))\n",
    "print(\"FORD:\", ((4/5.) ** 0.5) * ((5/7.) ** 0.05) + ((1 / (6/9.)) ** 0.45))"
   ]
  },
  {
   "cell_type": "markdown",
   "metadata": {},
   "source": [
    "As wee expected the **Ford** are little better than the **VW**. Now lets theck the `e_` object"
   ]
  },
  {
   "cell_type": "code",
   "execution_count": 29,
   "metadata": {},
   "outputs": [
    {
     "name": "stdout",
     "output_type": "stream",
     "text": [
      "Extra(points)\n"
     ]
    },
    {
     "data": {
      "text/plain": [
       "array([-0.16198384,  0.02347966])"
      ]
     },
     "execution_count": 29,
     "metadata": {},
     "output_type": "execute_result"
    }
   ],
   "source": [
    "print(dec.e_)\n",
    "dec.e_.points"
   ]
  },
  {
   "cell_type": "markdown",
   "metadata": {},
   "source": [
    "As you note the points are differents, this is because internally to avoid [undeflows](https://en.wikipedia.org/wiki/Arithmetic_underflow) Scikit-Criteria uses a sums of logarithms\n",
    "instead products. So let's check"
   ]
  },
  {
   "cell_type": "code",
   "execution_count": 30,
   "metadata": {},
   "outputs": [
    {
     "name": "stdout",
     "output_type": "stream",
     "text": [
      "VW: -0.16198383976167505\n",
      "FORD: 0.023479658287116456\n"
     ]
    }
   ],
   "source": [
    "import numpy as np\n",
    "print(\"VW:\", 0.5 * np.log10(1/5.) + 0.05 * np.log10(2/7.) + 0.45 * np.log10(1 / (3/9.)))\n",
    "print(\"FORD:\", 0.5 * np.log10(4/5.) + 0.05 * np.log10(5/7.) + 0.45 * np.log10(1 / (6/9.)))"
   ]
  },
  {
   "cell_type": "markdown",
   "metadata": {},
   "source": [
    "### TOPSIS"
   ]
  },
  {
   "cell_type": "code",
   "execution_count": 31,
   "metadata": {},
   "outputs": [
    {
     "data": {
      "text/plain": [
       "<TOPSIS (mnorm=vector, wnorm=sum)>"
      ]
     },
     "execution_count": 31,
     "metadata": {},
     "output_type": "execute_result"
    }
   ],
   "source": [
    "dm = closeness.TOPSIS()\n",
    "dm"
   ]
  },
  {
   "cell_type": "code",
   "execution_count": 32,
   "metadata": {},
   "outputs": [
    {
     "data": {
      "text/html": [
       "<div id='dec-a37094ce-75d0-11e8-8d16-d85de264446f'><p><b>TOPSIS (mnorm=vector, wnorm=sum) - Solution:</b></p><table>\n",
       "<thead>\n",
       "<tr><th style=\"text-align: center;\"> ALT./CRIT. </th><th style=\"text-align: center;\"> autonomy (max) W.0.5 </th><th style=\"text-align: center;\"> confort (max) W.0.05 </th><th style=\"text-align: center;\"> price (min) W.0.45 </th><th style=\"text-align: center;\"> Rank </th></tr>\n",
       "</thead>\n",
       "<tbody>\n",
       "<tr><td style=\"text-align: center;\">     VW     </td><td style=\"text-align: center;\">          1           </td><td style=\"text-align: center;\">          2           </td><td style=\"text-align: center;\">         3          </td><td style=\"text-align: center;\">  2   </td></tr>\n",
       "<tr><td style=\"text-align: center;\">    Ford    </td><td style=\"text-align: center;\">          4           </td><td style=\"text-align: center;\">          5           </td><td style=\"text-align: center;\">         6          </td><td style=\"text-align: center;\">  1   </td></tr>\n",
       "</tbody>\n",
       "</table></div>"
      ],
      "text/plain": [
       "TOPSIS (mnorm=vector, wnorm=sum) - Solution:\n",
       " ALT./CRIT.    autonomy (max) W.0.5    confort (max) W.0.05    price (min) W.0.45    Rank\n",
       "------------  ----------------------  ----------------------  --------------------  ------\n",
       "     VW                 1                       2                      3              2\n",
       "    Ford                4                       5                      6              1"
      ]
     },
     "execution_count": 32,
     "metadata": {},
     "output_type": "execute_result"
    }
   ],
   "source": [
    "dec = dm.decide(data)\n",
    "dec"
   ]
  },
  {
   "cell_type": "markdown",
   "metadata": {},
   "source": [
    "The TOPSIS add more information into the decision object."
   ]
  },
  {
   "cell_type": "code",
   "execution_count": 33,
   "metadata": {},
   "outputs": [
    {
     "name": "stdout",
     "output_type": "stream",
     "text": [
      "Extra(ideal, anti_ideal, closeness)\n",
      "Ideal: [0.48507125 0.04642383 0.20124612]\n",
      "Anti-Ideal: [0.12126781 0.01856953 0.40249224]\n",
      "Closeness: [0.35548671 0.64451329]\n"
     ]
    }
   ],
   "source": [
    "print(dec.e_)\n",
    "print(\"Ideal:\", dec.e_.ideal)\n",
    "print(\"Anti-Ideal:\", dec.e_.anti_ideal)\n",
    "print(\"Closeness:\", dec.e_.closeness)"
   ]
  },
  {
   "cell_type": "markdown",
   "metadata": {},
   "source": [
    "Where the `ideal` and `anti_ideal` are the normalizated sintetic better and worst altenatives created by TOPSIS, and the `closeness` is how far from the *anti-ideal* and how closer to the *ideal* are the real alternatives"
   ]
  },
  {
   "cell_type": "markdown",
   "metadata": {},
   "source": [
    "Finally we can change the normalization criteria of the alternative matric to `sum` (divide every value by the sum opf their criteria) and check the result:"
   ]
  },
  {
   "cell_type": "code",
   "execution_count": 34,
   "metadata": {},
   "outputs": [
    {
     "data": {
      "text/plain": [
       "<TOPSIS (mnorm=sum, wnorm=sum)>"
      ]
     },
     "execution_count": 34,
     "metadata": {},
     "output_type": "execute_result"
    }
   ],
   "source": [
    "dm = closeness.TOPSIS(mnorm=\"sum\")\n",
    "dm"
   ]
  },
  {
   "cell_type": "code",
   "execution_count": 35,
   "metadata": {},
   "outputs": [
    {
     "data": {
      "text/html": [
       "<div id='dec-a37094cf-75d0-11e8-8d16-d85de264446f'><p><b>TOPSIS (mnorm=sum, wnorm=sum) - Solution:</b></p><table>\n",
       "<thead>\n",
       "<tr><th style=\"text-align: center;\"> ALT./CRIT. </th><th style=\"text-align: center;\"> autonomy (max) W.0.5 </th><th style=\"text-align: center;\"> confort (max) W.0.05 </th><th style=\"text-align: center;\"> price (min) W.0.45 </th><th style=\"text-align: center;\"> Rank </th></tr>\n",
       "</thead>\n",
       "<tbody>\n",
       "<tr><td style=\"text-align: center;\">     VW     </td><td style=\"text-align: center;\">          1           </td><td style=\"text-align: center;\">          2           </td><td style=\"text-align: center;\">         3          </td><td style=\"text-align: center;\">  2   </td></tr>\n",
       "<tr><td style=\"text-align: center;\">    Ford    </td><td style=\"text-align: center;\">          4           </td><td style=\"text-align: center;\">          5           </td><td style=\"text-align: center;\">         6          </td><td style=\"text-align: center;\">  1   </td></tr>\n",
       "</tbody>\n",
       "</table></div>"
      ],
      "text/plain": [
       "TOPSIS (mnorm=sum, wnorm=sum) - Solution:\n",
       " ALT./CRIT.    autonomy (max) W.0.5    confort (max) W.0.05    price (min) W.0.45    Rank\n",
       "------------  ----------------------  ----------------------  --------------------  ------\n",
       "     VW                 1                       2                      3              2\n",
       "    Ford                4                       5                      6              1"
      ]
     },
     "execution_count": 35,
     "metadata": {},
     "output_type": "execute_result"
    }
   ],
   "source": [
    "dm.decide(data)"
   ]
  },
  {
   "cell_type": "markdown",
   "metadata": {},
   "source": [
    "The rankin has changed so, we can compare the two normalization by plotting"
   ]
  },
  {
   "cell_type": "code",
   "execution_count": 36,
   "metadata": {},
   "outputs": [
    {
     "data": {
      "image/png": "[encoded data removed]",
      "text/plain": [
       "<matplotlib.figure.Figure at 0x7f02e03514e0>"
      ]
     },
     "metadata": {},
     "output_type": "display_data"
    }
   ],
   "source": [
    "import matplotlib.pyplot as plt\n",
    "\n",
    "f, (ax1, ax2) = plt.subplots(1, 2, sharey=True)\n",
    "ax1.set_title(\"Sum Norm\")\n",
    "data.plot.violin(mnorm=\"sum\", ax=ax1);\n",
    "\n",
    "ax2.set_title(\"Vector Norm\")\n",
    "data.plot.violin(mnorm=\"vector\", ax=ax2);\n",
    "f.set_figwidth(15)"
   ]
  },
  {
   "cell_type": "code",
   "execution_count": 37,
   "metadata": {},
   "outputs": [
    {
     "name": "stdout",
     "output_type": "stream",
     "text": [
      "Scikit-Criteria version: 0.2.10\n",
      "Running datetime: 2018-06-22 00:59:20.974570\n"
     ]
    }
   ],
   "source": [
    "import datetime as dt\n",
    "import skcriteria\n",
    "print(\"Scikit-Criteria version:\", skcriteria.VERSION)\n",
    "print(\"Running datetime:\", dt.datetime.now())"
   ]
  }
 ],
 "metadata": {
  "celltoolbar": "Edit Metadata",
  "kernelspec": {
   "display_name": "Python 3",
   "language": "python",
   "name": "python3"
  },
  "language_info": {
   "codemirror_mode": {
    "name": "ipython",
    "version": 3
   },
   "file_extension": ".py",
   "mimetype": "text/x-python",
   "name": "python",
   "nbconvert_exporter": "python",
   "pygments_lexer": "ipython3",
   "version": "3.6.3"
  }
 },
 "nbformat": 4,
 "nbformat_minor": 2
}
