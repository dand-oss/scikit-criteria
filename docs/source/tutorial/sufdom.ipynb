{
 "cells": [
  {
   "cell_type": "markdown",
   "metadata": {},
   "source": [
    "# Dominance and satisfaction anlysis (AKA filters)\n",
    "\n",
    "Se ejemplifica a continuación un ejemplo práctico de como filtrar alternativas\n",
    "que sean dominadas, o que \n",
    "\n",
    "\n",
    "## Conceptual overview\n",
    "\n",
    "A fin de decidir comprar una serie de bonos, una empresa estudió cinco \n",
    "inversiones candidatas: *PE*, *JN*, *AA*, *FX*, *MM* y *GN*. \n",
    "El departamento de finanzas decide considerar los siguientes criterios para la \n",
    "selección:\n",
    "\n",
    "1. **ROE:** Rendimiento porcentual por cada peso invertido. Sentido de optimidad, $Maximize$.\n",
    "2. **CAP:** Años de capitalización en el mercado. Sentido de optimidad, $Maximize$.  \n",
    "3. **RI:** Puntos de riesgo del título valor. Sentido de optimidad, $Minimize$. \n",
    "\n",
    "The full decision matrix"
   ]
  },
  {
   "cell_type": "code",
   "execution_count": 1,
   "metadata": {},
   "outputs": [
    {
     "data": {
      "text/html": [
       "<div class=\"decisionmatrix\">\n",
       "<div>\n",
       "<style scoped=\"\">\n",
       "    .dataframe tbody tr th:only-of-type {\n",
       "        vertical-align: middle;\n",
       "    }\n",
       "\n",
       "    .dataframe tbody tr th {\n",
       "        vertical-align: top;\n",
       "    }\n",
       "\n",
       "    .dataframe thead th {\n",
       "        text-align: right;\n",
       "    }\n",
       "</style>\n",
       "<table border=\"1\" class=\"dataframe\">\n",
       "  <thead>\n",
       "    <tr style=\"text-align: right;\">\n",
       "      <th/>\n",
       "      <th>ROE[▲ 1.0]</th>\n",
       "      <th>CAP[▲ 1.0]</th>\n",
       "      <th>RI[▼ 1.0]</th>\n",
       "    </tr>\n",
       "  </thead>\n",
       "  <tbody>\n",
       "    <tr>\n",
       "      <th>PE</th>\n",
       "      <td>7</td>\n",
       "      <td>5</td>\n",
       "      <td>35</td>\n",
       "    </tr>\n",
       "    <tr>\n",
       "      <th>JN</th>\n",
       "      <td>5</td>\n",
       "      <td>4</td>\n",
       "      <td>26</td>\n",
       "    </tr>\n",
       "    <tr>\n",
       "      <th>AA</th>\n",
       "      <td>5</td>\n",
       "      <td>6</td>\n",
       "      <td>28</td>\n",
       "    </tr>\n",
       "    <tr>\n",
       "      <th>FX</th>\n",
       "      <td>3</td>\n",
       "      <td>4</td>\n",
       "      <td>36</td>\n",
       "    </tr>\n",
       "    <tr>\n",
       "      <th>MM</th>\n",
       "      <td>1</td>\n",
       "      <td>7</td>\n",
       "      <td>30</td>\n",
       "    </tr>\n",
       "    <tr>\n",
       "      <th>FN</th>\n",
       "      <td>5</td>\n",
       "      <td>8</td>\n",
       "      <td>30</td>\n",
       "    </tr>\n",
       "  </tbody>\n",
       "</table>\n",
       "</div><em class=\"decisionmatrix-dim\">6 Alternatives x 3 Criteria</em>\n",
       "</div>"
      ],
      "text/plain": [
       "   ROE[▲ 1.0] CAP[▲ 1.0] RI[▼ 1.0]\n",
       "PE          7          5        35\n",
       "JN          5          4        26\n",
       "AA          5          6        28\n",
       "FX          3          4        36\n",
       "MM          1          7        30\n",
       "FN          5          8        30\n",
       "[6 Alternatives x 3 Criteria]"
      ]
     },
     "execution_count": 1,
     "metadata": {},
     "output_type": "execute_result"
    }
   ],
   "source": [
    "import skcriteria as skc\n",
    "\n",
    "dm = skc.mkdm(\n",
    "    matrix=[\n",
    "        [7, 5, 35],\n",
    "        [5, 4, 26],\n",
    "        [5, 6, 28],\n",
    "        [3, 4, 36],\n",
    "        [1, 7, 30],\n",
    "        [5, 8, 30],\n",
    "    ],\n",
    "    objectives=[max, max, min],\n",
    "    alternatives=[\"PE\", \"JN\", \"AA\", \"FX\", \"MM\", \"FN\"],\n",
    "    criteria=[\"ROE\", \"CAP\", \"RI\"],\n",
    ")\n",
    "\n",
    "dm"
   ]
  },
  {
   "cell_type": "markdown",
   "metadata": {},
   "source": [
    "## Satisfaction analysis\n",
    "\n",
    "Es razonable pensar que cualquier decisor quiera fijar  “umbrales de \n",
    "satisfacción” para cada criterio, de manera tal \n",
    "que se eliminen las alternativas que en algún criterio no los superan.\n",
    "\n",
    "La idea básica fue propuesta en el trabajo \n",
    "\"_A Behavioral Model of Rational Choice_\" \n",
    "<cite data-cite=\"simon1955behavioral\">[simon1955behavioral]</cite>, que habla \n",
    "de  “*niveles de aspiración*”  y son fijados a priori por el decisor.\n",
    "\n",
    "> Para nuestro ejemplo supondremos que el decisor solo se acepta alternativas \n",
    "> que rindan al menos el 2%\n",
    "\n",
    "Por esto vamos a necesitar el modulo `filters`."
   ]
  },
  {
   "cell_type": "code",
   "execution_count": 2,
   "metadata": {},
   "outputs": [],
   "source": [
    "from skcriteria.preprocessing import filters"
   ]
  },
  {
   "cell_type": "markdown",
   "metadata": {},
   "source": [
    "Los filtros operan de la siguiente manera:\n",
    "\n",
    "- Al momento de contrucción se les probee de un dict que como llave tiene\n",
    "  el nombre de un criterio, y como valor la condiccion que debe satisfacer\n",
    "  el criterio para no ser elmiminaado.\n",
    "- Opcionalmente recibe un parametro `ignore_missing_criteria` el cual si esta\n",
    "  en False (valor por defecto) hace fallar cualquier intento de transformacion\n",
    "  de una matriz que no tenga alguno de los criterios .\n",
    "- Para que una alternativa no sea eliminada la alternativa tiene que pasar \n",
    "  todas las condiciones del filtro.\n",
    "\n",
    "El filtro mas simple, consiste los objetos de la clase ``filters.Filter``\n",
    "los cuales como valor del map a satisfacer, reciben una funcion que recibe\n",
    "como parámetro el criterio a evaluar y retorna una mascara con valores `True`\n",
    "para los criterios que queremos mantener.\n",
    "\n",
    "Para escribir la funcion que filtre *ROE* para si su valor es >= que 2%."
   ]
  },
  {
   "cell_type": "code",
   "execution_count": 3,
   "metadata": {},
   "outputs": [],
   "source": [
    "def roe_filter(v):\n",
    "    return v >= 2  # como v es un numpy array esto es bastante corto"
   ]
  },
  {
   "cell_type": "markdown",
   "metadata": {},
   "source": [
    "Ahora si queremos incorporarlo al filtro, el código quedaria de la siguiente\n",
    "forma"
   ]
  },
  {
   "cell_type": "code",
   "execution_count": 4,
   "metadata": {},
   "outputs": [
    {
     "data": {
      "text/plain": [
       "Filter(criteria_filters={'ROE': <function roe_filter at 0x7fd27f958dc0>}, ignore_missing_criteria=False)"
      ]
     },
     "execution_count": 4,
     "metadata": {},
     "output_type": "execute_result"
    }
   ],
   "source": [
    "flt =  filters.Filter({\"ROE\": roe_filter})\n",
    "flt"
   ]
  },
  {
   "cell_type": "markdown",
   "metadata": {},
   "source": [
    "De todas formas `scikit-criteria` ofrece una coleccion de filtros mas simple\n",
    "que implementas las operaciones mas comunes de igualdad, desigualdad\n",
    "e inclusion en un conjunto.\n",
    "\n",
    "En nuestro claso estamos interesados en la clase `FilterGE`, donde GE significa\n",
    "*Greater or Equal*.\n",
    "\n",
    "Asi el filtro quedaria definido como"
   ]
  },
  {
   "cell_type": "code",
   "execution_count": 5,
   "metadata": {},
   "outputs": [
    {
     "data": {
      "text/plain": [
       "FilterGE(criteria_filters={'ROE': 2}, ignore_missing_criteria=False)"
      ]
     },
     "execution_count": 5,
     "metadata": {},
     "output_type": "execute_result"
    }
   ],
   "source": [
    "flt = filters.FilterGE({\"ROE\": 2})\n",
    "flt"
   ]
  },
  {
   "cell_type": "markdown",
   "metadata": {},
   "source": [
    "La forma de aplicar el filtro a una DecisionMatrix, es como cualquier \n",
    "transformador: utilizando el metodo transform:"
   ]
  },
  {
   "cell_type": "code",
   "execution_count": 6,
   "metadata": {},
   "outputs": [
    {
     "data": {
      "text/html": [
       "<div class=\"decisionmatrix\">\n",
       "<div>\n",
       "<style scoped=\"\">\n",
       "    .dataframe tbody tr th:only-of-type {\n",
       "        vertical-align: middle;\n",
       "    }\n",
       "\n",
       "    .dataframe tbody tr th {\n",
       "        vertical-align: top;\n",
       "    }\n",
       "\n",
       "    .dataframe thead th {\n",
       "        text-align: right;\n",
       "    }\n",
       "</style>\n",
       "<table border=\"1\" class=\"dataframe\">\n",
       "  <thead>\n",
       "    <tr style=\"text-align: right;\">\n",
       "      <th/>\n",
       "      <th>ROE[▲ 1.0]</th>\n",
       "      <th>CAP[▲ 1.0]</th>\n",
       "      <th>RI[▼ 1.0]</th>\n",
       "    </tr>\n",
       "  </thead>\n",
       "  <tbody>\n",
       "    <tr>\n",
       "      <th>PE</th>\n",
       "      <td>7</td>\n",
       "      <td>5</td>\n",
       "      <td>35</td>\n",
       "    </tr>\n",
       "    <tr>\n",
       "      <th>JN</th>\n",
       "      <td>5</td>\n",
       "      <td>4</td>\n",
       "      <td>26</td>\n",
       "    </tr>\n",
       "    <tr>\n",
       "      <th>AA</th>\n",
       "      <td>5</td>\n",
       "      <td>6</td>\n",
       "      <td>28</td>\n",
       "    </tr>\n",
       "    <tr>\n",
       "      <th>FX</th>\n",
       "      <td>3</td>\n",
       "      <td>4</td>\n",
       "      <td>36</td>\n",
       "    </tr>\n",
       "    <tr>\n",
       "      <th>FN</th>\n",
       "      <td>5</td>\n",
       "      <td>8</td>\n",
       "      <td>30</td>\n",
       "    </tr>\n",
       "  </tbody>\n",
       "</table>\n",
       "</div><em class=\"decisionmatrix-dim\">5 Alternatives x 3 Criteria</em>\n",
       "</div>"
      ],
      "text/plain": [
       "   ROE[▲ 1.0] CAP[▲ 1.0] RI[▼ 1.0]\n",
       "PE          7          5        35\n",
       "JN          5          4        26\n",
       "AA          5          6        28\n",
       "FX          3          4        36\n",
       "FN          5          8        30\n",
       "[5 Alternatives x 3 Criteria]"
      ]
     },
     "execution_count": 6,
     "metadata": {},
     "output_type": "execute_result"
    }
   ],
   "source": [
    "dmf = flt.transform(dm)\n",
    "dmf"
   ]
  },
  {
   "cell_type": "markdown",
   "metadata": {},
   "source": [
    "Como se puede, verse se elimino la alternativa `MM` la cual no cumplia con un\n",
    "$ROE >= 2$.\n",
    "\n",
    "Si por otro lado (por poner un ejemplo) quisieramos  filtrar las alternativas\n",
    "$ROE > 3$ y $CAP > 4$ (utilizando la matriz original), podemos utilizar\n",
    "el filtro `FilterGT` donde GT es *Greater Than*."
   ]
  },
  {
   "cell_type": "code",
   "execution_count": 7,
   "metadata": {},
   "outputs": [
    {
     "data": {
      "text/html": [
       "<div class=\"decisionmatrix\">\n",
       "<div>\n",
       "<style scoped=\"\">\n",
       "    .dataframe tbody tr th:only-of-type {\n",
       "        vertical-align: middle;\n",
       "    }\n",
       "\n",
       "    .dataframe tbody tr th {\n",
       "        vertical-align: top;\n",
       "    }\n",
       "\n",
       "    .dataframe thead th {\n",
       "        text-align: right;\n",
       "    }\n",
       "</style>\n",
       "<table border=\"1\" class=\"dataframe\">\n",
       "  <thead>\n",
       "    <tr style=\"text-align: right;\">\n",
       "      <th/>\n",
       "      <th>ROE[▲ 1.0]</th>\n",
       "      <th>CAP[▲ 1.0]</th>\n",
       "      <th>RI[▼ 1.0]</th>\n",
       "    </tr>\n",
       "  </thead>\n",
       "  <tbody>\n",
       "    <tr>\n",
       "      <th>PE</th>\n",
       "      <td>7</td>\n",
       "      <td>5</td>\n",
       "      <td>35</td>\n",
       "    </tr>\n",
       "    <tr>\n",
       "      <th>AA</th>\n",
       "      <td>5</td>\n",
       "      <td>6</td>\n",
       "      <td>28</td>\n",
       "    </tr>\n",
       "    <tr>\n",
       "      <th>FN</th>\n",
       "      <td>5</td>\n",
       "      <td>8</td>\n",
       "      <td>30</td>\n",
       "    </tr>\n",
       "  </tbody>\n",
       "</table>\n",
       "</div><em class=\"decisionmatrix-dim\">3 Alternatives x 3 Criteria</em>\n",
       "</div>"
      ],
      "text/plain": [
       "   ROE[▲ 1.0] CAP[▲ 1.0] RI[▼ 1.0]\n",
       "PE          7          5        35\n",
       "AA          5          6        28\n",
       "FN          5          8        30\n",
       "[3 Alternatives x 3 Criteria]"
      ]
     },
     "execution_count": 7,
     "metadata": {},
     "output_type": "execute_result"
    }
   ],
   "source": [
    "filters.FilterGT({\"ROE\": 3, \"CAP\": 4}).transform(dm)"
   ]
  },
  {
   "cell_type": "markdown",
   "metadata": {},
   "source": [
    "<div class=\"alert alert-info\">\n",
    "**Note:** \n",
    "\n",
    "Si es necesario filtrar las alternativas por dos condiciones separadas \n",
    "puede utilizarse un pipeline. Un ejemplo de esto podemos verlo mas adelante.\n",
    "</div>\n",
    "\n",
    "El listado completo de filtros implementados, por Scikit-Criteria es:\n",
    "\n",
    "- ``filters.Filter``: Filter alternatives according to the value of a criterion \n",
    "  using arbitrary functions.\n",
    "\n",
    "  ```python\n",
    "  filters.Filter({\"criterion\": lambda v: v > 1})\n",
    "  ```\n",
    "\n",
    "- ``filters.FilterGT``: Filter Greater Than ($>$).\n",
    "  \n",
    "  ```python\n",
    "  filters.FilterGT({\"criterion\":  1})\n",
    "  ```\n",
    "\n",
    "- ``filters.FilterGE``: Filter Greater or Equal than ($>=$).\n",
    "\n",
    "  ```python\n",
    "  filters.FilterGE({\"criterion\":  2})\n",
    "  ```\n",
    "\n",
    "- ``filters.FilterLT``: Filter Less Than ($<$).\n",
    "  \n",
    "  ```python\n",
    "  filters.FilterLT({\"criterion\":  1})\n",
    "  ```\n",
    "\n",
    "- ``filters.FilterLE``: Filter Less or Equal than ($<=$).\n",
    "\n",
    "  ```python\n",
    "  filters.FilterLE({\"criterion\":  2})\n",
    "  ```\n",
    "\n",
    "- ``filters.FilterEQ``: Filter Equal ($==$).\n",
    "  \n",
    "  ```python\n",
    "  filters.FilterEQ({\"criterion\":  1})\n",
    "  ```\n",
    "\n",
    "- ``filters.FilterNE``: Filter Not-Equal than ($!=$).\n",
    "\n",
    "  ```python\n",
    "  filters.FilterNE({\"criterion\":  2})\n",
    "  ```\n",
    "\n",
    "- ``filters.FilterIn``: Filter if the values is in a set ($\\in$).\n",
    "  \n",
    "  ```python\n",
    "  filters.FilterIn({\"criterion\":  [1, 2, 3]})\n",
    "  ```\n",
    "\n",
    "- ``filters.FilterNotIn``: Filter if the values is not in a set ($\\notin$).\n",
    "\n",
    "  ```python\n",
    "  filters.FilterNotIn({\"criterion\":  [1, 2, 3]})\n",
    "  ```\n"
   ]
  },
  {
   "cell_type": "markdown",
   "metadata": {},
   "source": [
    "## Dominance\n",
    "\n",
    "Se dice que que una alternativa $A_0$ domina a una alternativa $A_1$ \n",
    "($A_0 \\succeq A_1$),  si $A_0$ es igual en todos los criterios y mejor en \n",
    "almenos un criterio. Por otro lado, se dice que  $A_0$ domina estrictiamente \n",
    "$A_1$ ($A_0 \\succ A_1$),  si $A_0$ es mejor en todos los criterios que $A_1$.\n",
    "\n",
    "Bajo este mismo tren de pnesamiento, se denomina *alternativa dominante*  \n",
    "a una alternativa que domina a todas las demas.\n",
    "\n",
    "Si existe una alternativa dominante es sin duda la mejor elección. Si no se \n",
    "quiere de una ordenación consignada, ya se tiene la solución del problema. \n",
    "\n",
    "Por otro lado, una *alternativa es dominada* si existe al menos otra alternativa\n",
    "que la domina. Si existe una alternativa dominada y no se quiere una ordenación \n",
    "consignada, debe ser apartada del conjunto de alternativas de decisión. \n",
    "\n",
    "Generalmente sólo  las alternativas no-dominadas o eficientes son las que interesan.\n",
    "\n",
    "### Scikit-Criteria dominance analysis\n",
    "\n",
    "Scikit-criteria, contiene una serie de herramientas dentro del atributo,\n",
    "`dominance` de decision matrix, útil para la evaluacion de alternativas\n",
    "dominantes y dominadas.\n",
    "\n",
    "Por ejemplo podemos acceder a todas las alternativas dominadas utilizando\n",
    "el ḿetodo `dominated`"
   ]
  },
  {
   "cell_type": "code",
   "execution_count": 10,
   "metadata": {},
   "outputs": [
    {
     "data": {
      "text/plain": [
       "PE    False\n",
       "JN    False\n",
       "AA    False\n",
       "FX     True\n",
       "FN    False\n",
       "dtype: bool"
      ]
     },
     "execution_count": 10,
     "metadata": {},
     "output_type": "execute_result"
    }
   ],
   "source": [
    "dmf.dominance.dominated()"
   ]
  },
  {
   "cell_type": "markdown",
   "metadata": {},
   "source": [
    "Se puede ver con esto, que `FX` es una alternativa, dominada. Si por otro\n",
    "lafo queremos saber cuales son las alternativas *estrictamente dominadas* \n",
    "se realizando proveyendo el parámetro `strict`al método"
   ]
  },
  {
   "cell_type": "code",
   "execution_count": 13,
   "metadata": {},
   "outputs": [
    {
     "data": {
      "text/plain": [
       "PE    False\n",
       "JN    False\n",
       "AA    False\n",
       "FX     True\n",
       "FN    False\n",
       "dtype: bool"
      ]
     },
     "execution_count": 13,
     "metadata": {},
     "output_type": "execute_result"
    }
   ],
   "source": [
    "dmf.dominance.dominated(strict=True)"
   ]
  },
  {
   "cell_type": "markdown",
   "metadata": {},
   "source": [
    "Puede verse que FX es estrictamente dominado por almenos otra alternativa.\n",
    "\n",
    "Si quisieramos averiguar cuales son las alternativas dominantes de  *FX*, \n",
    "podemos optar por dos caminos: \n",
    "\n",
    "1. Listar todas las alternativas dominantes/estrictamente dominantes de \n",
    "2. *FX* utiizatilizando `dominator_of()`."
   ]
  },
  {
   "cell_type": "code",
   "execution_count": 24,
   "metadata": {},
   "outputs": [
    {
     "data": {
      "text/plain": [
       "array(['PE', 'AA', 'FN'], dtype=object)"
      ]
     },
     "execution_count": 24,
     "metadata": {},
     "output_type": "execute_result"
    }
   ],
   "source": [
    "dmf.dominance.dominators_of(\"FX\", strict=True)"
   ]
  },
  {
   "cell_type": "markdown",
   "metadata": {},
   "source": [
    "2. Utilizar `dominance()`/`dominance.dominance()` para ver la relación completa\n",
    "   de dominancia entre todas alternativas. "
   ]
  },
  {
   "cell_type": "code",
   "execution_count": 26,
   "metadata": {},
   "outputs": [
    {
     "data": {
      "text/html": [
       "<div>\n",
       "<style scoped>\n",
       "    .dataframe tbody tr th:only-of-type {\n",
       "        vertical-align: middle;\n",
       "    }\n",
       "\n",
       "    .dataframe tbody tr th {\n",
       "        vertical-align: top;\n",
       "    }\n",
       "\n",
       "    .dataframe thead th {\n",
       "        text-align: right;\n",
       "    }\n",
       "</style>\n",
       "<table border=\"1\" class=\"dataframe\">\n",
       "  <thead>\n",
       "    <tr style=\"text-align: right;\">\n",
       "      <th></th>\n",
       "      <th>PE</th>\n",
       "      <th>JN</th>\n",
       "      <th>AA</th>\n",
       "      <th>FX</th>\n",
       "      <th>FN</th>\n",
       "    </tr>\n",
       "  </thead>\n",
       "  <tbody>\n",
       "    <tr>\n",
       "      <th>PE</th>\n",
       "      <td>False</td>\n",
       "      <td>False</td>\n",
       "      <td>False</td>\n",
       "      <td>True</td>\n",
       "      <td>False</td>\n",
       "    </tr>\n",
       "    <tr>\n",
       "      <th>JN</th>\n",
       "      <td>False</td>\n",
       "      <td>False</td>\n",
       "      <td>False</td>\n",
       "      <td>False</td>\n",
       "      <td>False</td>\n",
       "    </tr>\n",
       "    <tr>\n",
       "      <th>AA</th>\n",
       "      <td>False</td>\n",
       "      <td>False</td>\n",
       "      <td>False</td>\n",
       "      <td>True</td>\n",
       "      <td>False</td>\n",
       "    </tr>\n",
       "    <tr>\n",
       "      <th>FX</th>\n",
       "      <td>False</td>\n",
       "      <td>False</td>\n",
       "      <td>False</td>\n",
       "      <td>False</td>\n",
       "      <td>False</td>\n",
       "    </tr>\n",
       "    <tr>\n",
       "      <th>FN</th>\n",
       "      <td>False</td>\n",
       "      <td>False</td>\n",
       "      <td>False</td>\n",
       "      <td>True</td>\n",
       "      <td>False</td>\n",
       "    </tr>\n",
       "  </tbody>\n",
       "</table>\n",
       "</div>"
      ],
      "text/plain": [
       "       PE     JN     AA     FX     FN\n",
       "PE  False  False  False   True  False\n",
       "JN  False  False  False  False  False\n",
       "AA  False  False  False   True  False\n",
       "FX  False  False  False  False  False\n",
       "FN  False  False  False   True  False"
      ]
     },
     "execution_count": 26,
     "metadata": {},
     "output_type": "execute_result"
    }
   ],
   "source": [
    "dmf.dominance(strict=True)  # equivalent to dmf.dominance.dominance()"
   ]
  },
  {
   "cell_type": "markdown",
   "metadata": {},
   "source": [
    "En este caso lo que se observa es que alternativa Fila domina a que alternativa\n",
    "columna.\n",
    "\n",
    "Podemos estudiar esta matriz en forma de heamap usando, por ejemplo, la \n",
    "libreria  [seaborn](http://seaborn.pydata.org/)"
   ]
  },
  {
   "cell_type": "code",
   "execution_count": 42,
   "metadata": {},
   "outputs": [
    {
     "data": {
      "text/plain": [
       "<AxesSubplot:>"
      ]
     },
     "execution_count": 42,
     "metadata": {},
     "output_type": "execute_result"
    },
    {
     "data": {
      "image/png": "[encoded data removed]",
      "text/plain": [
       "<Figure size 432x288 with 2 Axes>"
      ]
     },
     "metadata": {
      "needs_background": "light"
     },
     "output_type": "display_data"
    }
   ],
   "source": [
    "import seaborn as sns\n",
    "sns.heatmap(dmf.dominance.dominance(strict=True), cmap=\"magma_r\")"
   ]
  },
  {
   "cell_type": "markdown",
   "metadata": {},
   "source": [
    "Finalmente podemos ver como se relacionan cada una de las alternativas \n",
    "dominatnes con *FX* utilizando `compare()`"
   ]
  },
  {
   "cell_type": "code",
   "execution_count": 37,
   "metadata": {},
   "outputs": [
    {
     "data": {
      "text/html": [
       "<div>\n",
       "<style scoped>\n",
       "    .dataframe tbody tr th:only-of-type {\n",
       "        vertical-align: middle;\n",
       "    }\n",
       "\n",
       "    .dataframe tbody tr th {\n",
       "        vertical-align: top;\n",
       "    }\n",
       "\n",
       "    .dataframe thead tr th {\n",
       "        text-align: left;\n",
       "    }\n",
       "</style>\n",
       "<table border=\"1\" class=\"dataframe\">\n",
       "  <thead>\n",
       "    <tr>\n",
       "      <th></th>\n",
       "      <th></th>\n",
       "      <th colspan=\"3\" halign=\"left\">Criteria</th>\n",
       "      <th>Performance</th>\n",
       "    </tr>\n",
       "    <tr>\n",
       "      <th></th>\n",
       "      <th></th>\n",
       "      <th>ROE</th>\n",
       "      <th>CAP</th>\n",
       "      <th>RI</th>\n",
       "      <th></th>\n",
       "    </tr>\n",
       "  </thead>\n",
       "  <tbody>\n",
       "    <tr>\n",
       "      <th rowspan=\"2\" valign=\"top\">Alternatives</th>\n",
       "      <th>PE</th>\n",
       "      <td>True</td>\n",
       "      <td>True</td>\n",
       "      <td>True</td>\n",
       "      <td>3</td>\n",
       "    </tr>\n",
       "    <tr>\n",
       "      <th>FX</th>\n",
       "      <td>False</td>\n",
       "      <td>False</td>\n",
       "      <td>False</td>\n",
       "      <td>0</td>\n",
       "    </tr>\n",
       "    <tr>\n",
       "      <th>Equals</th>\n",
       "      <th></th>\n",
       "      <td>False</td>\n",
       "      <td>False</td>\n",
       "      <td>False</td>\n",
       "      <td>0</td>\n",
       "    </tr>\n",
       "  </tbody>\n",
       "</table>\n",
       "</div>"
      ],
      "text/plain": [
       "                Criteria               Performance\n",
       "                     ROE    CAP     RI            \n",
       "Alternatives PE     True   True   True           3\n",
       "             FX    False  False  False           0\n",
       "Equals             False  False  False           0"
      ]
     },
     "metadata": {},
     "output_type": "display_data"
    },
    {
     "data": {
      "text/html": [
       "<div>\n",
       "<style scoped>\n",
       "    .dataframe tbody tr th:only-of-type {\n",
       "        vertical-align: middle;\n",
       "    }\n",
       "\n",
       "    .dataframe tbody tr th {\n",
       "        vertical-align: top;\n",
       "    }\n",
       "\n",
       "    .dataframe thead tr th {\n",
       "        text-align: left;\n",
       "    }\n",
       "</style>\n",
       "<table border=\"1\" class=\"dataframe\">\n",
       "  <thead>\n",
       "    <tr>\n",
       "      <th></th>\n",
       "      <th></th>\n",
       "      <th colspan=\"3\" halign=\"left\">Criteria</th>\n",
       "      <th>Performance</th>\n",
       "    </tr>\n",
       "    <tr>\n",
       "      <th></th>\n",
       "      <th></th>\n",
       "      <th>ROE</th>\n",
       "      <th>CAP</th>\n",
       "      <th>RI</th>\n",
       "      <th></th>\n",
       "    </tr>\n",
       "  </thead>\n",
       "  <tbody>\n",
       "    <tr>\n",
       "      <th rowspan=\"2\" valign=\"top\">Alternatives</th>\n",
       "      <th>JN</th>\n",
       "      <td>True</td>\n",
       "      <td>False</td>\n",
       "      <td>True</td>\n",
       "      <td>2</td>\n",
       "    </tr>\n",
       "    <tr>\n",
       "      <th>FX</th>\n",
       "      <td>False</td>\n",
       "      <td>False</td>\n",
       "      <td>False</td>\n",
       "      <td>0</td>\n",
       "    </tr>\n",
       "    <tr>\n",
       "      <th>Equals</th>\n",
       "      <th></th>\n",
       "      <td>False</td>\n",
       "      <td>True</td>\n",
       "      <td>False</td>\n",
       "      <td>1</td>\n",
       "    </tr>\n",
       "  </tbody>\n",
       "</table>\n",
       "</div>"
      ],
      "text/plain": [
       "                Criteria               Performance\n",
       "                     ROE    CAP     RI            \n",
       "Alternatives JN     True  False   True           2\n",
       "             FX    False  False  False           0\n",
       "Equals             False   True  False           1"
      ]
     },
     "metadata": {},
     "output_type": "display_data"
    },
    {
     "data": {
      "text/html": [
       "<div>\n",
       "<style scoped>\n",
       "    .dataframe tbody tr th:only-of-type {\n",
       "        vertical-align: middle;\n",
       "    }\n",
       "\n",
       "    .dataframe tbody tr th {\n",
       "        vertical-align: top;\n",
       "    }\n",
       "\n",
       "    .dataframe thead tr th {\n",
       "        text-align: left;\n",
       "    }\n",
       "</style>\n",
       "<table border=\"1\" class=\"dataframe\">\n",
       "  <thead>\n",
       "    <tr>\n",
       "      <th></th>\n",
       "      <th></th>\n",
       "      <th colspan=\"3\" halign=\"left\">Criteria</th>\n",
       "      <th>Performance</th>\n",
       "    </tr>\n",
       "    <tr>\n",
       "      <th></th>\n",
       "      <th></th>\n",
       "      <th>ROE</th>\n",
       "      <th>CAP</th>\n",
       "      <th>RI</th>\n",
       "      <th></th>\n",
       "    </tr>\n",
       "  </thead>\n",
       "  <tbody>\n",
       "    <tr>\n",
       "      <th rowspan=\"2\" valign=\"top\">Alternatives</th>\n",
       "      <th>AA</th>\n",
       "      <td>True</td>\n",
       "      <td>True</td>\n",
       "      <td>True</td>\n",
       "      <td>3</td>\n",
       "    </tr>\n",
       "    <tr>\n",
       "      <th>FX</th>\n",
       "      <td>False</td>\n",
       "      <td>False</td>\n",
       "      <td>False</td>\n",
       "      <td>0</td>\n",
       "    </tr>\n",
       "    <tr>\n",
       "      <th>Equals</th>\n",
       "      <th></th>\n",
       "      <td>False</td>\n",
       "      <td>False</td>\n",
       "      <td>False</td>\n",
       "      <td>0</td>\n",
       "    </tr>\n",
       "  </tbody>\n",
       "</table>\n",
       "</div>"
      ],
      "text/plain": [
       "                Criteria               Performance\n",
       "                     ROE    CAP     RI            \n",
       "Alternatives AA     True   True   True           3\n",
       "             FX    False  False  False           0\n",
       "Equals             False  False  False           0"
      ]
     },
     "metadata": {},
     "output_type": "display_data"
    },
    {
     "data": {
      "text/html": [
       "<div>\n",
       "<style scoped>\n",
       "    .dataframe tbody tr th:only-of-type {\n",
       "        vertical-align: middle;\n",
       "    }\n",
       "\n",
       "    .dataframe tbody tr th {\n",
       "        vertical-align: top;\n",
       "    }\n",
       "\n",
       "    .dataframe thead tr th {\n",
       "        text-align: left;\n",
       "    }\n",
       "</style>\n",
       "<table border=\"1\" class=\"dataframe\">\n",
       "  <thead>\n",
       "    <tr>\n",
       "      <th></th>\n",
       "      <th></th>\n",
       "      <th colspan=\"3\" halign=\"left\">Criteria</th>\n",
       "      <th>Performance</th>\n",
       "    </tr>\n",
       "    <tr>\n",
       "      <th></th>\n",
       "      <th></th>\n",
       "      <th>ROE</th>\n",
       "      <th>CAP</th>\n",
       "      <th>RI</th>\n",
       "      <th></th>\n",
       "    </tr>\n",
       "  </thead>\n",
       "  <tbody>\n",
       "    <tr>\n",
       "      <th rowspan=\"2\" valign=\"top\">Alternatives</th>\n",
       "      <th>FN</th>\n",
       "      <td>True</td>\n",
       "      <td>True</td>\n",
       "      <td>True</td>\n",
       "      <td>3</td>\n",
       "    </tr>\n",
       "    <tr>\n",
       "      <th>FX</th>\n",
       "      <td>False</td>\n",
       "      <td>False</td>\n",
       "      <td>False</td>\n",
       "      <td>0</td>\n",
       "    </tr>\n",
       "    <tr>\n",
       "      <th>Equals</th>\n",
       "      <th></th>\n",
       "      <td>False</td>\n",
       "      <td>False</td>\n",
       "      <td>False</td>\n",
       "      <td>0</td>\n",
       "    </tr>\n",
       "  </tbody>\n",
       "</table>\n",
       "</div>"
      ],
      "text/plain": [
       "                Criteria               Performance\n",
       "                     ROE    CAP     RI            \n",
       "Alternatives FN     True   True   True           3\n",
       "             FX    False  False  False           0\n",
       "Equals             False  False  False           0"
      ]
     },
     "metadata": {},
     "output_type": "display_data"
    }
   ],
   "source": [
    "for dominant in dmf.dominance.dominators_of(\"FX\"):\n",
    "    display(dmf.dominance.compare(dominant, 'FX'))"
   ]
  },
  {
   "cell_type": "markdown",
   "metadata": {},
   "source": [
    "### Filter non-dominated alternatives\n",
    "\n",
    "Finalmente skcriteria ofrece una forma de filtar alternativas non-dominadas,\n",
    "la cual acepta como parametro si quiere evaluar la dominancia estrictca."
   ]
  },
  {
   "cell_type": "code",
   "execution_count": 43,
   "metadata": {},
   "outputs": [
    {
     "data": {
      "text/plain": [
       "FilterNonDominated(strict=True)"
      ]
     },
     "execution_count": 43,
     "metadata": {},
     "output_type": "execute_result"
    }
   ],
   "source": [
    "flt = filters.FilterNonDominated(strict=True)\n",
    "flt"
   ]
  },
  {
   "cell_type": "code",
   "execution_count": 44,
   "metadata": {},
   "outputs": [
    {
     "data": {
      "text/html": [
       "<div class=\"decisionmatrix\">\n",
       "<div>\n",
       "<style scoped=\"\">\n",
       "    .dataframe tbody tr th:only-of-type {\n",
       "        vertical-align: middle;\n",
       "    }\n",
       "\n",
       "    .dataframe tbody tr th {\n",
       "        vertical-align: top;\n",
       "    }\n",
       "\n",
       "    .dataframe thead th {\n",
       "        text-align: right;\n",
       "    }\n",
       "</style>\n",
       "<table border=\"1\" class=\"dataframe\">\n",
       "  <thead>\n",
       "    <tr style=\"text-align: right;\">\n",
       "      <th/>\n",
       "      <th>ROE[▲ 1.0]</th>\n",
       "      <th>CAP[▲ 1.0]</th>\n",
       "      <th>RI[▼ 1.0]</th>\n",
       "    </tr>\n",
       "  </thead>\n",
       "  <tbody>\n",
       "    <tr>\n",
       "      <th>PE</th>\n",
       "      <td>7</td>\n",
       "      <td>5</td>\n",
       "      <td>35</td>\n",
       "    </tr>\n",
       "    <tr>\n",
       "      <th>JN</th>\n",
       "      <td>5</td>\n",
       "      <td>4</td>\n",
       "      <td>26</td>\n",
       "    </tr>\n",
       "    <tr>\n",
       "      <th>AA</th>\n",
       "      <td>5</td>\n",
       "      <td>6</td>\n",
       "      <td>28</td>\n",
       "    </tr>\n",
       "    <tr>\n",
       "      <th>FN</th>\n",
       "      <td>5</td>\n",
       "      <td>8</td>\n",
       "      <td>30</td>\n",
       "    </tr>\n",
       "  </tbody>\n",
       "</table>\n",
       "</div><em class=\"decisionmatrix-dim\">4 Alternatives x 3 Criteria</em>\n",
       "</div>"
      ],
      "text/plain": [
       "   ROE[▲ 1.0] CAP[▲ 1.0] RI[▼ 1.0]\n",
       "PE          7          5        35\n",
       "JN          5          4        26\n",
       "AA          5          6        28\n",
       "FN          5          8        30\n",
       "[4 Alternatives x 3 Criteria]"
      ]
     },
     "execution_count": 44,
     "metadata": {},
     "output_type": "execute_result"
    }
   ],
   "source": [
    "flt.transform(dmf)"
   ]
  },
  {
   "cell_type": "markdown",
   "metadata": {},
   "source": [
    "## Full expermient\n",
    "\n",
    "Podemos finalmente crear un experimento completo de MCDA que tome en cuenta\n",
    "las en análisis de satisfaccion y dominancia.\n",
    "\n",
    "El expeimento completo tendria las siguientes etapas\n",
    "\n",
    "1. Se eliminan alternativas que no que rindan al menos el 2% ($ROE >= 2$).\n",
    "2. Se eliminan alternativas dominadas.\n",
    "3. Se convierten todos los criterios a maximizar.\n",
    "4. Se excala los pesos por la suma todal.\n",
    "5. Se escala la matriz por el modulo del vecto.\n",
    "6. Se aplica [TOPSIS]()\n",
    "\n",
    "Para esto lo mas conveniente es utilizar un pipeline"
   ]
  },
  {
   "cell_type": "code",
   "execution_count": 49,
   "metadata": {},
   "outputs": [
    {
     "data": {
      "text/plain": [
       "SKCPipeline(steps=[('filterge', FilterGE(criteria_filters={'ROE': 2}, ignore_missing_criteria=False)), ('filternondominated', FilterNonDominated(strict=True)), ('minimizetomaximize', MinimizeToMaximize()), ('sumscaler', SumScaler(target='weights')), ('vectorscaler', VectorScaler(target='matrix')), ('topsis', TOPSIS(metric='euclidean'))])"
      ]
     },
     "execution_count": 49,
     "metadata": {},
     "output_type": "execute_result"
    }
   ],
   "source": [
    "from skcriteria.preprocessing import scalers, invert_objectives\n",
    "from skcriteria.madm.similarity import TOPSIS\n",
    "from skcriteria.pipeline import mkpipe\n",
    "\n",
    "pipe = mkpipe(\n",
    "    filters.FilterGE({\"ROE\": 2}),\n",
    "    filters.FilterNonDominated(strict=True),\n",
    "    invert_objectives.MinimizeToMaximize(),\n",
    "    scalers.SumScaler(target=\"weights\"),\n",
    "    scalers.VectorScaler(target=\"matrix\"),\n",
    "    TOPSIS(),\n",
    ")\n",
    "\n",
    "pipe"
   ]
  },
  {
   "cell_type": "markdown",
   "metadata": {},
   "source": [
    "Ahora aplicamos el pipeline a los datos originales"
   ]
  },
  {
   "cell_type": "code",
   "execution_count": 51,
   "metadata": {},
   "outputs": [
    {
     "data": {
      "text/html": [
       "<div class='skcresult-rank skcresult'>\n",
       "<style type=\"text/css\">\n",
       "</style>\n",
       "<table id=\"T_e329e_\">\n",
       "  <thead>\n",
       "    <tr>\n",
       "      <th class=\"blank level0\" >&nbsp;</th>\n",
       "      <th class=\"col_heading level0 col0\" >PE</th>\n",
       "      <th class=\"col_heading level0 col1\" >JN</th>\n",
       "      <th class=\"col_heading level0 col2\" >AA</th>\n",
       "      <th class=\"col_heading level0 col3\" >FN</th>\n",
       "    </tr>\n",
       "  </thead>\n",
       "  <tbody>\n",
       "    <tr>\n",
       "      <th id=\"T_e329e_level0_row0\" class=\"row_heading level0 row0\" >Rank</th>\n",
       "      <td id=\"T_e329e_row0_col0\" class=\"data row0 col0\" >3</td>\n",
       "      <td id=\"T_e329e_row0_col1\" class=\"data row0 col1\" >4</td>\n",
       "      <td id=\"T_e329e_row0_col2\" class=\"data row0 col2\" >2</td>\n",
       "      <td id=\"T_e329e_row0_col3\" class=\"data row0 col3\" >1</td>\n",
       "    </tr>\n",
       "  </tbody>\n",
       "</table>\n",
       "<em class='skcresult-method'>Method: TOPSIS</em>\n",
       "</div>"
      ],
      "text/plain": [
       "      PE  JN  AA  FN\n",
       "Rank   3   4   2   1\n",
       "[Method: TOPSIS]"
      ]
     },
     "execution_count": 51,
     "metadata": {},
     "output_type": "execute_result"
    }
   ],
   "source": [
    "pipe.evaluate(dm)"
   ]
  },
  {
   "cell_type": "markdown",
   "metadata": {},
   "source": [
    "----"
   ]
  },
  {
   "cell_type": "code",
   "execution_count": null,
   "metadata": {},
   "outputs": [],
   "source": [
    "import datetime as dt\n",
    "import skcriteria\n",
    "\n",
    "print(\"Scikit-Criteria version:\", skcriteria.VERSION)\n",
    "print(\"Running datetime:\", dt.datetime.now())"
   ]
  }
 ],
 "metadata": {
  "celltoolbar": "Edit Metadata",
  "interpreter": {
   "hash": "0a948a28a0ef94db8982fe8442467cdefb8d68ae66a4b8f3824263fcc702cc89"
  },
  "kernelspec": {
   "display_name": "Python 3",
   "language": "python",
   "name": "python3"
  },
  "language_info": {
   "codemirror_mode": {
    "name": "ipython",
    "version": 3
   },
   "file_extension": ".py",
   "mimetype": "text/x-python",
   "name": "python",
   "nbconvert_exporter": "python",
   "pygments_lexer": "ipython3",
   "version": "3.9.10"
  }
 },
 "nbformat": 4,
 "nbformat_minor": 2
}
