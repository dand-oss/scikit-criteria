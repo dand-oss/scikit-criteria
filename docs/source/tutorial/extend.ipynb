{
 "cells": [
  {
   "cell_type": "markdown",
   "metadata": {},
   "source": [
    "\n",
    "# Extending Aggregation and Transformation Functions\n",
    "\n",
    "This tutorial serves as a guide for utilizing the extension tools for aggregation and transformer functions in Scikit-Criteria. After going through this tutorial, you will be able to implement your own multi-criteria decision models compatible with the data types and tools provided by the library.\n",
    "\n",
    "## Introduction\n",
    "\n",
    "In Scikit-Criteria, leveraging the provided decorators (`@extend.mkagg` and `@extend.mktransformer`) for extending aggregation and transformation functions provides a powerful means to customize decision-making models allowing the creation of custom functions, enabling domain-specific logic implementation for diverse use cases. \n",
    "\n",
    "Decorators simplify the process of converting functions into model classes, promoting flexibility in model creation without complex class hierarchies. This facilitates quick prototyping and experimentation by allowing direct modification of functions. Additionally, the decorators handle hyperparameter initialization, encapsulating them within models, promoting clean, organized code and reducing the chances of errors related to parameter handling.\n",
    "\n",
    "\n",
    "Example Usage:"
   ]
  },
  {
   "cell_type": "code",
   "execution_count": 1,
   "metadata": {},
   "outputs": [],
   "source": [
    "# Import the decorators from the module\n",
    "from skcriteria.extend import mkagg, mktransformer\n",
    "\n",
    "# Define custom aggregation and transformation functions\n",
    "@mkagg\n",
    "def CustomAggregation(**kwargs):\n",
    "    # Implement aggregation logic\n",
    "    pass\n",
    "\n",
    "@mktransformer\n",
    "def CustomTransformation(**kwargs):\n",
    "    # Implement transformation logic\n",
    "    pass"
   ]
  },
  {
   "cell_type": "markdown",
   "metadata": {},
   "source": [
    "While this code is syntactically valid, attempting to use it may not work as intended since it doesn't return the required values.\n"
   ]
  },
  {
   "cell_type": "markdown",
   "metadata": {},
   "source": [
    "## 2. A New Aggregation Model\n",
    "\n",
    "To create a custom aggregation model, follow these steps:\n",
    "\n",
    "1. Declare a function with the name of your model using the [`CapWords`/`UpperCamelCase`/`PascalCase`](https://en.wikipedia.org/wiki/Camel_case) convention. While this is not mandatory, not adhering to this convention will trigger a warning message from scikit-criteria, notifying that the model name does not follow the Scikit-Criteria standard.\n"
   ]
  },
  {
   "cell_type": "code",
   "execution_count": 2,
   "metadata": {},
   "outputs": [
    {
     "name": "stderr",
     "output_type": "stream",
     "text": [
      "/home/juanbc/proyectos/skcriteria/src/skcriteria/extend.py:211: NonStandardNameWarning: Models names should normally use the 'CapWords' convention.try change 'bad_model_name' to 'Bad_Model_Name' or 'BAD_MODEL_NAME'\n",
      "  return _agg_maker if maybe_func is None else _agg_maker(maybe_func)\n"
     ]
    }
   ],
   "source": [
    "@mkagg\n",
    "def bad_model_name(**kwargs):\n",
    "    pass"
   ]
  },
  {
   "cell_type": "code",
   "execution_count": 3,
   "metadata": {},
   "outputs": [],
   "source": [
    "@mkagg\n",
    "def GodModelName(**kwargs):\n",
    "    pass"
   ]
  },
  {
   "cell_type": "markdown",
   "metadata": {},
   "source": [
    "2. The function should take parameters representing the decomposed decision matrix after calling the `DecisionMatrix.to_dict()` method, and a parameter `hparams`, which will be explained later and contains the hyper-parameters of the model.\n",
    "\n",
    "\n",
    "- `hparams`: Model Hyperparameters.\n",
    "- `matrix`: Alternatives matrix as pandas DataFrame.\n",
    "- `objectives`: Objectives for criteria as integers: $maximize = 1$ and $minimize = -1$\n",
    "- `weights`: Weights of the criteria.\n",
    "- `dtypes`: Dtypes of the criteria.\n",
    "- `alternatives`: Names of the alternatives.\n",
    "- `criteria`: Names of the criteria.\n",
    "\n",
    "Additionally, if you do not want to use any of those parts of the matrix, you can declare the function with [Variable Keyword Arguments (`**kwargs`)](https://www.w3schools.com/python/gloss_python_function_arbitrary_keyword_arguments.asp).\n",
    "\n",
    "\n",
    "**If any parameter is forgotten and `**kwargs` is not present, a [`TypeError`](https://docs.python.org/3/library/exceptions.html#TypeError) is raised.**\n",
    "\n",
    "\n",
    "So this next two functions are a valid Aggregation functions"
   ]
  },
  {
   "cell_type": "code",
   "execution_count": 4,
   "metadata": {},
   "outputs": [],
   "source": [
    "@mkagg\n",
    "def AllParameters(hparams, matrix, objectives, weights, dtypes, alternatives, criteria):\n",
    "    pass\n",
    "\n",
    "@mkagg\n",
    "def OnlyTwoWithKwargs(matrix, weights, **kwargs):\n",
    "    pass"
   ]
  },
  {
   "cell_type": "markdown",
   "metadata": {},
   "source": [
    "3. Utilizing the received parameters, the function should return two objects:\n",
    "\n",
    "    1. A `numpy.array`/`list`/`tuple` or any kind of sequence containing a valid ranking.\n",
    "       Where the `i`-th position in the returned sequence has the ranking value for\n",
    "       the `i`-th alternative in the array of alternatives received as a parameter.\n",
    "    2. A `dict` with extra values from the ranking (intermediate results or other useful data for decision-making analysis)."
   ]
  },
  {
   "cell_type": "markdown",
   "metadata": {},
   "source": [
    "<div class=\"alert alert-info\">\n",
    "**Note:** Understanding the Rankings\n",
    "\n",
    "A valid ranking has the following conditions:\n",
    "\n",
    "1. **Length:** It should have the same length as the number of alternatives received by the function.\n",
    "2. **Ascending and Consecutive Order:** The values must be in ascending order and consecutive. This means that values should start from 1 and increase by increments of 1 without skips  For example, `[1, 2, 3, 4]`  and `[1, 2, 1]` is valid, but `[4, 2, 4, 1]` is not valid because the value 3 is missing.\n",
    "3. **Integers Only:** Values must be integers. Fractional or other types of values are not allowed.\n",
    "\n",
    "---\n",
    "\n",
    "So if we have the alternatives `[\"banana\", \"apple\", \"orange\"]` and the ranking `[1, 2, 1]`\n",
    "\n",
    "The meaning of the ranking in relation to the alternatives is as follows:\n",
    "\n",
    "1. The first position in the ranking is 1, indicating that the alternative in the first position is the most preferred or the best choice.\n",
    "2. The second position in the ranking is 2, suggesting that the alternative in the second position is the second-best choice.\n",
    "3. The third position in the ranking is also 1, implying that the alternative in the third position is equally preferred to the alternative in the first position.\n",
    "\n",
    "Therefore, the ranking `[1, 2, 1]` could be interpreted as stating that \"Banana\" and \"Orange\" are equally preferred, and \"Apple\" is the second preferred choice. It's important to note that the ranking must adhere to the specific conditions mentioned in the definitions, such as the correct length, ascending and consecutive order, and integer values.\n",
    "</div>"
   ]
  },
  {
   "cell_type": "markdown",
   "metadata": {},
   "source": [
    "With all of this, a complete and valid aggregation function would be:"
   ]
  },
  {
   "cell_type": "code",
   "execution_count": 5,
   "metadata": {},
   "outputs": [],
   "source": [
    "import numpy as np\n",
    "\n",
    "@mkagg\n",
    "def AllAlternativesAreFirst(alternatives, **kwargs):\n",
    "    # Assign a rank of 1 to each alternative\n",
    "    rank = [1] * len(alternatives)\n",
    "    \n",
    "    # Define extra information (example: some important value)\n",
    "    extra = {\"some_important_value\": \"the_important_value\"}\n",
    "    \n",
    "    # Return the rank and extra information\n",
    "    return rank, extra"
   ]
  },
  {
   "cell_type": "markdown",
   "metadata": {},
   "source": [
    "Let's test the new aggregation with a dataset.\n"
   ]
  },
  {
   "cell_type": "code",
   "execution_count": 6,
   "metadata": {},
   "outputs": [
    {
     "data": {
      "text/html": [
       "<div class='decisionmatrix'>\n",
       "<div>\n",
       "<style scoped>\n",
       "    .dataframe tbody tr th:only-of-type {\n",
       "        vertical-align: middle;\n",
       "    }\n",
       "\n",
       "    .dataframe tbody tr th {\n",
       "        vertical-align: top;\n",
       "    }\n",
       "\n",
       "    .dataframe thead th {\n",
       "        text-align: right;\n",
       "    }\n",
       "</style>\n",
       "<table border=\"1\" class=\"dataframe\">\n",
       "  <thead>\n",
       "    <tr style=\"text-align: right;\">\n",
       "      <th></th>\n",
       "      <th>ROE[▲ 2.0]</th>\n",
       "      <th>CAP[▲ 4.0]</th>\n",
       "      <th>RI[▼ 1.0]</th>\n",
       "    </tr>\n",
       "  </thead>\n",
       "  <tbody>\n",
       "    <tr>\n",
       "      <th>PE</th>\n",
       "      <td>7</td>\n",
       "      <td>5</td>\n",
       "      <td>35</td>\n",
       "    </tr>\n",
       "    <tr>\n",
       "      <th>JN</th>\n",
       "      <td>5</td>\n",
       "      <td>4</td>\n",
       "      <td>26</td>\n",
       "    </tr>\n",
       "    <tr>\n",
       "      <th>AA</th>\n",
       "      <td>5</td>\n",
       "      <td>6</td>\n",
       "      <td>28</td>\n",
       "    </tr>\n",
       "    <tr>\n",
       "      <th>FX</th>\n",
       "      <td>3</td>\n",
       "      <td>4</td>\n",
       "      <td>36</td>\n",
       "    </tr>\n",
       "    <tr>\n",
       "      <th>MM</th>\n",
       "      <td>1</td>\n",
       "      <td>7</td>\n",
       "      <td>30</td>\n",
       "    </tr>\n",
       "    <tr>\n",
       "      <th>GN</th>\n",
       "      <td>5</td>\n",
       "      <td>8</td>\n",
       "      <td>30</td>\n",
       "    </tr>\n",
       "  </tbody>\n",
       "</table>\n",
       "</div><em class='decisionmatrix-dim'>6 Alternatives x 3 Criteria</em>\n",
       "</div>"
      ],
      "text/plain": [
       "    ROE[▲ 2.0]  CAP[▲ 4.0]  RI[▼ 1.0]\n",
       "PE           7           5         35\n",
       "JN           5           4         26\n",
       "AA           5           6         28\n",
       "FX           3           4         36\n",
       "MM           1           7         30\n",
       "GN           5           8         30\n",
       "[6 Alternatives x 3 Criteria]"
      ]
     },
     "execution_count": 6,
     "metadata": {},
     "output_type": "execute_result"
    }
   ],
   "source": [
    "import skcriteria as skc\n",
    "dm = skc.datasets.load_simple_stock_selection() # load the dataset\n",
    "dm"
   ]
  },
  {
   "cell_type": "code",
   "execution_count": 7,
   "metadata": {},
   "outputs": [
    {
     "data": {
      "text/plain": [
       "<AllAlternativesAreFirst []>"
      ]
     },
     "execution_count": 7,
     "metadata": {},
     "output_type": "execute_result"
    }
   ],
   "source": [
    "# Instantiate the new aggregation\n",
    "agg = AllAlternativesAreFirst()\n",
    "agg"
   ]
  },
  {
   "cell_type": "code",
   "execution_count": 8,
   "metadata": {},
   "outputs": [
    {
     "data": {
      "text/html": [
       "<div class='skcresult-rank skcresult'>\n",
       "<style type=\"text/css\">\n",
       "</style>\n",
       "<table id=\"T_136a8\">\n",
       "  <thead>\n",
       "    <tr>\n",
       "      <th class=\"index_name level0\" >Alternatives</th>\n",
       "      <th id=\"T_136a8_level0_col0\" class=\"col_heading level0 col0\" >PE</th>\n",
       "      <th id=\"T_136a8_level0_col1\" class=\"col_heading level0 col1\" >JN</th>\n",
       "      <th id=\"T_136a8_level0_col2\" class=\"col_heading level0 col2\" >AA</th>\n",
       "      <th id=\"T_136a8_level0_col3\" class=\"col_heading level0 col3\" >FX</th>\n",
       "      <th id=\"T_136a8_level0_col4\" class=\"col_heading level0 col4\" >MM</th>\n",
       "      <th id=\"T_136a8_level0_col5\" class=\"col_heading level0 col5\" >GN</th>\n",
       "    </tr>\n",
       "  </thead>\n",
       "  <tbody>\n",
       "    <tr>\n",
       "      <th id=\"T_136a8_level0_row0\" class=\"row_heading level0 row0\" >Rank</th>\n",
       "      <td id=\"T_136a8_row0_col0\" class=\"data row0 col0\" >1</td>\n",
       "      <td id=\"T_136a8_row0_col1\" class=\"data row0 col1\" >1</td>\n",
       "      <td id=\"T_136a8_row0_col2\" class=\"data row0 col2\" >1</td>\n",
       "      <td id=\"T_136a8_row0_col3\" class=\"data row0 col3\" >1</td>\n",
       "      <td id=\"T_136a8_row0_col4\" class=\"data row0 col4\" >1</td>\n",
       "      <td id=\"T_136a8_row0_col5\" class=\"data row0 col5\" >1</td>\n",
       "    </tr>\n",
       "  </tbody>\n",
       "</table>\n",
       "<em class='skcresult-method'>Method: AllAlternativesAreFirst</em>\n",
       "</div>"
      ],
      "text/plain": [
       "Alternatives  PE  JN  AA  FX  MM  GN\n",
       "Rank           1   1   1   1   1   1\n",
       "[Method: AllAlternativesAreFirst]"
      ]
     },
     "execution_count": 8,
     "metadata": {},
     "output_type": "execute_result"
    }
   ],
   "source": [
    "# evaluate\n",
    "rank = agg.evaluate(dm)\n",
    "rank"
   ]
  },
  {
   "cell_type": "code",
   "execution_count": 9,
   "metadata": {},
   "outputs": [
    {
     "data": {
      "text/plain": [
       "'the_important_value'"
      ]
     },
     "execution_count": 9,
     "metadata": {},
     "output_type": "execute_result"
    }
   ],
   "source": [
    "rank.e_.some_important_value"
   ]
  },
  {
   "cell_type": "markdown",
   "metadata": {},
   "source": [
    "## 3. Hyperparameters \n",
    "\n",
    "The [Hyper-parameters](https://en.wikipedia.org/wiki/Hyperparameter_(machine_learning)) (in the context of machine learning) are parameters that allow you to specify details on how the function will carry out its aggregation. In this sense, they are more similar to [Free-Parameters](https://en.wikipedia.org/wiki/Free_parameter) as they cannot be predicted or constrained by the model.\n",
    "\n",
    "In Scikit-Criteria, we define the concept of Hyper-parameters similar to the Hyper-parameters in Scikit-Learn: Parameters received by the model's (Aggregation function class) constructor and **always** should have some default value.\n",
    "\n",
    "For example, in the case of Scikit-Criteria's implementation of [TOPSIS](https://en.wikipedia.org/wiki/TOPSIS), it has a hyper-parameter for the metric it will use, and by default, it is set to `\"euclidean\"`.\n"
   ]
  },
  {
   "cell_type": "code",
   "execution_count": 10,
   "metadata": {},
   "outputs": [
    {
     "data": {
      "text/plain": [
       "<TOPSIS [metric='euclidean']>"
      ]
     },
     "execution_count": 10,
     "metadata": {},
     "output_type": "execute_result"
    }
   ],
   "source": [
    "from skcriteria.agg import similarity\n",
    "similarity.TOPSIS()"
   ]
  },
  {
   "cell_type": "code",
   "execution_count": 11,
   "metadata": {},
   "outputs": [
    {
     "data": {
      "text/plain": [
       "<TOPSIS [metric='cityblock']>"
      ]
     },
     "execution_count": 11,
     "metadata": {},
     "output_type": "execute_result"
    }
   ],
   "source": [
    "similarity.TOPSIS(metric=\"cityblock\")"
   ]
  },
  {
   "cell_type": "markdown",
   "metadata": {},
   "source": [
    "The hyper-parameters can be provided as named parameters to the `@mkagg` decorator, and their values can be accessed using the `hparams` parameter.\n",
    "\n"
   ]
  },
  {
   "cell_type": "markdown",
   "metadata": {},
   "source": [
    "<div class=\"alert alert-info\">\n",
    "**Note:** Regarding the nature of <code>hparams</code>\n",
    "\n",
    "If you are familiar with how methods work in Python classes, `hparams` is essentially the `self` of the model.\n",
    "\n",
    "</div>"
   ]
  },
  {
   "cell_type": "markdown",
   "metadata": {},
   "source": [
    "Now, for example, if we want to create a model named `MaybeWSM`, which is a [weighted-sum-model](https://en.wikipedia.org/wiki/Weighted_sum_model) that uses weights only when the `use_weight` hyperparameter is set to `True`, and the default value is indeed `True`."
   ]
  },
  {
   "cell_type": "code",
   "execution_count": 12,
   "metadata": {},
   "outputs": [],
   "source": [
    "import numpy as np\n",
    "\n",
    "from skcriteria.utils import rank\n",
    "\n",
    "@mkagg(use_weights=True)\n",
    "def MaybeWSM(hparams, matrix, objectives, weights, **kwargs):\n",
    "    \"\"\"The Maybe-Weighted Sum Model (WSM) to rank alternatives.\n",
    "\n",
    "    If the use_weights parameter in hparams is set to True, the \n",
    "    function applies weights to the decision matrix. This is done \n",
    "    by taking the inner product of the matrix and the weights vector.\n",
    "    \n",
    "    \"\"\"\n",
    "    # Check if objectives contain -1 (minimize objectives)\n",
    "    if -1 in objectives:\n",
    "        raise ValueError(\"'MaybeWSM' cant operate with minimize objectives\")\n",
    "\n",
    "    # If use_weights is True, apply weights to the matrix\n",
    "    if hparams.use_weights:\n",
    "        matrix = matrix * weights\n",
    "\n",
    "    # Calculate the scores by row/alternative\n",
    "    score = np.sum(matrix, axis=1)\n",
    "\n",
    "    # rank_values calculates the ranking based on the scores. \n",
    "    # `reverse = True` indicates that higher scores are closer to the 1st place.\n",
    "    # Additionally, we will return the calculated 'score' as extra information.\n",
    "    return rank.rank_values(score, reverse=True), {\"score\": score}\n"
   ]
  },
  {
   "cell_type": "markdown",
   "metadata": {},
   "source": [
    "Let's use our MaybeWSM model.\n",
    "\n",
    "First, let's see what happens if we create a `MaybeWSM` with the default (`use_weights=True`) and try to evaluate the available decision matrix (`dm`)."
   ]
  },
  {
   "cell_type": "code",
   "execution_count": 13,
   "metadata": {},
   "outputs": [
    {
     "data": {
      "text/plain": [
       "<MaybeWSM [use_weights=True]>"
      ]
     },
     "execution_count": 13,
     "metadata": {},
     "output_type": "execute_result"
    }
   ],
   "source": [
    "with_useweight = MaybeWSM()\n",
    "with_useweight"
   ]
  },
  {
   "cell_type": "markdown",
   "metadata": {},
   "source": [
    "If we use `dm` as it is right now, we will get an exception:  `'MaybeWSM' can't operate with minimize objectives` because, indeed, `dm` has some criteria to minimize."
   ]
  },
  {
   "cell_type": "code",
   "execution_count": 14,
   "metadata": {},
   "outputs": [
    {
     "data": {
      "text/plain": [
       "ROE    False\n",
       "CAP    False\n",
       "RI      True\n",
       "Name: minwhere, dtype: bool"
      ]
     },
     "execution_count": 14,
     "metadata": {},
     "output_type": "execute_result"
    }
   ],
   "source": [
    "dm.minwhere  # the critetia to minimize"
   ]
  },
  {
   "cell_type": "markdown",
   "metadata": {},
   "source": [
    "For this reason, first, we will use the `InvertMinimize` transformer to eliminate criteria to minimize.\n"
   ]
  },
  {
   "cell_type": "code",
   "execution_count": 15,
   "metadata": {},
   "outputs": [
    {
     "data": {
      "text/plain": [
       "ROE    False\n",
       "CAP    False\n",
       "RI     False\n",
       "Name: minwhere, dtype: bool"
      ]
     },
     "execution_count": 15,
     "metadata": {},
     "output_type": "execute_result"
    }
   ],
   "source": [
    "from skcriteria.preprocessing import invert_objectives\n",
    "\n",
    "dm = invert_objectives.InvertMinimize().transform(dm)\n",
    "dm.minwhere"
   ]
  },
  {
   "cell_type": "code",
   "execution_count": 16,
   "metadata": {},
   "outputs": [
    {
     "data": {
      "text/html": [
       "<div class='skcresult-rank skcresult'>\n",
       "<style type=\"text/css\">\n",
       "</style>\n",
       "<table id=\"T_db6c9\">\n",
       "  <thead>\n",
       "    <tr>\n",
       "      <th class=\"index_name level0\" >Alternatives</th>\n",
       "      <th id=\"T_db6c9_level0_col0\" class=\"col_heading level0 col0\" >PE</th>\n",
       "      <th id=\"T_db6c9_level0_col1\" class=\"col_heading level0 col1\" >JN</th>\n",
       "      <th id=\"T_db6c9_level0_col2\" class=\"col_heading level0 col2\" >AA</th>\n",
       "      <th id=\"T_db6c9_level0_col3\" class=\"col_heading level0 col3\" >FX</th>\n",
       "      <th id=\"T_db6c9_level0_col4\" class=\"col_heading level0 col4\" >MM</th>\n",
       "      <th id=\"T_db6c9_level0_col5\" class=\"col_heading level0 col5\" >GN</th>\n",
       "    </tr>\n",
       "  </thead>\n",
       "  <tbody>\n",
       "    <tr>\n",
       "      <th id=\"T_db6c9_level0_row0\" class=\"row_heading level0 row0\" >Rank</th>\n",
       "      <td id=\"T_db6c9_row0_col0\" class=\"data row0 col0\" >3</td>\n",
       "      <td id=\"T_db6c9_row0_col1\" class=\"data row0 col1\" >5</td>\n",
       "      <td id=\"T_db6c9_row0_col2\" class=\"data row0 col2\" >2</td>\n",
       "      <td id=\"T_db6c9_row0_col3\" class=\"data row0 col3\" >6</td>\n",
       "      <td id=\"T_db6c9_row0_col4\" class=\"data row0 col4\" >4</td>\n",
       "      <td id=\"T_db6c9_row0_col5\" class=\"data row0 col5\" >1</td>\n",
       "    </tr>\n",
       "  </tbody>\n",
       "</table>\n",
       "<em class='skcresult-method'>Method: MaybeWSM</em>\n",
       "</div>"
      ],
      "text/plain": [
       "Alternatives  PE  JN  AA  FX  MM  GN\n",
       "Rank           3   5   2   6   4   1\n",
       "[Method: MaybeWSM]"
      ]
     },
     "execution_count": 16,
     "metadata": {},
     "output_type": "execute_result"
    }
   ],
   "source": [
    "rank_with_uw = with_useweight.evaluate(dm)\n",
    "rank_with_uw"
   ]
  },
  {
   "cell_type": "markdown",
   "metadata": {},
   "source": [
    "Now, let's try `use_weights=False`."
   ]
  },
  {
   "cell_type": "code",
   "execution_count": 17,
   "metadata": {},
   "outputs": [
    {
     "data": {
      "text/plain": [
       "<MaybeWSM [use_weights=False]>"
      ]
     },
     "execution_count": 17,
     "metadata": {},
     "output_type": "execute_result"
    }
   ],
   "source": [
    "without_useweight = MaybeWSM(use_weights=False)\n",
    "without_useweight"
   ]
  },
  {
   "cell_type": "code",
   "execution_count": 18,
   "metadata": {},
   "outputs": [
    {
     "data": {
      "text/html": [
       "<div class='skcresult-rank skcresult'>\n",
       "<style type=\"text/css\">\n",
       "</style>\n",
       "<table id=\"T_ccf83\">\n",
       "  <thead>\n",
       "    <tr>\n",
       "      <th class=\"index_name level0\" >Alternatives</th>\n",
       "      <th id=\"T_ccf83_level0_col0\" class=\"col_heading level0 col0\" >PE</th>\n",
       "      <th id=\"T_ccf83_level0_col1\" class=\"col_heading level0 col1\" >JN</th>\n",
       "      <th id=\"T_ccf83_level0_col2\" class=\"col_heading level0 col2\" >AA</th>\n",
       "      <th id=\"T_ccf83_level0_col3\" class=\"col_heading level0 col3\" >FX</th>\n",
       "      <th id=\"T_ccf83_level0_col4\" class=\"col_heading level0 col4\" >MM</th>\n",
       "      <th id=\"T_ccf83_level0_col5\" class=\"col_heading level0 col5\" >GN</th>\n",
       "    </tr>\n",
       "  </thead>\n",
       "  <tbody>\n",
       "    <tr>\n",
       "      <th id=\"T_ccf83_level0_row0\" class=\"row_heading level0 row0\" >Rank</th>\n",
       "      <td id=\"T_ccf83_row0_col0\" class=\"data row0 col0\" >2</td>\n",
       "      <td id=\"T_ccf83_row0_col1\" class=\"data row0 col1\" >4</td>\n",
       "      <td id=\"T_ccf83_row0_col2\" class=\"data row0 col2\" >3</td>\n",
       "      <td id=\"T_ccf83_row0_col3\" class=\"data row0 col3\" >6</td>\n",
       "      <td id=\"T_ccf83_row0_col4\" class=\"data row0 col4\" >5</td>\n",
       "      <td id=\"T_ccf83_row0_col5\" class=\"data row0 col5\" >1</td>\n",
       "    </tr>\n",
       "  </tbody>\n",
       "</table>\n",
       "<em class='skcresult-method'>Method: MaybeWSM</em>\n",
       "</div>"
      ],
      "text/plain": [
       "Alternatives  PE  JN  AA  FX  MM  GN\n",
       "Rank           2   4   3   6   5   1\n",
       "[Method: MaybeWSM]"
      ]
     },
     "execution_count": 18,
     "metadata": {},
     "output_type": "execute_result"
    }
   ],
   "source": [
    "rank_without_uw = without_useweight.evaluate(dm)\n",
    "rank_without_uw"
   ]
  },
  {
   "cell_type": "markdown",
   "metadata": {},
   "source": [
    "It can be seen that depending on the configuration of the hyperparameter `use_weights`, the results are different.\n",
    "\n",
    "In addition to this, the `score` is available within `extra_`."
   ]
  },
  {
   "cell_type": "code",
   "execution_count": 19,
   "metadata": {},
   "outputs": [
    {
     "data": {
      "text/plain": [
       "(array([34.02857143, 26.03846154, 34.03571429, 22.02777778, 30.03333333,\n",
       "        42.03333333]),\n",
       " array([12.02857143,  9.03846154, 11.03571429,  7.02777778,  8.03333333,\n",
       "        13.03333333]))"
      ]
     },
     "execution_count": 19,
     "metadata": {},
     "output_type": "execute_result"
    }
   ],
   "source": [
    "rank_with_uw.e_.score, rank_without_uw.e_.score"
   ]
  },
  {
   "cell_type": "markdown",
   "metadata": {},
   "source": [
    "## 3. A New Transformer"
   ]
  }
 ],
 "metadata": {
  "kernelspec": {
   "display_name": "Python 3 (ipykernel)",
   "language": "python",
   "name": "python3"
  },
  "language_info": {
   "codemirror_mode": {
    "name": "ipython",
    "version": 3
   },
   "file_extension": ".py",
   "mimetype": "text/x-python",
   "name": "python",
   "nbconvert_exporter": "python",
   "pygments_lexer": "ipython3",
   "version": "3.10.12"
  }
 },
 "nbformat": 4,
 "nbformat_minor": 4
}
