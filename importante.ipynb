{
 "cells": [
  {
   "cell_type": "code",
   "execution_count": 95,
   "metadata": {},
   "outputs": [],
   "source": [
    "import numbers\n",
    "import pandas as pd\n",
    "from collections.abc import Iterable\n",
    "import attr\n",
    "import enum\n",
    "import itertools as it\n",
    "import functools\n",
    "import io\n",
    "\n",
    "import pandas.core.series\n",
    "\n",
    "import numpy as np\n",
    "\n",
    "from pandas.api import extensions as pdext # import ExtensionArray, ExtensionDtype, register_extension_dtype\n",
    "\n",
    "# notes\n",
    "# https://github.com/tomharvey/pandas-extension-dtype/blob/master/decimal_array.py\n",
    "# https://github.com/0phoff/pygeos-pandas/blob/master/pgpd/_array.py\n",
    "# https://pandas.pydata.org/pandas-docs/stable/development/extending.html#extension-types"
   ]
  },
  {
   "cell_type": "code",
   "execution_count": 136,
   "metadata": {},
   "outputs": [],
   "source": [
    "class Objective(enum.Enum):\n",
    "    MIN = -1\n",
    "    MAX = 1\n",
    "    \n",
    "    #: Another way to name the maximization criteria.\n",
    "    _MAX_ALIASES = [MAX, max, np.max, np.nanmax, np.amax, \"max\", \"maximize\", \"+\", \">\"]\n",
    "    \n",
    "    #: Another ways to name the minimization criteria.\n",
    "    _MIN_ALIASES = [MIN, min, np.min, np.nanmin, np.amin, \"min\", \"minimize\", \"-\", \"<\"]\n",
    "    \n",
    "    def __str__(self):\n",
    "        return self.name\n",
    "    \n",
    "    @classmethod\n",
    "    def construct_from_alias(cls, alias):\n",
    "        if alias in [cls.MIN, cls.MAX]:\n",
    "            return alias\n",
    "        if isinstance(alias, str):\n",
    "            alias = alias.lower()\n",
    "        if alias in cls._MAX_ALIASES.value:\n",
    "            return cls.MAX\n",
    "        if alias in cls._MIN_ALIASES.value:\n",
    "            return cls.MIN\n",
    "        raise ValueError(f\"Invalid criteria objective {alias}\")\n",
    "\n",
    "\n",
    "@pdext.register_extension_dtype\n",
    "@attr.s(repr=False, hash=True)\n",
    "class CriteriaDtype(pdext.ExtensionDtype):\n",
    "    \"\"\"A custom data type, to be paired with an ExtensionArray.\"\"\"\n",
    "    \n",
    "    # dtype\n",
    "    type = np.number\n",
    "    name = \"criteria\"\n",
    "    na_value = pd.NA\n",
    "    \n",
    "    _is_numeric = True\n",
    "    _metadata = (\"sense\", \"weight\")\n",
    "    \n",
    "    # data itself\n",
    "    objective = attr.ib(converter=Objective.construct_from_alias)\n",
    "    weight = attr.ib(converter=float)\n",
    "    \n",
    "    def __repr__(self):\n",
    "        return str(self)\n",
    "    \n",
    "    def __str__(self):\n",
    "        return f\"{type(self).__name__}({self.objective}, {self.weight})\"\n",
    "    \n",
    "    @classmethod\n",
    "    def construct_from_string(cls, string):\n",
    "        \"\"\"\n",
    "        Construct this type from a string (ic. :attr:`~CriteriaDtype.name`).\n",
    "        Args:\n",
    "            string (str): The name of the type.\n",
    "        Returns:\n",
    "            CriteriaDtype: instance of the dtype.\n",
    "        Raises:\n",
    "            TypeError: string is not equal to \"criteria\".\n",
    "        \"\"\"\n",
    "        if string == cls.name:\n",
    "            return cls()\n",
    "        else:\n",
    "            raise TypeError(f'Cannot construct a \"{cls.__name__}\" from \"{string}\"')\n",
    "\n",
    "    @classmethod\n",
    "    def construct_array_type(cls):\n",
    "        \"\"\"Return the array type associated with this dtype.\"\"\"\n",
    "        return CriteriaArray\n",
    "    \n",
    "\n",
    "@attr.s(repr=False)\n",
    "class CriteriaArray(pdext.ExtensionArray):\n",
    "    \n",
    "    \n",
    "    data = attr.ib(converter=lambda v: np.asarray(v, dtype=float))\n",
    "    _dtype = attr.ib(validator=attr.validators.instance_of(CriteriaDtype))\n",
    "\n",
    "    # INTERNAL\n",
    "    \n",
    "    def __repr__(self):\n",
    "        \"\"\"x.__repr__() <==> repr(x)\"\"\"\n",
    "        cls_name = type(self).__name__\n",
    "        return f\"{cls_name}({self.data}, {self.dtype})\"\n",
    "    \n",
    "    @property\n",
    "    def dtype(self):\n",
    "        return self._dtype\n",
    "    \n",
    "    # =========================================================================\n",
    "    # ExtensionArray Specific\n",
    "    # =========================================================================\n",
    "    \n",
    "    @classmethod\n",
    "    def _from_sequence(cls, scalars, dtype, copy=False):\n",
    "        \n",
    "        values = np.asarray(scalars, dtype=float)\n",
    "        if copy:\n",
    "            values = values.copy()\n",
    "        return cls(data=values, dtype=dtype)\n",
    "\n",
    "    @classmethod\n",
    "    def _from_factorized(cls, values, original):\n",
    "        \"\"\"Reconstruct an ExtensionArray after factorization.\"\"\"\n",
    "        return cls(values)\n",
    "    \n",
    "    def __getitem__(self, key):\n",
    "        if isinstance(key, numbers.Integral):\n",
    "            return self.data[key]\n",
    "\n",
    "        key = pd.api.indexers.check_array_indexer(self, key)\n",
    "        if isinstance(key, (Iterable, slice)):\n",
    "            return CriteriaArray(self.data[key], dtype=self.dtype)\n",
    "        else:\n",
    "            raise TypeError('Index type not supported', key)\n",
    "\n",
    "    def __setitem__(self, key, value):\n",
    "        self.data.__setitem__(key, value)\n",
    "\n",
    "    def __len__(self):\n",
    "        return len(self.data)\n",
    "\n",
    "    def __eq__(self, other):\n",
    "        return isinstance(other, self.__class__) and self.data == other.data and self.dtype == other.dtype\n",
    "\n",
    "    @property\n",
    "    def nbytes(self):\n",
    "        return self.data.nbytes\n",
    "\n",
    "    def isna(self):\n",
    "        return pd.isna(self.data)\n",
    "\n",
    "    def take(self, indices, allow_fill=False, fill_value=None):\n",
    "        from pandas.core.algorithms import take\n",
    "\n",
    "        if allow_fill:\n",
    "            if fill_value is None or pd.isna(fill_value):\n",
    "                fill_value = None\n",
    "            elif not isinstance(fill_value, self.dtype.type):\n",
    "                raise TypeError('Provide float or None as fill value')\n",
    "\n",
    "        result = take(self.data, indices, allow_fill=allow_fill, fill_value=fill_value)\n",
    "\n",
    "        if allow_fill and fill_value is None:\n",
    "            result[pd.isna(result)] = None\n",
    "\n",
    "        return self.__class__(result)\n",
    "\n",
    "    def copy(self, order='C'):\n",
    "        cdata = self.data.copy(order)\n",
    "        return CriteriaArray(cdata, dtype=self.dtype)\n",
    "\n",
    "    @classmethod\n",
    "    def _concat_same_type(cls, to_concat):\n",
    "        data = np.concatenate([c.data for c in to_concat], dtype=float)\n",
    "        dtype = {c.dtype for c in to_concat}\n",
    "        if len(dtype) > 1:\n",
    "            raise ValueError(\"Multiple criteria dtype detected\")\n",
    "        return cls(data, dtype=dtype.pop())\n"
   ]
  },
  {
   "cell_type": "code",
   "execution_count": 142,
   "metadata": {
    "tags": []
   },
   "outputs": [
    {
     "ename": "TypeError",
     "evalue": "data type 'criteria[+, 1]' not understood",
     "output_type": "error",
     "traceback": [
      "\u001b[0;31m---------------------------------------------------------------------------\u001b[0m",
      "\u001b[0;31mTypeError\u001b[0m                                 Traceback (most recent call last)",
      "\u001b[0;32m<ipython-input-142-358c74411ec3>\u001b[0m in \u001b[0;36m<module>\u001b[0;34m\u001b[0m\n\u001b[1;32m      1\u001b[0m \u001b[0mcdtype\u001b[0m \u001b[0;34m=\u001b[0m \u001b[0mCriteriaDtype\u001b[0m\u001b[0;34m(\u001b[0m\u001b[0;34m\"+\"\u001b[0m\u001b[0;34m,\u001b[0m \u001b[0;36m1\u001b[0m\u001b[0;34m)\u001b[0m\u001b[0;34m\u001b[0m\u001b[0;34m\u001b[0m\u001b[0m\n\u001b[1;32m      2\u001b[0m \u001b[0mcrit\u001b[0m \u001b[0;34m=\u001b[0m \u001b[0mCriteriaArray\u001b[0m\u001b[0;34m(\u001b[0m\u001b[0mnp\u001b[0m\u001b[0;34m.\u001b[0m\u001b[0marange\u001b[0m\u001b[0;34m(\u001b[0m\u001b[0;36m10000\u001b[0m\u001b[0;34m)\u001b[0m\u001b[0;34m,\u001b[0m \u001b[0mdtype\u001b[0m\u001b[0;34m=\u001b[0m\u001b[0mcdtype\u001b[0m\u001b[0;34m)\u001b[0m\u001b[0;34m\u001b[0m\u001b[0;34m\u001b[0m\u001b[0m\n\u001b[0;32m----> 3\u001b[0;31m \u001b[0mpd\u001b[0m\u001b[0;34m.\u001b[0m\u001b[0mSeries\u001b[0m\u001b[0;34m(\u001b[0m\u001b[0mnp\u001b[0m\u001b[0;34m.\u001b[0m\u001b[0marange\u001b[0m\u001b[0;34m(\u001b[0m\u001b[0;36m10000\u001b[0m\u001b[0;34m)\u001b[0m\u001b[0;34m)\u001b[0m\u001b[0;34m.\u001b[0m\u001b[0mastype\u001b[0m\u001b[0;34m(\u001b[0m\u001b[0;34m\"criteria[+, 1]\"\u001b[0m\u001b[0;34m)\u001b[0m\u001b[0;34m\u001b[0m\u001b[0;34m\u001b[0m\u001b[0m\n\u001b[0m",
      "\u001b[0;32m~/proyectos/skcriteria2/lib/python3.8/site-packages/pandas/core/generic.py\u001b[0m in \u001b[0;36mastype\u001b[0;34m(self, dtype, copy, errors)\u001b[0m\n\u001b[1;32m   5875\u001b[0m         \u001b[0;32melse\u001b[0m\u001b[0;34m:\u001b[0m\u001b[0;34m\u001b[0m\u001b[0;34m\u001b[0m\u001b[0m\n\u001b[1;32m   5876\u001b[0m             \u001b[0;31m# else, only a single dtype is given\u001b[0m\u001b[0;34m\u001b[0m\u001b[0;34m\u001b[0m\u001b[0;34m\u001b[0m\u001b[0m\n\u001b[0;32m-> 5877\u001b[0;31m             \u001b[0mnew_data\u001b[0m \u001b[0;34m=\u001b[0m \u001b[0mself\u001b[0m\u001b[0;34m.\u001b[0m\u001b[0m_mgr\u001b[0m\u001b[0;34m.\u001b[0m\u001b[0mastype\u001b[0m\u001b[0;34m(\u001b[0m\u001b[0mdtype\u001b[0m\u001b[0;34m=\u001b[0m\u001b[0mdtype\u001b[0m\u001b[0;34m,\u001b[0m \u001b[0mcopy\u001b[0m\u001b[0;34m=\u001b[0m\u001b[0mcopy\u001b[0m\u001b[0;34m,\u001b[0m \u001b[0merrors\u001b[0m\u001b[0;34m=\u001b[0m\u001b[0merrors\u001b[0m\u001b[0;34m)\u001b[0m\u001b[0;34m\u001b[0m\u001b[0;34m\u001b[0m\u001b[0m\n\u001b[0m\u001b[1;32m   5878\u001b[0m             \u001b[0;32mreturn\u001b[0m \u001b[0mself\u001b[0m\u001b[0;34m.\u001b[0m\u001b[0m_constructor\u001b[0m\u001b[0;34m(\u001b[0m\u001b[0mnew_data\u001b[0m\u001b[0;34m)\u001b[0m\u001b[0;34m.\u001b[0m\u001b[0m__finalize__\u001b[0m\u001b[0;34m(\u001b[0m\u001b[0mself\u001b[0m\u001b[0;34m,\u001b[0m \u001b[0mmethod\u001b[0m\u001b[0;34m=\u001b[0m\u001b[0;34m\"astype\"\u001b[0m\u001b[0;34m)\u001b[0m\u001b[0;34m\u001b[0m\u001b[0;34m\u001b[0m\u001b[0m\n\u001b[1;32m   5879\u001b[0m \u001b[0;34m\u001b[0m\u001b[0m\n",
      "\u001b[0;32m~/proyectos/skcriteria2/lib/python3.8/site-packages/pandas/core/internals/managers.py\u001b[0m in \u001b[0;36mastype\u001b[0;34m(self, dtype, copy, errors)\u001b[0m\n\u001b[1;32m    629\u001b[0m         \u001b[0mself\u001b[0m\u001b[0;34m,\u001b[0m \u001b[0mdtype\u001b[0m\u001b[0;34m,\u001b[0m \u001b[0mcopy\u001b[0m\u001b[0;34m:\u001b[0m \u001b[0mbool\u001b[0m \u001b[0;34m=\u001b[0m \u001b[0;32mFalse\u001b[0m\u001b[0;34m,\u001b[0m \u001b[0merrors\u001b[0m\u001b[0;34m:\u001b[0m \u001b[0mstr\u001b[0m \u001b[0;34m=\u001b[0m \u001b[0;34m\"raise\"\u001b[0m\u001b[0;34m\u001b[0m\u001b[0;34m\u001b[0m\u001b[0m\n\u001b[1;32m    630\u001b[0m     ) -> \"BlockManager\":\n\u001b[0;32m--> 631\u001b[0;31m         \u001b[0;32mreturn\u001b[0m \u001b[0mself\u001b[0m\u001b[0;34m.\u001b[0m\u001b[0mapply\u001b[0m\u001b[0;34m(\u001b[0m\u001b[0;34m\"astype\"\u001b[0m\u001b[0;34m,\u001b[0m \u001b[0mdtype\u001b[0m\u001b[0;34m=\u001b[0m\u001b[0mdtype\u001b[0m\u001b[0;34m,\u001b[0m \u001b[0mcopy\u001b[0m\u001b[0;34m=\u001b[0m\u001b[0mcopy\u001b[0m\u001b[0;34m,\u001b[0m \u001b[0merrors\u001b[0m\u001b[0;34m=\u001b[0m\u001b[0merrors\u001b[0m\u001b[0;34m)\u001b[0m\u001b[0;34m\u001b[0m\u001b[0;34m\u001b[0m\u001b[0m\n\u001b[0m\u001b[1;32m    632\u001b[0m \u001b[0;34m\u001b[0m\u001b[0m\n\u001b[1;32m    633\u001b[0m     def convert(\n",
      "\u001b[0;32m~/proyectos/skcriteria2/lib/python3.8/site-packages/pandas/core/internals/managers.py\u001b[0m in \u001b[0;36mapply\u001b[0;34m(self, f, align_keys, ignore_failures, **kwargs)\u001b[0m\n\u001b[1;32m    425\u001b[0m                     \u001b[0mapplied\u001b[0m \u001b[0;34m=\u001b[0m \u001b[0mb\u001b[0m\u001b[0;34m.\u001b[0m\u001b[0mapply\u001b[0m\u001b[0;34m(\u001b[0m\u001b[0mf\u001b[0m\u001b[0;34m,\u001b[0m \u001b[0;34m**\u001b[0m\u001b[0mkwargs\u001b[0m\u001b[0;34m)\u001b[0m\u001b[0;34m\u001b[0m\u001b[0;34m\u001b[0m\u001b[0m\n\u001b[1;32m    426\u001b[0m                 \u001b[0;32melse\u001b[0m\u001b[0;34m:\u001b[0m\u001b[0;34m\u001b[0m\u001b[0;34m\u001b[0m\u001b[0m\n\u001b[0;32m--> 427\u001b[0;31m                     \u001b[0mapplied\u001b[0m \u001b[0;34m=\u001b[0m \u001b[0mgetattr\u001b[0m\u001b[0;34m(\u001b[0m\u001b[0mb\u001b[0m\u001b[0;34m,\u001b[0m \u001b[0mf\u001b[0m\u001b[0;34m)\u001b[0m\u001b[0;34m(\u001b[0m\u001b[0;34m**\u001b[0m\u001b[0mkwargs\u001b[0m\u001b[0;34m)\u001b[0m\u001b[0;34m\u001b[0m\u001b[0;34m\u001b[0m\u001b[0m\n\u001b[0m\u001b[1;32m    428\u001b[0m             \u001b[0;32mexcept\u001b[0m \u001b[0;34m(\u001b[0m\u001b[0mTypeError\u001b[0m\u001b[0;34m,\u001b[0m \u001b[0mNotImplementedError\u001b[0m\u001b[0;34m)\u001b[0m\u001b[0;34m:\u001b[0m\u001b[0;34m\u001b[0m\u001b[0;34m\u001b[0m\u001b[0m\n\u001b[1;32m    429\u001b[0m                 \u001b[0;32mif\u001b[0m \u001b[0;32mnot\u001b[0m \u001b[0mignore_failures\u001b[0m\u001b[0;34m:\u001b[0m\u001b[0;34m\u001b[0m\u001b[0;34m\u001b[0m\u001b[0m\n",
      "\u001b[0;32m~/proyectos/skcriteria2/lib/python3.8/site-packages/pandas/core/internals/blocks.py\u001b[0m in \u001b[0;36mastype\u001b[0;34m(self, dtype, copy, errors)\u001b[0m\n\u001b[1;32m    624\u001b[0m \u001b[0;34m\u001b[0m\u001b[0m\n\u001b[1;32m    625\u001b[0m         \u001b[0;32mif\u001b[0m \u001b[0mdtype\u001b[0m \u001b[0;32mis\u001b[0m \u001b[0;32mnot\u001b[0m \u001b[0;32mNone\u001b[0m\u001b[0;34m:\u001b[0m\u001b[0;34m\u001b[0m\u001b[0;34m\u001b[0m\u001b[0m\n\u001b[0;32m--> 626\u001b[0;31m             \u001b[0mdtype\u001b[0m \u001b[0;34m=\u001b[0m \u001b[0mpandas_dtype\u001b[0m\u001b[0;34m(\u001b[0m\u001b[0mdtype\u001b[0m\u001b[0;34m)\u001b[0m\u001b[0;34m\u001b[0m\u001b[0;34m\u001b[0m\u001b[0m\n\u001b[0m\u001b[1;32m    627\u001b[0m \u001b[0;34m\u001b[0m\u001b[0m\n\u001b[1;32m    628\u001b[0m         \u001b[0;31m# may need to convert to categorical\u001b[0m\u001b[0;34m\u001b[0m\u001b[0;34m\u001b[0m\u001b[0;34m\u001b[0m\u001b[0m\n",
      "\u001b[0;32m~/proyectos/skcriteria2/lib/python3.8/site-packages/pandas/core/dtypes/common.py\u001b[0m in \u001b[0;36mpandas_dtype\u001b[0;34m(dtype)\u001b[0m\n\u001b[1;32m   1797\u001b[0m     \u001b[0;31m# raise a consistent TypeError if failed\u001b[0m\u001b[0;34m\u001b[0m\u001b[0;34m\u001b[0m\u001b[0;34m\u001b[0m\u001b[0m\n\u001b[1;32m   1798\u001b[0m     \u001b[0;32mtry\u001b[0m\u001b[0;34m:\u001b[0m\u001b[0;34m\u001b[0m\u001b[0;34m\u001b[0m\u001b[0m\n\u001b[0;32m-> 1799\u001b[0;31m         \u001b[0mnpdtype\u001b[0m \u001b[0;34m=\u001b[0m \u001b[0mnp\u001b[0m\u001b[0;34m.\u001b[0m\u001b[0mdtype\u001b[0m\u001b[0;34m(\u001b[0m\u001b[0mdtype\u001b[0m\u001b[0;34m)\u001b[0m\u001b[0;34m\u001b[0m\u001b[0;34m\u001b[0m\u001b[0m\n\u001b[0m\u001b[1;32m   1800\u001b[0m     \u001b[0;32mexcept\u001b[0m \u001b[0mSyntaxError\u001b[0m \u001b[0;32mas\u001b[0m \u001b[0merr\u001b[0m\u001b[0;34m:\u001b[0m\u001b[0;34m\u001b[0m\u001b[0;34m\u001b[0m\u001b[0m\n\u001b[1;32m   1801\u001b[0m         \u001b[0;31m# np.dtype uses `eval` which can raise SyntaxError\u001b[0m\u001b[0;34m\u001b[0m\u001b[0;34m\u001b[0m\u001b[0;34m\u001b[0m\u001b[0m\n",
      "\u001b[0;31mTypeError\u001b[0m: data type 'criteria[+, 1]' not understood"
     ]
    }
   ],
   "source": [
    "cdtype = CriteriaDtype(\"+\", 1)\n",
    "crit = CriteriaArray(np.arange(10000), dtype=cdtype)\n",
    "pd.Series(np.arange(10000)).astype(\"criteria[+, 1]\")\n"
   ]
  },
  {
   "cell_type": "code",
   "execution_count": 93,
   "metadata": {},
   "outputs": [
    {
     "data": {
      "text/plain": [
       "CriteriaDtype(MAX, 1.0)"
      ]
     },
     "execution_count": 93,
     "metadata": {},
     "output_type": "execute_result"
    }
   ],
   "source": [
    "\n",
    "crit.dtype"
   ]
  },
  {
   "cell_type": "code",
   "execution_count": 84,
   "metadata": {},
   "outputs": [
    {
     "data": {
      "text/plain": [
       "<function __main__.CriteriaArray.__init__(self, data, dtype) -> None>"
      ]
     },
     "execution_count": 84,
     "metadata": {},
     "output_type": "execute_result"
    }
   ],
   "source": [
    "CriteriaArray.__init__"
   ]
  },
  {
   "cell_type": "code",
   "execution_count": 102,
   "metadata": {},
   "outputs": [
    {
     "data": {
      "text/plain": [
       "True"
      ]
     },
     "execution_count": 102,
     "metadata": {},
     "output_type": "execute_result"
    }
   ],
   "source": [
    "CriteriaDtype(\"+\", 1) == CriteriaDtype(\"+\", 1)"
   ]
  },
  {
   "cell_type": "code",
   "execution_count": 117,
   "metadata": {},
   "outputs": [
    {
     "data": {
      "text/plain": [
       "'[   0    1    2 ... 9997 9998 9999]'"
      ]
     },
     "execution_count": 117,
     "metadata": {},
     "output_type": "execute_result"
    }
   ],
   "source": [
    "np.array_str(np.arange(10000))"
   ]
  },
  {
   "cell_type": "code",
   "execution_count": 121,
   "metadata": {},
   "outputs": [
    {
     "data": {
      "text/plain": [
       "'[   0,   1,   2,...,9997,9998,9999]'"
      ]
     },
     "execution_count": 121,
     "metadata": {},
     "output_type": "execute_result"
    }
   ],
   "source": []
  },
  {
   "cell_type": "code",
   "execution_count": null,
   "metadata": {},
   "outputs": [],
   "source": []
  }
 ],
 "metadata": {
  "kernelspec": {
   "display_name": "Python 3",
   "language": "python",
   "name": "python3"
  },
  "language_info": {
   "codemirror_mode": {
    "name": "ipython",
    "version": 3
   },
   "file_extension": ".py",
   "mimetype": "text/x-python",
   "name": "python",
   "nbconvert_exporter": "python",
   "pygments_lexer": "ipython3",
   "version": "3.8.5"
  }
 },
 "nbformat": 4,
 "nbformat_minor": 4
}
