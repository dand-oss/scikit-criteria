{
 "cells": [
  {
   "cell_type": "markdown",
   "metadata": {},
   "source": [
    "# The SIMUS tutorial\n",
    "\n",
    "**SIMUS** (*Sequential Interactive Model for Urban Systems*) \n",
    "\n",
    "Is a tool to aid decision-making problems with\n",
    "multiple objectives. The method solves successive scenarios formulated as\n",
    "linear programs. For each scenario, the decision-maker must choose the\n",
    "criterion to be considered objective while the remaining restrictions\n",
    "constitute the constrains system that the projects are subject to. In each\n",
    "case, if there is a feasible solution that is optimum, it is recorded in a\n",
    "matrix of efficient results. Then, from this matrix two rankings allow the\n",
    "decision maker to compare results obtained by different procedures.\n",
    "The first ranking is obtained through a linear weighting of each column by\n",
    "a factor - equivalent of establishing a weight - and that measures the\n",
    "participation of the corresponding project. In the second ranking, the\n",
    "method uses dominance and subordinate relationships between projects,\n",
    "concepts from the French school of MCDM.\n",
    "\n",
    "\n",
    "## The Case: Land rehabilitation\n",
    "\n",
    "An important port city has been affected by the change in\n",
    "the modality of maritime transport, since the start of \n",
    "containers transport in the mid-20th century. The city was left with 39 hectares\n",
    "of empty docks, warehouses and a railway terminal.\n",
    "\n",
    "Three projects was developed to decide what to do with this places\n",
    "\n",
    "- **Project 1:** Corporate towers - Hotels - Navy Base - Small park\n",
    "- **Project 2:** Habitational towers - Comercial Center in the old Railway terminal.\n",
    "- **Project 3:** Convention center - Big park and recreational area.\n",
    "\n",
    "The criteria for the analysis of proposals are:\n",
    "\n",
    "1. New jobs positions (**jobs**).\n",
    "- Green spaces (**green**)\n",
    "- Financial feasibility (**fin**)\n",
    "- Environmental impact (**env**)\n",
    "\n",
    "\n",
    "Only for the 2nd criteria a maximun limit pf $500$ are provided.\n",
    "The decisor has the four criteria as goals, so 4 [Linear Optimizations](https://en.wikipedia.org/wiki/Linear_programming) must be solved.\n",
    "\n",
    "\n",
    "The data are provided in the next table:\n",
    "\n",
    "|Criteria|Project 1|Project 2|Project 3|Right side value|Optimal Sense|\n",
    "|--- |--- |--- |--- |--- |--- |--- |--- |--- |--- |\n",
    "|jobs|250|130|350|-|Maximize|\n",
    "|green|120|200|340|500|Maximize|\n",
    "|fin|20|40|15|-|Maximize|\n",
    "|env|800|1000|600|-|Maximize|\n",
    "\n",
    "\n",
    "### Data input\n",
    "\n",
    "We can create a `skcriteria.Data` object with all this information (except the limits):\n",
    "\n",
    "<div class=\"alert alert-info\">\n",
    "**Note:** SIMUS uses the alternatives as columns and the criteria as rows; but in *scikit-criteria* is the oposite, so expect to see the previous table transposed.\n",
    "</div>"
   ]
  },
  {
   "cell_type": "code",
   "execution_count": 1,
   "metadata": {},
   "outputs": [
    {
     "data": {
      "text/html": [
       "<table>\n",
       "<thead>\n",
       "<tr><th style=\"text-align: center;\"> ALT./CRIT. </th><th style=\"text-align: center;\"> jobs (max) </th><th style=\"text-align: center;\"> green (max) </th><th style=\"text-align: center;\"> fin (min) </th><th style=\"text-align: center;\"> env (max) </th></tr>\n",
       "</thead>\n",
       "<tbody>\n",
       "<tr><td style=\"text-align: center;\">   Prj 1    </td><td style=\"text-align: center;\">    250     </td><td style=\"text-align: center;\">     120     </td><td style=\"text-align: center;\">    20     </td><td style=\"text-align: center;\">    800    </td></tr>\n",
       "<tr><td style=\"text-align: center;\">   Prj 2    </td><td style=\"text-align: center;\">    130     </td><td style=\"text-align: center;\">     200     </td><td style=\"text-align: center;\">    40     </td><td style=\"text-align: center;\">   1000    </td></tr>\n",
       "<tr><td style=\"text-align: center;\">   Prj 3    </td><td style=\"text-align: center;\">    350     </td><td style=\"text-align: center;\">     340     </td><td style=\"text-align: center;\">    15     </td><td style=\"text-align: center;\">    600    </td></tr>\n",
       "</tbody>\n",
       "</table>"
      ],
      "text/plain": [
       " ALT./CRIT.    jobs (max)    green (max)    fin (min)    env (max)\n",
       "------------  ------------  -------------  -----------  -----------\n",
       "   Prj 1          250            120           20           800\n",
       "   Prj 2          130            200           40          1000\n",
       "   Prj 3          350            340           15           600"
      ]
     },
     "execution_count": 1,
     "metadata": {},
     "output_type": "execute_result"
    }
   ],
   "source": [
    "# first lets import the DATA class\n",
    "from skcriteria import Data\n",
    "\n",
    "data = Data(\n",
    "    # the alternative matrix\n",
    "    mtx=[[250, 120, 20, 800],\n",
    "         [130, 200, 40, 1000],\n",
    "         [350, 340, 15, 600]],\n",
    "    \n",
    "    # optimal sense\n",
    "    criteria=[max, max, min, max],\n",
    "    \n",
    "    # names of alternatives and criteria\n",
    "    anames=[\"Prj 1\", \"Prj 2\", \"Prj 3\"],\n",
    "    cnames=[\"jobs\", \"green\", \"fin\", \"env\"])\n",
    "\n",
    "# show the data object\n",
    "data"
   ]
  },
  {
   "cell_type": "markdown",
   "metadata": {},
   "source": [
    "### Create the model"
   ]
  },
  {
   "cell_type": "code",
   "execution_count": 2,
   "metadata": {},
   "outputs": [],
   "source": [
    "# import the class\n",
    "from skcriteria.madm.simus import SIMUS\n",
    "\n",
    "# create the new simus and\n",
    "dm = SIMUS()"
   ]
  },
  {
   "cell_type": "markdown",
   "metadata": {},
   "source": [
    "By default the call `SIMUS()` create a solver that internally uses the [PuLP](https://pythonhosted.org/PuLP/) solver to solve the linear programs. Other availables solvers are:\n",
    "\n",
    "- `SUMUS(solver='glpk')` for the [GNU Linear programming toolkit](https://en.wikipedia.org/wiki/GNU_Linear_Programming_Kit)\n",
    "- `SUMUS(solver='gurobi')` to use [Gurobi Optimizer](https://en.wikipedia.org/wiki/Gurobi)\n",
    "- `SUMUS(solver='cplex')` for [IBM ILOG CPLEX Optimization Studio](https://en.wikipedia.org/wiki/CPLEX)\n",
    "\n",
    "<div class=\"alert alert-info\">\n",
    "**Note:** The check the full list of available optimizers are stored in `skcriteria.utils.lp.SOLVERS`.\n",
    "</div>\n",
    "\n",
    "Also the `njobs` parameters determines how many cores the user want to use to run the linear programs. For example\n",
    "`SIMUS(njobs=2)` uses up to two cores. (By default all CPUs are used).\n",
    "\n",
    "Also the last (and most important) parameter is `rank_by` (default is 1): determines which of the two ranks methods executed by SIMUS is the one that determines the final ranking. If the experiment is consistent, the two methos *must* detemines the *same* ranking (Please check the [paper](https://revistas.unc.edu.ar/index.php/epio/article/viewFile/16533/16348) for more details)."
   ]
  },
  {
   "cell_type": "markdown",
   "metadata": {},
   "source": [
    "### Solve the problem\n",
    "\n",
    "This is achived by calling the method `decide()` of the decision maker object (`dm`)"
   ]
  },
  {
   "cell_type": "code",
   "execution_count": 3,
   "metadata": {},
   "outputs": [
    {
     "data": {
      "text/html": [
       "<div id='dec-06dd3b64-c91d-11e9-8794-d85de264446f'><p><b>SIMUS (mnorm=none, wnorm=none) - Solution:</b></p><table>\n",
       "<thead>\n",
       "<tr><th style=\"text-align: center;\"> ALT./CRIT. </th><th style=\"text-align: center;\"> jobs (max) </th><th style=\"text-align: center;\"> green (max) </th><th style=\"text-align: center;\"> fin (min) </th><th style=\"text-align: center;\"> env (max) </th><th style=\"text-align: center;\"> Rank </th></tr>\n",
       "</thead>\n",
       "<tbody>\n",
       "<tr><td style=\"text-align: center;\">   Prj 1    </td><td style=\"text-align: center;\">    250     </td><td style=\"text-align: center;\">     120     </td><td style=\"text-align: center;\">    20     </td><td style=\"text-align: center;\">    800    </td><td style=\"text-align: center;\">  3   </td></tr>\n",
       "<tr><td style=\"text-align: center;\">   Prj 2    </td><td style=\"text-align: center;\">    130     </td><td style=\"text-align: center;\">     200     </td><td style=\"text-align: center;\">    40     </td><td style=\"text-align: center;\">   1000    </td><td style=\"text-align: center;\">  2   </td></tr>\n",
       "<tr><td style=\"text-align: center;\">   Prj 3    </td><td style=\"text-align: center;\">    350     </td><td style=\"text-align: center;\">     340     </td><td style=\"text-align: center;\">    15     </td><td style=\"text-align: center;\">    600    </td><td style=\"text-align: center;\">  1   </td></tr>\n",
       "</tbody>\n",
       "</table></div>"
      ],
      "text/plain": [
       "SIMUS (mnorm=none, wnorm=none) - Solution:\n",
       " ALT./CRIT.    jobs (max)    green (max)    fin (min)    env (max)    Rank\n",
       "------------  ------------  -------------  -----------  -----------  ------\n",
       "   Prj 1          250            120           20           800        3\n",
       "   Prj 2          130            200           40          1000        2\n",
       "   Prj 3          350            340           15           600        1"
      ]
     },
     "execution_count": 3,
     "metadata": {},
     "output_type": "execute_result"
    }
   ],
   "source": [
    "# store the decision inside the dec variable\n",
    "dec = dm.decide(data, b=[None, 500, None, None])\n",
    "\n",
    "# let's see the decision\n",
    "dec"
   ]
  },
  {
   "cell_type": "markdown",
   "metadata": {},
   "source": [
    "If you check the last column the raking is:\n",
    "\n",
    "1. Project 3\n",
    "- Project 2\n",
    "- Project 1"
   ]
  },
  {
   "cell_type": "markdown",
   "metadata": {},
   "source": [
    "### Analysis\n",
    "\n",
    "Most of the \"intermediate\" data of the SIMUS method are stored in the `e_` field of the decision object `dec`."
   ]
  },
  {
   "cell_type": "code",
   "execution_count": 4,
   "metadata": {},
   "outputs": [
    {
     "data": {
      "text/plain": [
       "Extra(rank_by, solver, stages, stage_results, points1, points2, tita_j_p, tita_j_d, doms, dom_by_crit)"
      ]
     },
     "execution_count": 4,
     "metadata": {},
     "output_type": "execute_result"
    }
   ],
   "source": [
    "dec.e_"
   ]
  },
  {
   "cell_type": "markdown",
   "metadata": {},
   "source": [
    "for example the attribute `stages` stores all the Linear programs executed by SIMUS:"
   ]
  },
  {
   "cell_type": "code",
   "execution_count": 5,
   "metadata": {},
   "outputs": [
    {
     "data": {
      "text/plain": [
       "[no-name:\n",
       " MAXIMIZE\n",
       " 250*x0 + 130*x1 + 350*x2 + 0\n",
       " SUBJECT TO\n",
       " _C1: 120 x0 + 200 x1 + 340 x2 <= 500\n",
       " \n",
       " _C2: 20 x0 + 40 x1 + 15 x2 >= 15\n",
       " \n",
       " _C3: 800 x0 + 1000 x1 + 600 x2 <= 1000\n",
       " \n",
       " VARIABLES\n",
       " x0 Continuous\n",
       " x0 Continuous\n",
       " x1 Continuous\n",
       " x1 Continuous\n",
       " x2 Continuous\n",
       " x2 Continuous, no-name:\n",
       " MAXIMIZE\n",
       " 120*x0 + 200*x1 + 340*x2 + 0\n",
       " SUBJECT TO\n",
       " _C1: 250 x0 + 130 x1 + 350 x2 <= 350\n",
       " \n",
       " _C2: 20 x0 + 40 x1 + 15 x2 >= 15\n",
       " \n",
       " _C3: 800 x0 + 1000 x1 + 600 x2 <= 1000\n",
       " \n",
       " VARIABLES\n",
       " x0 Continuous\n",
       " x0 Continuous\n",
       " x1 Continuous\n",
       " x1 Continuous\n",
       " x2 Continuous\n",
       " x2 Continuous, no-name:\n",
       " MINIMIZE\n",
       " 20*x0 + 40*x1 + 15*x2 + 0\n",
       " SUBJECT TO\n",
       " _C1: 250 x0 + 130 x1 + 350 x2 <= 350\n",
       " \n",
       " _C2: 120 x0 + 200 x1 + 340 x2 <= 500\n",
       " \n",
       " _C3: 800 x0 + 1000 x1 + 600 x2 <= 1000\n",
       " \n",
       " VARIABLES\n",
       " x0 Continuous\n",
       " x0 Continuous\n",
       " x1 Continuous\n",
       " x1 Continuous\n",
       " x2 Continuous\n",
       " x2 Continuous, no-name:\n",
       " MAXIMIZE\n",
       " 800*x0 + 1000*x1 + 600*x2 + 0\n",
       " SUBJECT TO\n",
       " _C1: 250 x0 + 130 x1 + 350 x2 <= 350\n",
       " \n",
       " _C2: 120 x0 + 200 x1 + 340 x2 <= 500\n",
       " \n",
       " _C3: 20 x0 + 40 x1 + 15 x2 >= 15\n",
       " \n",
       " VARIABLES\n",
       " x0 Continuous\n",
       " x0 Continuous\n",
       " x1 Continuous\n",
       " x1 Continuous\n",
       " x2 Continuous\n",
       " x2 Continuous]"
      ]
     },
     "execution_count": 5,
     "metadata": {},
     "output_type": "execute_result"
    }
   ],
   "source": [
    "dec._e.stages"
   ]
  },
  {
   "cell_type": "markdown",
   "metadata": {},
   "source": [
    "The attribute `stages_results` stores the *eficients restults normalized matrix* "
   ]
  },
  {
   "cell_type": "code",
   "execution_count": 6,
   "metadata": {},
   "outputs": [
    {
     "data": {
      "text/plain": [
       "array([[0.125     , 0.        , 0.875     ],\n",
       "       [0.        , 0.38888889, 0.61111111],\n",
       "       [0.        , 0.        , 0.        ],\n",
       "       [0.05681818, 0.94318182, 0.        ]])"
      ]
     },
     "execution_count": 6,
     "metadata": {},
     "output_type": "execute_result"
    }
   ],
   "source": [
    "dec.e_.stage_results"
   ]
  },
  {
   "cell_type": "markdown",
   "metadata": {},
   "source": [
    "## References\n",
    "\n",
    "> Munier, N., Carignano, C., & Alberto, C. UN MÉTODO DE PROGRAMACIÓN MULTIOBJETIVO. Revista de la Escuela de Perfeccionamiento en Investigación Operativa, 24(39)."
   ]
  },
  {
   "cell_type": "code",
   "execution_count": 7,
   "metadata": {},
   "outputs": [
    {
     "name": "stdout",
     "output_type": "stream",
     "text": [
      "Scikit-Criteria version: 0.2.10\n",
      "Running datetime: 2019-08-27 19:50:11.820481\n"
     ]
    }
   ],
   "source": [
    "import datetime as dt\n",
    "import skcriteria\n",
    "print(\"Scikit-Criteria version:\", skcriteria.VERSION)\n",
    "print(\"Running datetime:\", dt.datetime.now())"
   ]
  }
 ],
 "metadata": {
  "celltoolbar": "Edit Metadata",
  "kernelspec": {
   "display_name": "Python 3",
   "language": "python",
   "name": "python"
  },
  "language_info": {
   "codemirror_mode": {
    "name": "ipython",
    "version": 3
   },
   "file_extension": ".py",
   "mimetype": "text/x-python",
   "name": "python",
   "nbconvert_exporter": "python",
   "pygments_lexer": "ipython3",
   "version": "3.6.3"
  }
 },
 "nbformat": 4,
 "nbformat_minor": 2
}
