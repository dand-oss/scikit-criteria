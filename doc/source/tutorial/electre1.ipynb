{
 "cells": [
  {
   "cell_type": "markdown",
   "metadata": {},
   "source": [
    "# The ELECTRE-1 tutorial\n",
    "\n",
    "**ELECTRE-1** (*ELimination Et Choix Traduisant la REalité* or *ELimination and Choice Expressing REality*) \n",
    "\n",
    "The ELECTRE I model  find the kernel solution in a situation where true\n",
    "criteria and restricted outranking relations are given.\n",
    "\n",
    "That is, ELECTRE I cannot derive the ranking of alternatives but the kernel\n",
    "set. In ELECTRE I, two indices called the concordance index and the\n",
    "discordance index are used to measure the relations between objects.\n",
    "\n",
    "[Bernard Roy](https://en.wikipedia.org/wiki/Bernard_Roy) is widely recognized as the father of the ELECTRE method, which was one of the earliest approaches in what is sometimes known as the French School of decision making. It is usually classified as an \"outranking method\" of decision making.\n",
    "\n",
    "## The Case: Land rehabilitation\n",
    "\n",
    "An important port city has been affected by the change in\n",
    "the modality of maritime transport, since the start of \n",
    "containers transport in the mid-20th century. The city was left with 39 hectares\n",
    "of empty docks, warehouses and a railway terminal.\n",
    "\n",
    "Three projects was developed to decide what to do with this places\n",
    "\n",
    "- **Project 1:** Corporate towers - Hotels - Navy Base - Small park\n",
    "- **Project 2:** Habitational towers - Comercial Center in the old Railway terminal.\n",
    "- **Project 3:** Convention center - Big park and recreational area.\n",
    "\n",
    "The criteria for the analysis of proposals are:\n",
    "\n",
    "1. New jobs positions (**jobs**).\n",
    "- Green spaces (**green**)\n",
    "- Financial feasibility (**fin**)\n",
    "- Environmental impact (**env**)\n",
    "\n",
    "\n",
    "Only for the 2nd criteria a maximun limit pf $500$ are provided.\n",
    "El Decisor considera a los cuatro criterios como objetivos, por lo que\n",
    "se deberán resolver cuatro programas lineales con tres restricciones cada\n",
    "uno.\n",
    "The data are provided in the next table:\n",
    "\n",
    "|Criteria|Project 1|Project 2|Project 3|Right side value|Optimal Sense|\n",
    "|--- |--- |--- |--- |--- |--- |--- |--- |--- |--- |\n",
    "|jobs|250|130|350|-|Maximize|\n",
    "|green|120|200|340|500|Maximize|\n",
    "|fin|20|40|15|-|Maximize|\n",
    "|env|800|1000|600|-|Maximize|\n",
    "\n",
    "\n",
    "### Data input\n",
    "\n",
    "We can create a `skcriteria.Data` object with all this information (except the limits):\n",
    "\n",
    "<div class=\"alert alert-info\">\n",
    "**Note:** SIMUS uses the alternatives as columns and the criteria as rows; but in *scikit-criteria* is the oposite, so expect to see the previous table transposed.\n",
    "</div>"
   ]
  },
  {
   "cell_type": "code",
   "execution_count": 1,
   "metadata": {},
   "outputs": [
    {
     "data": {
      "text/html": [
       "<table>\n",
       "<thead>\n",
       "<tr><th style=\"text-align: center;\"> ALT./CRIT. </th><th style=\"text-align: center;\"> jobs (max) </th><th style=\"text-align: center;\"> green (max) </th><th style=\"text-align: center;\"> fin (min) </th><th style=\"text-align: center;\"> env (max) </th></tr>\n",
       "</thead>\n",
       "<tbody>\n",
       "<tr><td style=\"text-align: center;\">   Prj 1    </td><td style=\"text-align: center;\">    250     </td><td style=\"text-align: center;\">     120     </td><td style=\"text-align: center;\">    20     </td><td style=\"text-align: center;\">    800    </td></tr>\n",
       "<tr><td style=\"text-align: center;\">   Prj 2    </td><td style=\"text-align: center;\">    130     </td><td style=\"text-align: center;\">     200     </td><td style=\"text-align: center;\">    40     </td><td style=\"text-align: center;\">   1000    </td></tr>\n",
       "<tr><td style=\"text-align: center;\">   Prj 3    </td><td style=\"text-align: center;\">    350     </td><td style=\"text-align: center;\">     340     </td><td style=\"text-align: center;\">    15     </td><td style=\"text-align: center;\">    600    </td></tr>\n",
       "</tbody>\n",
       "</table>"
      ],
      "text/plain": [
       " ALT./CRIT.    jobs (max)    green (max)    fin (min)    env (max)\n",
       "------------  ------------  -------------  -----------  -----------\n",
       "   Prj 1          250            120           20           800\n",
       "   Prj 2          130            200           40          1000\n",
       "   Prj 3          350            340           15           600"
      ]
     },
     "execution_count": 1,
     "metadata": {},
     "output_type": "execute_result"
    }
   ],
   "source": [
    "# first lets import the DATA class\n",
    "from skcriteria import Data\n",
    "\n",
    "data = Data(\n",
    "    # the alternative matrix\n",
    "    mtx=[[250, 120, 20, 800],\n",
    "         [130, 200, 40, 1000],\n",
    "         [350, 340, 15, 600]],\n",
    "    \n",
    "    # optimal sense\n",
    "    criteria=[max, max, min, max],\n",
    "    \n",
    "    # names of alternatives and criteria\n",
    "    anames=[\"Prj 1\", \"Prj 2\", \"Prj 3\"],\n",
    "    cnames=[\"jobs\", \"green\", \"fin\", \"env\"])\n",
    "\n",
    "# show the data object\n",
    "data"
   ]
  },
  {
   "cell_type": "markdown",
   "metadata": {},
   "source": [
    "### Create the model"
   ]
  },
  {
   "cell_type": "code",
   "execution_count": 3,
   "metadata": {},
   "outputs": [
    {
     "data": {
      "text/plain": [
       "\u001b[0;31mInit signature:\u001b[0m \u001b[0mELECTRE1\u001b[0m\u001b[0;34m(\u001b[0m\u001b[0mp\u001b[0m\u001b[0;34m=\u001b[0m\u001b[0;36m0.65\u001b[0m\u001b[0;34m,\u001b[0m \u001b[0mq\u001b[0m\u001b[0;34m=\u001b[0m\u001b[0;36m0.35\u001b[0m\u001b[0;34m,\u001b[0m \u001b[0mmnorm\u001b[0m\u001b[0;34m=\u001b[0m\u001b[0;34m'sum'\u001b[0m\u001b[0;34m,\u001b[0m \u001b[0mwnorm\u001b[0m\u001b[0;34m=\u001b[0m\u001b[0;34m'sum'\u001b[0m\u001b[0;34m,\u001b[0m \u001b[0mnjobs\u001b[0m\u001b[0;34m=\u001b[0m\u001b[0;32mNone\u001b[0m\u001b[0;34m)\u001b[0m\u001b[0;34m\u001b[0m\u001b[0;34m\u001b[0m\u001b[0m\n",
       "\u001b[0;31mDocstring:\u001b[0m     \n",
       "The ELECTRE I model  find the kernel solution in a situation where true\n",
       "criteria and restricted outranking relations are given.\n",
       "\n",
       "That is, ELECTRE I cannot derive the ranking of alternatives but the kernel\n",
       "set. In ELECTRE I, two indices called the concordance index and the\n",
       "discordance index are used to measure the relations between objects.\n",
       "\n",
       "Parameters\n",
       "----------\n",
       "\n",
       "p : float, optional (default=0.65)\n",
       "    Concordance threshold. Threshold of how much one alternative is at\n",
       "    least as good as another to be significative.\n",
       "\n",
       "q : float, optional (default=0.35)\n",
       "    Discordance threshold. Threshold of how much the degree one alternative\n",
       "    is strictly preferred to another to be significative.\n",
       "\n",
       "mnorm : string, callable, optional (default=\"sum\")\n",
       "    Normalization method for the alternative matrix.\n",
       "\n",
       "wnorm : string, callable, optional (default=\"sum\")\n",
       "    Normalization method for the weights array.\n",
       "\n",
       "njobs : int, default=None\n",
       "    How many cores to use to solve the linear programs and the second\n",
       "    method. By default all the availables cores are used.\n",
       "\n",
       "Returns\n",
       "-------\n",
       "\n",
       "Decision : :py:class:`skcriteria.madm.Decision`\n",
       "    With values:\n",
       "\n",
       "    - **kernel_**:  Array with the indexes of the alternatives\n",
       "      in he kernel.\n",
       "    - **rank_**: None\n",
       "    - **best_alternative_**: None\n",
       "    - **alpha_solution_**: False\n",
       "    - **beta_solution_**: True\n",
       "    - **gamma_solution_**: False\n",
       "    - **e_**: Particular data created by this method.\n",
       "\n",
       "      - **e_.closeness**: Array where the i-nth element represent the\n",
       "        closenees of the i-nth alternative to ideal and worst solution.\n",
       "      - **e_.outrank**: numpy.ndarray of bool\n",
       "        The outranking matrix of superation. If the element[i][j] is True\n",
       "        The alternative ``i`` outrank the alternative ``j``.\n",
       "      - **e_.mtx_concordance**: numpy.ndarray\n",
       "        The concordance indexes matrix where the element[i][j] measures how\n",
       "        much the alternative ``i`` is at least as good as ``j``.\n",
       "      - **e_.mtx_discordance**: numpy.ndarray\n",
       "        The discordance indexes matrix where the element[i][j] measures the\n",
       "        degree to which the alternative ``i`` is strictly\n",
       "        preferred to ``j``.\n",
       "      - **e_.p**: float\n",
       "        Concordance index threshold.\n",
       "      - **e_.q**: float\n",
       "        Discordance index threshold.\n",
       "\n",
       "References\n",
       "----------\n",
       "\n",
       ".. [1] Roy, B. (1990). The outranking approach and the foundations of\n",
       "   ELECTRE methods. In Readings in multiple criteria decision aid\n",
       "   (pp.155-183). Springer, Berlin, Heidelberg.\n",
       ".. [2] Roy, B. (1968). Classement et choix en présence de points de vue\n",
       "   multiples. Revue française d'informatique et de recherche\n",
       "   opérationnelle, 2(8), 57-75.\n",
       ".. [3] Tzeng, G. H., & Huang, J. J. (2011). Multiple attribute decision\n",
       "   making: methods and applications. CRC press.\n",
       "\u001b[0;31mFile:\u001b[0m           ~/proyectos/skcriteria/src/skcriteria/madm/electre.py\n",
       "\u001b[0;31mType:\u001b[0m           BaseSolverMeta\n"
      ]
     },
     "metadata": {},
     "output_type": "display_data"
    }
   ],
   "source": [
    "ELECTRE1?"
   ]
  },
  {
   "cell_type": "code",
   "execution_count": 2,
   "metadata": {},
   "outputs": [
    {
     "data": {
      "text/plain": [
       "<ELECTRE1 (mnorm=sum, p=0.65, q=0.35, wnorm=sum)>"
      ]
     },
     "execution_count": 2,
     "metadata": {},
     "output_type": "execute_result"
    }
   ],
   "source": [
    "# import the class\n",
    "from skcriteria.madm.electre import ELECTRE1\n",
    "\n",
    "# create the new simus and\n",
    "dm = ELECTRE1()\n",
    "dm"
   ]
  },
  {
   "cell_type": "markdown",
   "metadata": {},
   "source": [
    "By default the call `SIMUS()` create a solver that internally uses the [PuLP](https://pythonhosted.org/PuLP/) solver to solve the linear programs. Other availables solvers are:\n",
    "\n",
    "- `SUMUS(solver='glpk')` for the [GNU Linear programming toolkit](https://en.wikipedia.org/wiki/GNU_Linear_Programming_Kit)\n",
    "- `SUMUS(solver='gurobi')` to use [Gurobi Optimizer](https://en.wikipedia.org/wiki/Gurobi)\n",
    "- `SUMUS(solver='cplex')` for [IBM ILOG CPLEX Optimization Studio](https://en.wikipedia.org/wiki/CPLEX)\n",
    "\n",
    "<div class=\"alert alert-info\">\n",
    "**Note:** The check the full list of available optimizers are stored in `skcriteria.utils.lp.SOLVERS`.\n",
    "</div>\n",
    "\n",
    "Also the `njobs` parameters determines how many cores the user want to use to run the linear programs. For example\n",
    "`SIMUS(njobs=2)` uses up to two cores. (By default all CPUs are used).\n",
    "\n",
    "Also the last (and most important) parameter is `rank_by` (default is 1): determines which of the two ranks methods executed by SIMUS is the one that determines the final ranking. If the experiment is consistent, the two methos *must* detemines the *same* ranking (Please check the [paper](https://revistas.unc.edu.ar/index.php/epio/article/viewFile/16533/16348) for more details)."
   ]
  },
  {
   "cell_type": "markdown",
   "metadata": {},
   "source": [
    "### Solve the problem\n",
    "\n",
    "This is achived by calling the method `decide()` of the decision maker object (`dm`)"
   ]
  },
  {
   "cell_type": "code",
   "execution_count": 3,
   "metadata": {},
   "outputs": [
    {
     "data": {
      "text/html": [
       "<div id='dec-bff23da8-75d0-11e8-8d16-d85de264446f'><p><b>SIMUS (mnorm=none, wnorm=none) - Solution:</b></p><table>\n",
       "<thead>\n",
       "<tr><th style=\"text-align: center;\"> ALT./CRIT. </th><th style=\"text-align: center;\"> jobs (max) </th><th style=\"text-align: center;\"> green (max) </th><th style=\"text-align: center;\"> fin (min) </th><th style=\"text-align: center;\"> env (max) </th><th style=\"text-align: center;\"> Rank </th></tr>\n",
       "</thead>\n",
       "<tbody>\n",
       "<tr><td style=\"text-align: center;\">   Prj 1    </td><td style=\"text-align: center;\">    250     </td><td style=\"text-align: center;\">     120     </td><td style=\"text-align: center;\">    20     </td><td style=\"text-align: center;\">    800    </td><td style=\"text-align: center;\">  3   </td></tr>\n",
       "<tr><td style=\"text-align: center;\">   Prj 2    </td><td style=\"text-align: center;\">    130     </td><td style=\"text-align: center;\">     200     </td><td style=\"text-align: center;\">    40     </td><td style=\"text-align: center;\">   1000    </td><td style=\"text-align: center;\">  2   </td></tr>\n",
       "<tr><td style=\"text-align: center;\">   Prj 3    </td><td style=\"text-align: center;\">    350     </td><td style=\"text-align: center;\">     340     </td><td style=\"text-align: center;\">    15     </td><td style=\"text-align: center;\">    600    </td><td style=\"text-align: center;\">  1   </td></tr>\n",
       "</tbody>\n",
       "</table></div>"
      ],
      "text/plain": [
       "SIMUS (mnorm=none, wnorm=none) - Solution:\n",
       " ALT./CRIT.    jobs (max)    green (max)    fin (min)    env (max)    Rank\n",
       "------------  ------------  -------------  -----------  -----------  ------\n",
       "   Prj 1          250            120           20           800        3\n",
       "   Prj 2          130            200           40          1000        2\n",
       "   Prj 3          350            340           15           600        1"
      ]
     },
     "execution_count": 3,
     "metadata": {},
     "output_type": "execute_result"
    }
   ],
   "source": [
    "# store the decision inside the dec variable\n",
    "dec = dm.decide(data, b=[None, 500, None, None])\n",
    "\n",
    "# let's see the decision\n",
    "dec"
   ]
  },
  {
   "cell_type": "markdown",
   "metadata": {},
   "source": [
    "If you check the last column the raking is:\n",
    "\n",
    "1. Project 3\n",
    "- Project 2\n",
    "- Project 1"
   ]
  },
  {
   "cell_type": "markdown",
   "metadata": {},
   "source": [
    "### Analysis\n",
    "\n",
    "Most of the \"intermediate\" data of the SIMUS method are stored in the `e_` field of the decision object `dec`."
   ]
  },
  {
   "cell_type": "code",
   "execution_count": 4,
   "metadata": {},
   "outputs": [
    {
     "data": {
      "text/plain": [
       "Extra(rank_by, solver, stages, stage_results, points1, points2, tita_j_p, tita_j_d, doms, dom_by_crit)"
      ]
     },
     "execution_count": 4,
     "metadata": {},
     "output_type": "execute_result"
    }
   ],
   "source": [
    "dec.e_"
   ]
  },
  {
   "cell_type": "markdown",
   "metadata": {},
   "source": [
    "for example the attribute `stages` stores all the Linear programs executed by SIMUS:"
   ]
  },
  {
   "cell_type": "code",
   "execution_count": 5,
   "metadata": {},
   "outputs": [
    {
     "data": {
      "text/plain": [
       "[no-name:\n",
       " MAXIMIZE\n",
       " 250*x0 + 130*x1 + 350*x2 + 0\n",
       " SUBJECT TO\n",
       " _C1: 120 x0 + 200 x1 + 340 x2 <= 500\n",
       " \n",
       " _C2: 20 x0 + 40 x1 + 15 x2 >= 15\n",
       " \n",
       " _C3: 800 x0 + 1000 x1 + 600 x2 <= 1000\n",
       " \n",
       " VARIABLES\n",
       " x0 Continuous\n",
       " x1 Continuous\n",
       " x2 Continuous, no-name:\n",
       " MAXIMIZE\n",
       " 120*x0 + 200*x1 + 340*x2 + 0\n",
       " SUBJECT TO\n",
       " _C1: 250 x0 + 130 x1 + 350 x2 <= 350\n",
       " \n",
       " _C2: 20 x0 + 40 x1 + 15 x2 >= 15\n",
       " \n",
       " _C3: 800 x0 + 1000 x1 + 600 x2 <= 1000\n",
       " \n",
       " VARIABLES\n",
       " x0 Continuous\n",
       " x1 Continuous\n",
       " x2 Continuous, no-name:\n",
       " MINIMIZE\n",
       " 20*x0 + 40*x1 + 15*x2 + 0\n",
       " SUBJECT TO\n",
       " _C1: 250 x0 + 130 x1 + 350 x2 <= 350\n",
       " \n",
       " _C2: 120 x0 + 200 x1 + 340 x2 <= 500\n",
       " \n",
       " _C3: 800 x0 + 1000 x1 + 600 x2 <= 1000\n",
       " \n",
       " VARIABLES\n",
       " x0 Continuous\n",
       " x1 Continuous\n",
       " x2 Continuous, no-name:\n",
       " MAXIMIZE\n",
       " 800*x0 + 1000*x1 + 600*x2 + 0\n",
       " SUBJECT TO\n",
       " _C1: 250 x0 + 130 x1 + 350 x2 <= 350\n",
       " \n",
       " _C2: 120 x0 + 200 x1 + 340 x2 <= 500\n",
       " \n",
       " _C3: 20 x0 + 40 x1 + 15 x2 >= 15\n",
       " \n",
       " VARIABLES\n",
       " x0 Continuous\n",
       " x1 Continuous\n",
       " x2 Continuous]"
      ]
     },
     "execution_count": 5,
     "metadata": {},
     "output_type": "execute_result"
    }
   ],
   "source": [
    "dec._e.stages"
   ]
  },
  {
   "cell_type": "markdown",
   "metadata": {},
   "source": [
    "The attribute `stages_results` stores the *eficients restults normalized matrix* "
   ]
  },
  {
   "cell_type": "code",
   "execution_count": 6,
   "metadata": {},
   "outputs": [
    {
     "data": {
      "text/plain": [
       "array([[0.125     , 0.        , 0.875     ],\n",
       "       [0.        , 0.38888889, 0.61111111],\n",
       "       [0.        , 0.        , 0.        ],\n",
       "       [0.05681818, 0.94318182, 0.        ]])"
      ]
     },
     "execution_count": 6,
     "metadata": {},
     "output_type": "execute_result"
    }
   ],
   "source": [
    "dec.e_.stage_results"
   ]
  },
  {
   "cell_type": "markdown",
   "metadata": {},
   "source": [
    "## References\n",
    "\n",
    "> Munier, N., Carignano, C., & Alberto, C. UN MÉTODO DE PROGRAMACIÓN MULTIOBJETIVO. Revista de la Escuela de Perfeccionamiento en Investigación Operativa, 24(39)."
   ]
  }
 ],
 "metadata": {
  "celltoolbar": "Edit Metadata",
  "kernelspec": {
   "display_name": "Python 3",
   "language": "python",
   "name": "python3"
  },
  "language_info": {
   "codemirror_mode": {
    "name": "ipython",
    "version": 3
   },
   "file_extension": ".py",
   "mimetype": "text/x-python",
   "name": "python",
   "nbconvert_exporter": "python",
   "pygments_lexer": "ipython3",
   "version": "3.6.3"
  }
 },
 "nbformat": 4,
 "nbformat_minor": 2
}
