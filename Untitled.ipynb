{
 "cells": [
  {
   "cell_type": "code",
   "execution_count": 1,
   "id": "58b25854-ae59-4374-9e42-ca6a440b2314",
   "metadata": {},
   "outputs": [],
   "source": [
    "from skcriteria import madm, mkdm"
   ]
  },
  {
   "cell_type": "code",
   "execution_count": 2,
   "id": "dd3d7778-79c3-462c-81e8-3748d5a2aaf0",
   "metadata": {},
   "outputs": [],
   "source": [
    "dm = mkdm(\n",
    "        matrix=[[1, 0, 3], [0, 5, 6]],\n",
    "        objectives=[max, max, max],\n",
    "    )\n",
    "\n",
    "ranker = madm.SAM()\n",
    "\n",
    "result = ranker.rank(dm)"
   ]
  },
  {
   "cell_type": "code",
   "execution_count": 3,
   "id": "6c24593f-8e99-4df5-b1e4-45dbff3a62de",
   "metadata": {},
   "outputs": [
    {
     "data": {
      "text/html": [
       "<div class='rankresult'>\n",
       "<style  type=\"text/css\" >\n",
       "#T_93d6b_row0_col0{\n",
       "            background-color:  #023858;\n",
       "            color:  #f1f1f1;\n",
       "        }#T_93d6b_row0_col1{\n",
       "            background-color:  #fff7fb;\n",
       "            color:  #000000;\n",
       "        }</style><table id=\"T_93d6b_\" ><thead>    <tr>        <th class=\"blank level0\" ></th>        <th class=\"col_heading level0 col0\" >A0</th>        <th class=\"col_heading level0 col1\" >A1</th>    </tr></thead><tbody>\n",
       "                <tr>\n",
       "                        <th id=\"T_93d6b_level0_row0\" class=\"row_heading level0 row0\" >Rank</th>\n",
       "                        <td id=\"T_93d6b_row0_col0\" class=\"data row0 col0\" >2</td>\n",
       "                        <td id=\"T_93d6b_row0_col1\" class=\"data row0 col1\" >1</td>\n",
       "            </tr>\n",
       "    </tbody></table><em class='rankresult-method'>Method: SAM</em>\n",
       "</div>"
      ],
      "text/plain": [
       "      A0  A1\n",
       "Rank   2   1\n",
       "[Method: SAM]"
      ]
     },
     "execution_count": 3,
     "metadata": {},
     "output_type": "execute_result"
    }
   ],
   "source": [
    "result"
   ]
  },
  {
   "cell_type": "code",
   "execution_count": null,
   "id": "8fbdf3fc-9159-4a86-be36-ace43b5ab0f5",
   "metadata": {},
   "outputs": [],
   "source": [
    "print(repr(result))"
   ]
  },
  {
   "cell_type": "code",
   "execution_count": null,
   "id": "38d18534-aa61-4206-9520-01eb296bb3ef",
   "metadata": {},
   "outputs": [],
   "source": [
    "def __repr__(self):\n",
    "    \"\"\"rank.__repr__() <==> repr(rank).\"\"\"\n",
    "\n",
    "    kwargs = {\"show_dimensions\": False}\n",
    "\n",
    "    # retrieve the original string\n",
    "    original_string = self._rank_df.to_string(**kwargs)\n",
    "\n",
    "    # add dimension\n",
    "    string = f\"{original_string}\\n[{result.method}]\"\n",
    "\n",
    "    return string\n",
    "\n",
    "print(__repr__(result))"
   ]
  },
  {
   "cell_type": "code",
   "execution_count": null,
   "id": "89e383de-3df5-4385-b31d-e4011742564d",
   "metadata": {},
   "outputs": [],
   "source": [
    "result._rank_df.to_string?"
   ]
  },
  {
   "cell_type": "code",
   "execution_count": null,
   "id": "1d210a26-e9df-4f5e-8a96-9fd9d17a5f6f",
   "metadata": {},
   "outputs": [],
   "source": []
  }
 ],
 "metadata": {
  "kernelspec": {
   "display_name": "Python 3",
   "language": "python",
   "name": "python3"
  },
  "language_info": {
   "codemirror_mode": {
    "name": "ipython",
    "version": 3
   },
   "file_extension": ".py",
   "mimetype": "text/x-python",
   "name": "python",
   "nbconvert_exporter": "python",
   "pygments_lexer": "ipython3",
   "version": "3.8.10"
  }
 },
 "nbformat": 4,
 "nbformat_minor": 5
}
