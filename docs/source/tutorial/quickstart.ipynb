{
 "cells": [
  {
   "cell_type": "markdown",
   "metadata": {},
   "source": [
    "# Quick Start\n",
    "\n",
    "This tutorial aims to explain in a simple way, how to create decision matrices, \n",
    "how to analyze them and how to evaluate them with some multi-criteria analysis methods (MCDA).\n",
    "\n",
    "\n",
    "## Conceptual overview\n",
    "\n",
    "Multi-criteria data are complex. This is because at least two syntactically \n",
    "disconnected vectors are needed to describe a problem.\n",
    "\n",
    "1. `matrix`/$A$ choice set.\n",
    "2. And the vector of criteria optimality sense `objectives`/$C$. \n",
    "\n",
    "Additionally it can be accompanied by a vector `w`/$w_j$ with the weighting of the criteria. \n",
    "\n",
    "To summarize all these data (and some extra ones), *Scikit-Criteria* provides\n",
    "a `DecisionMatrix` object along with a `mkdm()` utility function to \n",
    "facilitate the creation and validation of the data.\n",
    "\n",
    "## Your first `DecisionMatrix` object\n",
    "\n",
    "First we need to import the the *Scikit-Criteria* module."
   ]
  },
  {
   "cell_type": "code",
   "execution_count": 1,
   "metadata": {
    "nbsphinx": "hidden"
   },
   "outputs": [],
   "source": [
    "import skcriteria as skc  # we use skc as an abbreviation for scikit-criteria"
   ]
  },
  {
   "cell_type": "markdown",
   "metadata": {},
   "source": [
    "Then we need to create the `matrix` and `objectives` vectors. \n",
    "\n",
    "The `matrix` must be a **2D array-like** where every column is a criteria, \n",
    "and every row is an alternative."
   ]
  },
  {
   "cell_type": "code",
   "execution_count": 2,
   "metadata": {},
   "outputs": [
    {
     "data": {
      "text/plain": [
       "[[1, 2, 3], [4, 5, 6]]"
      ]
     },
     "execution_count": 2,
     "metadata": {},
     "output_type": "execute_result"
    }
   ],
   "source": [
    "# 2 alternatives by 3 criteria\n",
    "matrix = [\n",
    "    [1, 2, 3],  # alternative 1\n",
    "    [4, 5, 6],  # alternative 2\n",
    "]\n",
    "matrix"
   ]
  },
  {
   "cell_type": "markdown",
   "metadata": {},
   "source": [
    "The `objectives` vector must be a **1D array-like** with number of elements same \n",
    "as number of columns in the alternative matrix (`matrix`). Every component of the \n",
    "`objectives` vector represent the optimal sense of each criteria."
   ]
  },
  {
   "cell_type": "code",
   "execution_count": 3,
   "metadata": {},
   "outputs": [
    {
     "data": {
      "text/plain": [
       "[<function max>, <function max>, <function min>]"
      ]
     },
     "execution_count": 3,
     "metadata": {},
     "output_type": "execute_result"
    }
   ],
   "source": [
    "# let's says the first two alternatives are\n",
    "# for maximization and the last one for minimization\n",
    "objectives = [max, max, min]\n",
    "objectives"
   ]
  },
  {
   "cell_type": "markdown",
   "metadata": {},
   "source": [
    "as you see the `max` and `min` are the built-in function for find max and mins in collections in python.\n",
    "\n",
    "As you can see the function usage makes the code more readable. Also you can use as aliases of minimization and maximization the numpy function `np.min`, `np.max`, `np.amin`, `np.amax`, `np.nanmin`, `np.nanmax`; the strings `\"min\"`, `\"minimize\"`, `\"max\"`, `\"maximize\"`, `\">\"`, `\"<\"`, `\"+\"`, `\"-\"`; and the values `-1` (minimize) and `1` (maximize).\n",
    "\n",
    "Now we can combine this two vectors in our *Scikit-Criteria* decision matrix."
   ]
  },
  {
   "cell_type": "code",
   "execution_count": 4,
   "metadata": {},
   "outputs": [
    {
     "data": {
      "text/html": [
       "<div class=\"decisionmatrix\">\n",
       "<div>\n",
       "<style scoped=\"\">\n",
       "    .dataframe tbody tr th:only-of-type {\n",
       "        vertical-align: middle;\n",
       "    }\n",
       "\n",
       "    .dataframe tbody tr th {\n",
       "        vertical-align: top;\n",
       "    }\n",
       "\n",
       "    .dataframe thead th {\n",
       "        text-align: right;\n",
       "    }\n",
       "</style>\n",
       "<table border=\"1\" class=\"dataframe\">\n",
       "  <thead>\n",
       "    <tr style=\"text-align: right;\">\n",
       "      <th/>\n",
       "      <th>C0[▼ 1.0]</th>\n",
       "      <th>C1[▲ 1.0]</th>\n",
       "      <th>C2[▼ 1.0]</th>\n",
       "    </tr>\n",
       "  </thead>\n",
       "  <tbody>\n",
       "    <tr>\n",
       "      <th>A0</th>\n",
       "      <td>1</td>\n",
       "      <td>2</td>\n",
       "      <td>3</td>\n",
       "    </tr>\n",
       "    <tr>\n",
       "      <th>A1</th>\n",
       "      <td>4</td>\n",
       "      <td>5</td>\n",
       "      <td>6</td>\n",
       "    </tr>\n",
       "  </tbody>\n",
       "</table>\n",
       "</div><em class=\"decisionmatrix-dim\">2 Alternatives x 3 Criteria</em>\n",
       "</div>"
      ],
      "text/plain": [
       "   C0[▼ 1.0] C1[▲ 1.0] C2[▼ 1.0]\n",
       "A0         1         2         3\n",
       "A1         4         5         6\n",
       "[2 Alternatives x 3 Criteria]"
      ]
     },
     "execution_count": 4,
     "metadata": {},
     "output_type": "execute_result"
    }
   ],
   "source": [
    "# we use the built-in function as aliases\n",
    "dm = skc.mkdm(matrix, [min, max, min])\n",
    "dm"
   ]
  },
  {
   "cell_type": "markdown",
   "metadata": {},
   "source": [
    "As you can see the output of the `DecisionMatrix` object is much more friendly than the plain python lists.\n",
    "\n",
    "To change the generic names of the alternatives (A0 and A1) and the criteria (C0, C1 and C2); let's assume that our data is about cars (*car 0* and *car 1*) and their characteristics of evaluation are *autonomy* ($maximize$), *comfort* ($maximize$) and *price* ($minimize$). \n",
    "\n",
    "To feed this information to our `DecisionMatrix` object we have the parameters: `alternatives` that accept the names of alternatives (must be the same number as the rows that `matrix` has), and `criteria` the criteria names (must have same number of elements with the columns that `matrix` has)"
   ]
  },
  {
   "cell_type": "code",
   "execution_count": 5,
   "metadata": {},
   "outputs": [
    {
     "data": {
      "text/html": [
       "<div class=\"decisionmatrix\">\n",
       "<div>\n",
       "<style scoped=\"\">\n",
       "    .dataframe tbody tr th:only-of-type {\n",
       "        vertical-align: middle;\n",
       "    }\n",
       "\n",
       "    .dataframe tbody tr th {\n",
       "        vertical-align: top;\n",
       "    }\n",
       "\n",
       "    .dataframe thead th {\n",
       "        text-align: right;\n",
       "    }\n",
       "</style>\n",
       "<table border=\"1\" class=\"dataframe\">\n",
       "  <thead>\n",
       "    <tr style=\"text-align: right;\">\n",
       "      <th/>\n",
       "      <th>autonomy[▲ 1.0]</th>\n",
       "      <th>comfort[▲ 1.0]</th>\n",
       "      <th>price[▼ 1.0]</th>\n",
       "    </tr>\n",
       "  </thead>\n",
       "  <tbody>\n",
       "    <tr>\n",
       "      <th>car 0</th>\n",
       "      <td>1</td>\n",
       "      <td>2</td>\n",
       "      <td>3</td>\n",
       "    </tr>\n",
       "    <tr>\n",
       "      <th>car 1</th>\n",
       "      <td>4</td>\n",
       "      <td>5</td>\n",
       "      <td>6</td>\n",
       "    </tr>\n",
       "  </tbody>\n",
       "</table>\n",
       "</div><em class=\"decisionmatrix-dim\">2 Alternatives x 3 Criteria</em>\n",
       "</div>"
      ],
      "text/plain": [
       "      autonomy[▲ 1.0] comfort[▲ 1.0] price[▼ 1.0]\n",
       "car 0               1              2            3\n",
       "car 1               4              5            6\n",
       "[2 Alternatives x 3 Criteria]"
      ]
     },
     "execution_count": 5,
     "metadata": {},
     "output_type": "execute_result"
    }
   ],
   "source": [
    "dm = skc.mkdm(\n",
    "    matrix,\n",
    "    objectives,\n",
    "    alternatives=[\"car 0\", \"car 1\"],\n",
    "    criteria=[\"autonomy\", \"comfort\", \"price\"],\n",
    ")\n",
    "dm"
   ]
  },
  {
   "cell_type": "markdown",
   "metadata": {},
   "source": [
    "In our final step let's assume we know in our case, that the importance of the autonomy is the *50%*, the comfort only a *5%* and the price is *45%*. The param to feed this to the structure is called `weights` and must be a vector with the same elements as criterias on your alternative matrix (number of columns)."
   ]
  },
  {
   "cell_type": "code",
   "execution_count": 6,
   "metadata": {},
   "outputs": [
    {
     "data": {
      "text/html": [
       "<div class=\"decisionmatrix\">\n",
       "<div>\n",
       "<style scoped=\"\">\n",
       "    .dataframe tbody tr th:only-of-type {\n",
       "        vertical-align: middle;\n",
       "    }\n",
       "\n",
       "    .dataframe tbody tr th {\n",
       "        vertical-align: top;\n",
       "    }\n",
       "\n",
       "    .dataframe thead th {\n",
       "        text-align: right;\n",
       "    }\n",
       "</style>\n",
       "<table border=\"1\" class=\"dataframe\">\n",
       "  <thead>\n",
       "    <tr style=\"text-align: right;\">\n",
       "      <th/>\n",
       "      <th>autonomy[▲ 0.50]</th>\n",
       "      <th>comfort[▲ 0.05]</th>\n",
       "      <th>price[▼ 0.45]</th>\n",
       "    </tr>\n",
       "  </thead>\n",
       "  <tbody>\n",
       "    <tr>\n",
       "      <th>car 0</th>\n",
       "      <td>1</td>\n",
       "      <td>2</td>\n",
       "      <td>3</td>\n",
       "    </tr>\n",
       "    <tr>\n",
       "      <th>car 1</th>\n",
       "      <td>4</td>\n",
       "      <td>5</td>\n",
       "      <td>6</td>\n",
       "    </tr>\n",
       "  </tbody>\n",
       "</table>\n",
       "</div><em class=\"decisionmatrix-dim\">2 Alternatives x 3 Criteria</em>\n",
       "</div>"
      ],
      "text/plain": [
       "      autonomy[▲ 0.50] comfort[▲ 0.05] price[▼ 0.45]\n",
       "car 0                1               2             3\n",
       "car 1                4               5             6\n",
       "[2 Alternatives x 3 Criteria]"
      ]
     },
     "execution_count": 6,
     "metadata": {},
     "output_type": "execute_result"
    }
   ],
   "source": [
    "dm = skc.mkdm(\n",
    "    matrix,\n",
    "    objectives,\n",
    "    weights=[0.5, 0.05, 0.45],\n",
    "    alternatives=[\"car 0\", \"car 1\"],\n",
    "    criteria=[\"autonomy\", \"comfort\", \"price\"],\n",
    ")\n",
    "dm"
   ]
  },
  {
   "cell_type": "markdown",
   "metadata": {},
   "source": [
    "## Manipulating the Data\n",
    "\n",
    "The data object are immutable, if you want to modify it you need create a new one. All the data are stored as [pandas dataframes](https://pandas.pydata.org/) and [numpy arrays](https://docs.scipy.org/doc/numpy/user/basics.creation.html)\n",
    "\n",
    "You can access to the different parts of your data, simply by typing `dm.<your-parameter-name>` for example:"
   ]
  },
  {
   "cell_type": "code",
   "execution_count": 7,
   "metadata": {},
   "outputs": [
    {
     "data": {
      "text/html": [
       "<div>\n",
       "<style scoped>\n",
       "    .dataframe tbody tr th:only-of-type {\n",
       "        vertical-align: middle;\n",
       "    }\n",
       "\n",
       "    .dataframe tbody tr th {\n",
       "        vertical-align: top;\n",
       "    }\n",
       "\n",
       "    .dataframe thead th {\n",
       "        text-align: right;\n",
       "    }\n",
       "</style>\n",
       "<table border=\"1\" class=\"dataframe\">\n",
       "  <thead>\n",
       "    <tr style=\"text-align: right;\">\n",
       "      <th></th>\n",
       "      <th>autonomy</th>\n",
       "      <th>comfort</th>\n",
       "      <th>price</th>\n",
       "    </tr>\n",
       "  </thead>\n",
       "  <tbody>\n",
       "    <tr>\n",
       "      <th>car 0</th>\n",
       "      <td>1</td>\n",
       "      <td>2</td>\n",
       "      <td>3</td>\n",
       "    </tr>\n",
       "    <tr>\n",
       "      <th>car 1</th>\n",
       "      <td>4</td>\n",
       "      <td>5</td>\n",
       "      <td>6</td>\n",
       "    </tr>\n",
       "  </tbody>\n",
       "</table>\n",
       "</div>"
      ],
      "text/plain": [
       "       autonomy  comfort  price\n",
       "car 0         1        2      3\n",
       "car 1         4        5      6"
      ]
     },
     "execution_count": 7,
     "metadata": {},
     "output_type": "execute_result"
    }
   ],
   "source": [
    "dm.matrix  # note how this data ignores the objectives and the weights"
   ]
  },
  {
   "cell_type": "code",
   "execution_count": 8,
   "metadata": {},
   "outputs": [
    {
     "data": {
      "text/plain": [
       "autonomy    MAX\n",
       "comfort     MAX\n",
       "price       MIN\n",
       "Name: Objectives, dtype: object"
      ]
     },
     "execution_count": 8,
     "metadata": {},
     "output_type": "execute_result"
    }
   ],
   "source": [
    "dm.objectives"
   ]
  },
  {
   "cell_type": "code",
   "execution_count": 9,
   "metadata": {},
   "outputs": [
    {
     "data": {
      "text/plain": [
       "autonomy    0.50\n",
       "comfort     0.05\n",
       "price       0.45\n",
       "Name: Weights, dtype: float64"
      ]
     },
     "execution_count": 9,
     "metadata": {},
     "output_type": "execute_result"
    }
   ],
   "source": [
    "dm.weights"
   ]
  },
  {
   "cell_type": "code",
   "execution_count": 10,
   "metadata": {},
   "outputs": [
    {
     "data": {
      "text/plain": [
       "(array(['car 0', 'car 1'], dtype=object),\n",
       " array(['autonomy', 'comfort', 'price'], dtype=object))"
      ]
     },
     "execution_count": 10,
     "metadata": {},
     "output_type": "execute_result"
    }
   ],
   "source": [
    "dm.alternatives, dm.criteria"
   ]
  },
  {
   "cell_type": "markdown",
   "metadata": {},
   "source": [
    "If you want (for example) change the names of the cars from `car 0` and `car 1`; to `VW` and `Ford` you must the copy method and provide the new names:"
   ]
  },
  {
   "cell_type": "code",
   "execution_count": 11,
   "metadata": {},
   "outputs": [
    {
     "data": {
      "text/html": [
       "<div class=\"decisionmatrix\">\n",
       "<div>\n",
       "<style scoped=\"\">\n",
       "    .dataframe tbody tr th:only-of-type {\n",
       "        vertical-align: middle;\n",
       "    }\n",
       "\n",
       "    .dataframe tbody tr th {\n",
       "        vertical-align: top;\n",
       "    }\n",
       "\n",
       "    .dataframe thead th {\n",
       "        text-align: right;\n",
       "    }\n",
       "</style>\n",
       "<table border=\"1\" class=\"dataframe\">\n",
       "  <thead>\n",
       "    <tr style=\"text-align: right;\">\n",
       "      <th/>\n",
       "      <th>autonomy[▲ 0.50]</th>\n",
       "      <th>comfort[▲ 0.05]</th>\n",
       "      <th>price[▼ 0.45]</th>\n",
       "    </tr>\n",
       "  </thead>\n",
       "  <tbody>\n",
       "    <tr>\n",
       "      <th>VW</th>\n",
       "      <td>1</td>\n",
       "      <td>2</td>\n",
       "      <td>3</td>\n",
       "    </tr>\n",
       "    <tr>\n",
       "      <th>Ford</th>\n",
       "      <td>4</td>\n",
       "      <td>5</td>\n",
       "      <td>6</td>\n",
       "    </tr>\n",
       "  </tbody>\n",
       "</table>\n",
       "</div><em class=\"decisionmatrix-dim\">2 Alternatives x 3 Criteria</em>\n",
       "</div>"
      ],
      "text/plain": [
       "     autonomy[▲ 0.50] comfort[▲ 0.05] price[▼ 0.45]\n",
       "VW                  1               2             3\n",
       "Ford                4               5             6\n",
       "[2 Alternatives x 3 Criteria]"
      ]
     },
     "execution_count": 11,
     "metadata": {},
     "output_type": "execute_result"
    }
   ],
   "source": [
    "dm = dm.copy(alternatives=[\"VW\", \"Ford\"])\n",
    "dm"
   ]
  },
  {
   "cell_type": "markdown",
   "metadata": {},
   "source": [
    "<div class=\"alert alert-info\">\n",
    "**Note:** \n",
    "\n",
    "A more flexible data manipulation API will relased in future versions.\n",
    "</div>"
   ]
  },
  {
   "cell_type": "markdown",
   "metadata": {},
   "source": [
    "## Plotting\n",
    "\n",
    "The Data structure support some basic routines for plotting. \n",
    "\n",
    "The default scikit criteria uses the Heatmap plot to visualize all the data."
   ]
  },
  {
   "cell_type": "code",
   "execution_count": 12,
   "metadata": {},
   "outputs": [
    {
     "data": {
      "text/plain": [
       "<AxesSubplot:xlabel='Criteria', ylabel='Alternatives'>"
      ]
     },
     "execution_count": 12,
     "metadata": {},
     "output_type": "execute_result"
    },
    {
     "data": {
      "image/png": "[encoded data removed]",
      "text/plain": [
       "<Figure size 432x288 with 2 Axes>"
      ]
     },
     "metadata": {
      "needs_background": "light"
     },
     "output_type": "display_data"
    }
   ],
   "source": [
    "dm.plot()"
   ]
  },
  {
   "cell_type": "markdown",
   "metadata": {},
   "source": [
    "In the same fashion you can plot the weights of the criteria "
   ]
  },
  {
   "cell_type": "code",
   "execution_count": 13,
   "metadata": {},
   "outputs": [
    {
     "data": {
      "text/plain": [
       "<AxesSubplot:xlabel='Criteria'>"
      ]
     },
     "execution_count": 13,
     "metadata": {},
     "output_type": "execute_result"
    },
    {
     "data": {
      "image/png": "[encoded data removed]",
      "text/plain": [
       "<Figure size 432x57.6 with 2 Axes>"
      ]
     },
     "metadata": {
      "needs_background": "light"
     },
     "output_type": "display_data"
    }
   ],
   "source": [
    "dm.plot.wheatmap()"
   ]
  },
  {
   "cell_type": "markdown",
   "metadata": {},
   "source": [
    "You can accessing the different kind of plot by passing the name of the plot as first parameter of the method"
   ]
  },
  {
   "cell_type": "code",
   "execution_count": 14,
   "metadata": {},
   "outputs": [
    {
     "data": {
      "text/plain": [
       "<AxesSubplot:ylabel='Density'>"
      ]
     },
     "execution_count": 14,
     "metadata": {},
     "output_type": "execute_result"
    },
    {
     "data": {
      "image/png": "[encoded data removed]",
      "text/plain": [
       "<Figure size 432x288 with 1 Axes>"
      ]
     },
     "metadata": {
      "needs_background": "light"
     },
     "output_type": "display_data"
    }
   ],
   "source": [
    "dm.plot(\"kde\")"
   ]
  },
  {
   "cell_type": "markdown",
   "metadata": {},
   "source": [
    "or by using the name as method call inside the `plot` attribute"
   ]
  },
  {
   "cell_type": "code",
   "execution_count": 15,
   "metadata": {},
   "outputs": [
    {
     "data": {
      "text/plain": [
       "<AxesSubplot:ylabel='Density'>"
      ]
     },
     "execution_count": 15,
     "metadata": {},
     "output_type": "execute_result"
    },
    {
     "data": {
      "image/png": "[encoded data removed]",
      "text/plain": [
       "<Figure size 432x288 with 1 Axes>"
      ]
     },
     "metadata": {
      "needs_background": "light"
     },
     "output_type": "display_data"
    }
   ],
   "source": [
    "dm.plot.kde()"
   ]
  },
  {
   "cell_type": "markdown",
   "metadata": {},
   "source": [
    "Every plot has their own set of parameters, defined by the subjacent function\n",
    "  \n",
    "Let's change the colors of the weight bar plot and show:"
   ]
  },
  {
   "cell_type": "code",
   "execution_count": 16,
   "metadata": {},
   "outputs": [
    {
     "data": {
      "text/plain": [
       "<AxesSubplot:>"
      ]
     },
     "execution_count": 16,
     "metadata": {},
     "output_type": "execute_result"
    },
    {
     "data": {
      "image/png": "[encoded data removed]",
      "text/plain": [
       "<Figure size 432x288 with 1 Axes>"
      ]
     },
     "metadata": {
      "needs_background": "light"
     },
     "output_type": "display_data"
    }
   ],
   "source": [
    "dm.plot.wbar(cmap=\"viridis\")"
   ]
  },
  {
   "cell_type": "markdown",
   "metadata": {},
   "source": [
    "## Data transformation\n",
    "\n",
    "Data in its current form is difficult to understand and analyze. On one \n",
    "hand they are out of scale, and on the other they have both minimizing and \n",
    "maximizing criteria.\n",
    "\n",
    "<div class=\"alert alert-info\">\n",
    "Note: Scikit-Criteria objective preference\n",
    "\n",
    "For a design decision *Scikit-Criteria* always prefers **Maximize** objectives.\n",
    "There are some functionalities that trigger warnings against  **Minimize** \n",
    "criteria, and others that directly and others directly fail.\n",
    "</div>\n",
    "\n",
    "To solve these problems, we will use two processors:\n",
    "\n",
    "- First `MinimizeToMaximize` which inverts the minimizing objectives.\n",
    "  by dividing out the inverse of each criterion value ($1/C_j$).\n",
    "- Second, `SumScaler` which will divide each criterion value by the total sum \n",
    "  of the criteria, taking all of them into the range $[0, 1]$.\n",
    "\n",
    "First we start by importing the two necessary modules."
   ]
  },
  {
   "cell_type": "code",
   "execution_count": 17,
   "metadata": {},
   "outputs": [],
   "source": [
    "from skcriteria.preprocessing import invert_objectives, scalers"
   ]
  },
  {
   "cell_type": "markdown",
   "metadata": {},
   "source": [
    "Data in its current form is difficult to understand and analyze. \n",
    "The first thing we must do now is to reverse the maximization criteria.\n",
    "\n",
    "This involves:\n",
    "\n",
    "1. Create the transformer and store it in the `inverter` variable.\n",
    "2. Apply the transformation by calling the `transform` method of the transformer and\n",
    "   passing it as parameter our decision matrix `dm`.\n",
    "3. Save the transformed decision matrix in a new variable `dmt`.\n",
    "\n",
    "In code:"
   ]
  },
  {
   "cell_type": "code",
   "execution_count": 18,
   "metadata": {},
   "outputs": [
    {
     "data": {
      "text/html": [
       "<div class=\"decisionmatrix\">\n",
       "<div>\n",
       "<style scoped=\"\">\n",
       "    .dataframe tbody tr th:only-of-type {\n",
       "        vertical-align: middle;\n",
       "    }\n",
       "\n",
       "    .dataframe tbody tr th {\n",
       "        vertical-align: top;\n",
       "    }\n",
       "\n",
       "    .dataframe thead th {\n",
       "        text-align: right;\n",
       "    }\n",
       "</style>\n",
       "<table border=\"1\" class=\"dataframe\">\n",
       "  <thead>\n",
       "    <tr style=\"text-align: right;\">\n",
       "      <th/>\n",
       "      <th>autonomy[▲ 0.50]</th>\n",
       "      <th>comfort[▲ 0.05]</th>\n",
       "      <th>price[▲ 0.45]</th>\n",
       "    </tr>\n",
       "  </thead>\n",
       "  <tbody>\n",
       "    <tr>\n",
       "      <th>VW</th>\n",
       "      <td>1</td>\n",
       "      <td>2</td>\n",
       "      <td>0.333333</td>\n",
       "    </tr>\n",
       "    <tr>\n",
       "      <th>Ford</th>\n",
       "      <td>4</td>\n",
       "      <td>5</td>\n",
       "      <td>0.166667</td>\n",
       "    </tr>\n",
       "  </tbody>\n",
       "</table>\n",
       "</div><em class=\"decisionmatrix-dim\">2 Alternatives x 3 Criteria</em>\n",
       "</div>"
      ],
      "text/plain": [
       "     autonomy[▲ 0.50] comfort[▲ 0.05] price[▲ 0.45]\n",
       "VW                  1               2      0.333333\n",
       "Ford                4               5      0.166667\n",
       "[2 Alternatives x 3 Criteria]"
      ]
     },
     "execution_count": 18,
     "metadata": {},
     "output_type": "execute_result"
    }
   ],
   "source": [
    "inverter = invert_objectives.MinimizeToMaximize()\n",
    "dmt = inverter.transform(dm)\n",
    "dmt"
   ]
  },
  {
   "cell_type": "markdown",
   "metadata": {},
   "source": [
    "The next step is to scale the values between $[0, 1]$ using the `SumScaler`.\n",
    "\n",
    "For this step we need\n",
    "\n",
    "1. Create the transformer and store it in the `inverter` variable.\n",
    "   In this case the *scalers* support a parameter called `target` which can \n",
    "   have three different values:\n",
    "   \n",
    "   - `target=\"matrix\"` The matrix $A$ is normalized.\n",
    "   - `target=\"weights\"` normalizes the weights $w$.\n",
    "   - `target=\"both\"` normalizes matrix $A$ and weights $w$.\n",
    "\n",
    "    In our case we are going to ask the scaler to scale both components of the \n",
    "    decision matrix (`target=\"both\"`)\n",
    "2. Apply the transformation by calling the `transform` method of the transformer and\n",
    "   passing it as parameter our decision matrix `dmt`.\n",
    "3. Save the transformed decision by overwriting the variable `dmt`.\n"
   ]
  },
  {
   "cell_type": "code",
   "execution_count": 19,
   "metadata": {},
   "outputs": [
    {
     "data": {
      "text/html": [
       "<div class=\"decisionmatrix\">\n",
       "<div>\n",
       "<style scoped=\"\">\n",
       "    .dataframe tbody tr th:only-of-type {\n",
       "        vertical-align: middle;\n",
       "    }\n",
       "\n",
       "    .dataframe tbody tr th {\n",
       "        vertical-align: top;\n",
       "    }\n",
       "\n",
       "    .dataframe thead th {\n",
       "        text-align: right;\n",
       "    }\n",
       "</style>\n",
       "<table border=\"1\" class=\"dataframe\">\n",
       "  <thead>\n",
       "    <tr style=\"text-align: right;\">\n",
       "      <th/>\n",
       "      <th>autonomy[▲ 0.50]</th>\n",
       "      <th>comfort[▲ 0.05]</th>\n",
       "      <th>price[▲ 0.45]</th>\n",
       "    </tr>\n",
       "  </thead>\n",
       "  <tbody>\n",
       "    <tr>\n",
       "      <th>VW</th>\n",
       "      <td>0.2</td>\n",
       "      <td>0.285714</td>\n",
       "      <td>0.666667</td>\n",
       "    </tr>\n",
       "    <tr>\n",
       "      <th>Ford</th>\n",
       "      <td>0.8</td>\n",
       "      <td>0.714286</td>\n",
       "      <td>0.333333</td>\n",
       "    </tr>\n",
       "  </tbody>\n",
       "</table>\n",
       "</div><em class=\"decisionmatrix-dim\">2 Alternatives x 3 Criteria</em>\n",
       "</div>"
      ],
      "text/plain": [
       "     autonomy[▲ 0.50] comfort[▲ 0.05] price[▲ 0.45]\n",
       "VW                0.2        0.285714      0.666667\n",
       "Ford              0.8        0.714286      0.333333\n",
       "[2 Alternatives x 3 Criteria]"
      ]
     },
     "execution_count": 19,
     "metadata": {},
     "output_type": "execute_result"
    }
   ],
   "source": [
    "scaler = scalers.SumScaler(target=\"both\")\n",
    "dmt = scaler.transform(dmt)\n",
    "dmt"
   ]
  },
  {
   "cell_type": "markdown",
   "metadata": {},
   "source": [
    "Now we can analyze if the matrix graphically by creating\n",
    "a graph for the matrix, and another for the weights.\n",
    "\n",
    "<div class=\"alert alert-info\">\n",
    "Note: Advanced plots with Matplotlib\n",
    "\n",
    "If you need more information on how to make graphs using \n",
    "*Matplotlib* please che this tutorial https://matplotlib.org/stable/tutorials/index\n",
    "\n",
    "</div>"
   ]
  },
  {
   "cell_type": "code",
   "execution_count": 20,
   "metadata": {},
   "outputs": [
    {
     "data": {
      "image/png": "[encoded data removed]",
      "text/plain": [
       "<Figure size 864x360 with 2 Axes>"
      ]
     },
     "metadata": {
      "needs_background": "light"
     },
     "output_type": "display_data"
    }
   ],
   "source": [
    "# we are going to user matplotlib capabilities of creat multiple figures\n",
    "import matplotlib.pyplot as plt\n",
    "\n",
    "# we create 2 axis with the same y axis\n",
    "fig, axs = plt.subplots(1, 2, figsize=(12, 5), sharey=True)\n",
    "\n",
    "# in the first axis we plot the criteria KDE\n",
    "dmt.plot.kde(ax=axs[0])\n",
    "axs[0].set_title(\"Criteria\")\n",
    "\n",
    "\n",
    "# in the second axis we plot the weights as bars\n",
    "dmt.plot.wbar(ax=axs[1])\n",
    "axs[1].set_title(\"Weights\")\n",
    "\n",
    "# adjust the layout of the figute based on the content\n",
    "fig.tight_layout()"
   ]
  },
  {
   "cell_type": "markdown",
   "metadata": {},
   "source": [
    "## Using this data to feed some MCDA methods\n",
    "\n",
    "### Weighted Sum Model\n",
    "\n",
    "Let's rank our dummy data by [Weighted Sum Model](https://en.wikipedia.org/wiki/Weighted_sum_model)\n",
    "\n",
    "First we need to import the required module"
   ]
  },
  {
   "cell_type": "code",
   "execution_count": 21,
   "metadata": {},
   "outputs": [],
   "source": [
    "from skcriteria.madm import simple"
   ]
  },
  {
   "cell_type": "markdown",
   "metadata": {},
   "source": [
    "To use the methods of MCDA structure we proceed in the same way as when using transformers:\n",
    "\n",
    "1. We create the decision maker and store it in some variable (`dec` in our case).\n",
    "2. Execute the `evaluate()` method inside the decision maker to create the result.\n",
    "3. We store the result in some variable (`rank` in our case).\n",
    "\n",
    "<div class=\"alert alert-info\">\n",
    "Note: Hyper-parameters\n",
    "\n",
    "Some multi-criteria methods support \"*hyper parameters*\", which are \n",
    "provided at the time of creation of the decision maker.\n",
    "\n",
    "We will see an example with the *ELECTRE-1* method later on.\n",
    "\n",
    "</div>\n"
   ]
  },
  {
   "cell_type": "code",
   "execution_count": 22,
   "metadata": {},
   "outputs": [
    {
     "data": {
      "text/html": [
       "<div class='skcresult-rank skcresult'>\n",
       "<style type=\"text/css\">\n",
       "</style>\n",
       "<table id=\"T_784cc_\">\n",
       "  <thead>\n",
       "    <tr>\n",
       "      <th class=\"blank level0\" >&nbsp;</th>\n",
       "      <th class=\"col_heading level0 col0\" >VW</th>\n",
       "      <th class=\"col_heading level0 col1\" >Ford</th>\n",
       "    </tr>\n",
       "  </thead>\n",
       "  <tbody>\n",
       "    <tr>\n",
       "      <th id=\"T_784cc_level0_row0\" class=\"row_heading level0 row0\" >Rank</th>\n",
       "      <td id=\"T_784cc_row0_col0\" class=\"data row0 col0\" >2</td>\n",
       "      <td id=\"T_784cc_row0_col1\" class=\"data row0 col1\" >1</td>\n",
       "    </tr>\n",
       "  </tbody>\n",
       "</table>\n",
       "<em class='skcresult-method'>Method: WeightedSumModel</em>\n",
       "</div>"
      ],
      "text/plain": [
       "      VW  Ford\n",
       "Rank   2     1\n",
       "[Method: WeightedSumModel]"
      ]
     },
     "execution_count": 22,
     "metadata": {},
     "output_type": "execute_result"
    }
   ],
   "source": [
    "dec = simple.WeightedSumModel()\n",
    "rank = dec.evaluate(dmt)  # we use the tansformed version of the data\n",
    "rank"
   ]
  },
  {
   "cell_type": "markdown",
   "metadata": {},
   "source": [
    "We can see that `WeightedSumModel` prefers the alternative *Ford* over the *VW*.\n",
    "\n",
    "\n",
    "We can access the intermediate calculators of the method through the `e_` \n",
    "attribute of the result object., which (in the case of `WeightedSumModel`) \n",
    "contains the resulting scores"
   ]
  },
  {
   "cell_type": "code",
   "execution_count": 23,
   "metadata": {},
   "outputs": [
    {
     "data": {
      "text/plain": [
       "extra({'score'})"
      ]
     },
     "execution_count": 23,
     "metadata": {},
     "output_type": "execute_result"
    }
   ],
   "source": [
    "rank.e_"
   ]
  },
  {
   "cell_type": "code",
   "execution_count": 24,
   "metadata": {},
   "outputs": [
    {
     "data": {
      "text/plain": [
       "array([0.41428571, 0.58571429])"
      ]
     },
     "execution_count": 24,
     "metadata": {},
     "output_type": "execute_result"
    }
   ],
   "source": [
    "rank.e_.score"
   ]
  },
  {
   "cell_type": "markdown",
   "metadata": {},
   "source": [
    "Obviously you can acces all the parts of the ranking as attributes of \n",
    "result object"
   ]
  },
  {
   "cell_type": "code",
   "execution_count": 25,
   "metadata": {},
   "outputs": [
    {
     "data": {
      "text/plain": [
       "array([2, 1])"
      ]
     },
     "execution_count": 25,
     "metadata": {},
     "output_type": "execute_result"
    }
   ],
   "source": [
    "rank.rank_"
   ]
  },
  {
   "cell_type": "code",
   "execution_count": 26,
   "metadata": {},
   "outputs": [
    {
     "data": {
      "text/plain": [
       "array(['VW', 'Ford'], dtype=object)"
      ]
     },
     "execution_count": 26,
     "metadata": {},
     "output_type": "execute_result"
    }
   ],
   "source": [
    "rank.alternatives"
   ]
  },
  {
   "cell_type": "code",
   "execution_count": 27,
   "metadata": {},
   "outputs": [
    {
     "data": {
      "text/plain": [
       "'WeightedSumModel'"
      ]
     },
     "execution_count": 27,
     "metadata": {},
     "output_type": "execute_result"
    }
   ],
   "source": [
    "rank.method"
   ]
  },
  {
   "cell_type": "markdown",
   "metadata": {},
   "source": [
    "### Technique for Order of Preference by Similarity to Ideal Solution (TOPSIS)\n",
    "\n",
    "The following example will be approached with the \n",
    "[TOPSIS](https://en.wikipedia.org/wiki/TOPSIS). This method was chosen because \n",
    "of its popularity and because it uses another scaling technique \n",
    "(`VectorScaler`). \n",
    "\n",
    "So the first thing one would intuitively do is to invert the original matrix \n",
    "criteria (`dm`) and then apply the  normalization; but if we have several \n",
    "matrices or several methods this solution becomes cumbersome.\n",
    "\n",
    "The proposed solution of *Scikit-Criteria* is to offer `pipelines`. The\n",
    "pipelines combine one or several transformers and one decision-maker the\n",
    "facilitate the execution of the experiments.\n",
    "\n",
    "So, let's import the necessary modules for *TOPSIS* and the *pipelines*:"
   ]
  },
  {
   "cell_type": "code",
   "execution_count": 28,
   "metadata": {},
   "outputs": [],
   "source": [
    "from skcriteria.madm import similarity  # here lives TOPSIS\n",
    "from skcriteria.pipeline import mkpipe  # this function is for create pipelines"
   ]
  },
  {
   "cell_type": "markdown",
   "metadata": {},
   "source": [
    "The trick is that the weights still need to be scaled with `SumScaler` so be \n",
    "careful to assign the *targets* correctly in each transformer."
   ]
  },
  {
   "cell_type": "code",
   "execution_count": 29,
   "metadata": {},
   "outputs": [
    {
     "data": {
      "text/plain": [
       "SKCPipeline(steps=[('minimizetomaximize', MinimizeToMaximize()), ('vectorscaler', VectorScaler(target='matrix')), ('sumscaler', SumScaler(target='weights')), ('topsis', TOPSIS())])"
      ]
     },
     "execution_count": 29,
     "metadata": {},
     "output_type": "execute_result"
    }
   ],
   "source": [
    "pipe = mkpipe(\n",
    "    invert_objectives.MinimizeToMaximize(),\n",
    "    scalers.VectorScaler(target=\"matrix\"),  # this scaler transform the matrix\n",
    "    scalers.SumScaler(target=\"weights\"),  # and this transform the weights\n",
    "    similarity.TOPSIS(),\n",
    ")\n",
    "\n",
    "pipe"
   ]
  },
  {
   "cell_type": "markdown",
   "metadata": {},
   "source": [
    "Now we can directly call the pipeline `evaluate()` method with the original\n",
    "decision-matrix (`dm`).\n",
    "\n",
    "This method sequentially executes the three transformers and finally the evaluator to obtain a\n",
    "result"
   ]
  },
  {
   "cell_type": "code",
   "execution_count": 30,
   "metadata": {},
   "outputs": [
    {
     "data": {
      "text/html": [
       "<div class='skcresult-rank skcresult'>\n",
       "<style type=\"text/css\">\n",
       "</style>\n",
       "<table id=\"T_91532_\">\n",
       "  <thead>\n",
       "    <tr>\n",
       "      <th class=\"blank level0\" >&nbsp;</th>\n",
       "      <th class=\"col_heading level0 col0\" >VW</th>\n",
       "      <th class=\"col_heading level0 col1\" >Ford</th>\n",
       "    </tr>\n",
       "  </thead>\n",
       "  <tbody>\n",
       "    <tr>\n",
       "      <th id=\"T_91532_level0_row0\" class=\"row_heading level0 row0\" >Rank</th>\n",
       "      <td id=\"T_91532_row0_col0\" class=\"data row0 col0\" >2</td>\n",
       "      <td id=\"T_91532_row0_col1\" class=\"data row0 col1\" >1</td>\n",
       "    </tr>\n",
       "  </tbody>\n",
       "</table>\n",
       "<em class='skcresult-method'>Method: TOPSIS</em>\n",
       "</div>"
      ],
      "text/plain": [
       "      VW  Ford\n",
       "Rank   2     1\n",
       "[Method: TOPSIS]"
      ]
     },
     "execution_count": 30,
     "metadata": {},
     "output_type": "execute_result"
    }
   ],
   "source": [
    "rank = pipe.evaluate(dm)\n",
    "rank"
   ]
  },
  {
   "cell_type": "code",
   "execution_count": 31,
   "metadata": {},
   "outputs": [
    {
     "name": "stdout",
     "output_type": "stream",
     "text": [
      "extra({'similarity', 'ideal', 'anti_ideal'})\n",
      "Ideal: [0.48507125 0.04642383 0.40249224]\n",
      "Anti-Ideal: [0.12126781 0.01856953 0.20124612]\n",
      "Similarity index: [0.35548671 0.64451329]\n"
     ]
    }
   ],
   "source": [
    "print(rank.e_)\n",
    "print(\"Ideal:\", rank.e_.ideal)\n",
    "print(\"Anti-Ideal:\", rank.e_.anti_ideal)\n",
    "print(\"Similarity index:\", rank.e_.similarity)"
   ]
  },
  {
   "cell_type": "markdown",
   "metadata": {},
   "source": [
    "Where the `ideal` and `anti_ideal` are the normalizated sintetic better and \n",
    "worst altenatives created by TOPSIS, and the `similarity` is how far from the \n",
    "*anti-ideal* and how closer to the *ideal* are the real alternatives"
   ]
  },
  {
   "cell_type": "markdown",
   "metadata": {},
   "source": [
    "### ÉLimination et Choix Traduisant la REalité (ELECTRE)\n",
    "\n",
    "For our final example, we are going to use the\n",
    "method [ELECTRE-I](https://en.wikipedia.org/wiki/%C3%89LECTRE) which has two\n",
    "particularities:\n",
    "\n",
    "1. It does not return a ranking but a kernel.\n",
    "2. It supports two hyper-parameters: a concordance threshold `p` and a discordance threshold `q`. \n",
    "\n",
    "Let's test the default threshold (`p=0.65, q=0.35`) but with two normalizations\n",
    "for different matrix: `VectorScaler` and `SumScaler`.\n",
    "\n",
    "For this we will make two pipelines"
   ]
  },
  {
   "cell_type": "code",
   "execution_count": 32,
   "metadata": {},
   "outputs": [],
   "source": [
    "from skcriteria.madm import electre\n",
    "\n",
    "\n",
    "pipe_vector = mkpipe(\n",
    "    invert_objectives.MinimizeToMaximize(),\n",
    "    scalers.VectorScaler(target=\"matrix\"),  # this scaler transform the matrix\n",
    "    scalers.SumScaler(target=\"weights\"),  # and this transform the weights\n",
    "    electre.ELECTRE1(p=0.65, q=0.35),\n",
    ")\n",
    "\n",
    "pipe_sum = mkpipe(\n",
    "    invert_objectives.MinimizeToMaximize(),\n",
    "    scalers.SumScaler(target=\"weights\"),  # transform the matrix and weights\n",
    "    electre.ELECTRE1(p=0.65, q=0.35),\n",
    ")"
   ]
  },
  {
   "cell_type": "code",
   "execution_count": 33,
   "metadata": {},
   "outputs": [
    {
     "data": {
      "text/html": [
       "<div class='skcresult-kernel skcresult'>\n",
       "<div>\n",
       "<style scoped>\n",
       "    .dataframe tbody tr th:only-of-type {\n",
       "        vertical-align: middle;\n",
       "    }\n",
       "\n",
       "    .dataframe tbody tr th {\n",
       "        vertical-align: top;\n",
       "    }\n",
       "\n",
       "    .dataframe thead th {\n",
       "        text-align: right;\n",
       "    }\n",
       "</style>\n",
       "<table border=\"1\" class=\"dataframe\">\n",
       "  <thead>\n",
       "    <tr style=\"text-align: right;\">\n",
       "      <th></th>\n",
       "      <th>VW</th>\n",
       "      <th>Ford</th>\n",
       "    </tr>\n",
       "  </thead>\n",
       "  <tbody>\n",
       "    <tr>\n",
       "      <th>Kernel</th>\n",
       "      <td>True</td>\n",
       "      <td>True</td>\n",
       "    </tr>\n",
       "  </tbody>\n",
       "</table>\n",
       "</div><em class='skcresult-method'>Method: ELECTRE1</em>\n",
       "</div>"
      ],
      "text/plain": [
       "          VW  Ford\n",
       "Kernel  True  True\n",
       "[Method: ELECTRE1]"
      ]
     },
     "execution_count": 33,
     "metadata": {},
     "output_type": "execute_result"
    }
   ],
   "source": [
    "kernel_vector = pipe_vector.evaluate(dm)\n",
    "kernel_vector"
   ]
  },
  {
   "cell_type": "code",
   "execution_count": 34,
   "metadata": {},
   "outputs": [
    {
     "data": {
      "text/html": [
       "<div class='skcresult-kernel skcresult'>\n",
       "<div>\n",
       "<style scoped>\n",
       "    .dataframe tbody tr th:only-of-type {\n",
       "        vertical-align: middle;\n",
       "    }\n",
       "\n",
       "    .dataframe tbody tr th {\n",
       "        vertical-align: top;\n",
       "    }\n",
       "\n",
       "    .dataframe thead th {\n",
       "        text-align: right;\n",
       "    }\n",
       "</style>\n",
       "<table border=\"1\" class=\"dataframe\">\n",
       "  <thead>\n",
       "    <tr style=\"text-align: right;\">\n",
       "      <th></th>\n",
       "      <th>VW</th>\n",
       "      <th>Ford</th>\n",
       "    </tr>\n",
       "  </thead>\n",
       "  <tbody>\n",
       "    <tr>\n",
       "      <th>Kernel</th>\n",
       "      <td>True</td>\n",
       "      <td>True</td>\n",
       "    </tr>\n",
       "  </tbody>\n",
       "</table>\n",
       "</div><em class='skcresult-method'>Method: ELECTRE1</em>\n",
       "</div>"
      ],
      "text/plain": [
       "          VW  Ford\n",
       "Kernel  True  True\n",
       "[Method: ELECTRE1]"
      ]
     },
     "execution_count": 34,
     "metadata": {},
     "output_type": "execute_result"
    }
   ],
   "source": [
    "kernel_sum = pipe_sum.evaluate(dm)\n",
    "kernel_sum"
   ]
  },
  {
   "cell_type": "markdown",
   "metadata": {},
   "source": [
    "As can be seen for this case both scalings give the same results"
   ]
  },
  {
   "cell_type": "code",
   "execution_count": 35,
   "metadata": {},
   "outputs": [
    {
     "name": "stdout",
     "output_type": "stream",
     "text": [
      "Scikit-Criteria version: 0.5.dev0\n",
      "Running datetime: 2021-12-14 19:12:24.761023\n"
     ]
    }
   ],
   "source": [
    "import datetime as dt\n",
    "import skcriteria\n",
    "\n",
    "print(\"Scikit-Criteria version:\", skcriteria.VERSION)\n",
    "print(\"Running datetime:\", dt.datetime.now())"
   ]
  }
 ],
 "metadata": {
  "celltoolbar": "Edit Metadata",
  "interpreter": {
   "hash": "0a948a28a0ef94db8982fe8442467cdefb8d68ae66a4b8f3824263fcc702cc89"
  },
  "kernelspec": {
   "display_name": "Python 3",
   "language": "python",
   "name": "python3"
  },
  "language_info": {
   "codemirror_mode": {
    "name": "ipython",
    "version": 3
   },
   "file_extension": ".py",
   "mimetype": "text/x-python",
   "name": "python",
   "nbconvert_exporter": "python",
   "pygments_lexer": "ipython3",
   "version": "3.9.9"
  }
 },
 "nbformat": 4,
 "nbformat_minor": 2
}
